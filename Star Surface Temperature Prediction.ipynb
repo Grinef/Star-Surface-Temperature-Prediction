{
 "cells": [
  {
   "cell_type": "markdown",
   "id": "corresponding-armstrong",
   "metadata": {
    "ExecuteTime": {
     "end_time": "2022-05-05T04:58:05.692448Z",
     "start_time": "2022-05-05T04:58:05.688565Z"
    }
   },
   "source": [
    "## Загрузка данных"
   ]
  },
  {
   "cell_type": "code",
   "execution_count": 1,
   "id": "f0601bfe",
   "metadata": {},
   "outputs": [],
   "source": [
    "# импорт модулей\n",
    "import pandas as pd\n",
    "import numpy as np\n",
    "from math import ceil\n",
    "\n",
    "import matplotlib.pyplot as plt\n",
    "import seaborn as sns\n",
    "\n",
    "from sklearn.model_selection import train_test_split\n",
    "\n",
    "from sklearn.preprocessing import OneHotEncoder\n",
    "from sklearn.preprocessing import StandardScaler\n",
    "from sklearn.compose import ColumnTransformer\n",
    "import torch\n",
    "from torch import nn\n",
    "\n",
    "from sklearn.metrics import mean_squared_error\n",
    "\n",
    "np.random.seed(42)"
   ]
  },
  {
   "cell_type": "code",
   "execution_count": 2,
   "id": "spectacular-folder",
   "metadata": {},
   "outputs": [],
   "source": [
    "df = pd.read_csv('/datasets/6_class.csv', index_col=0)"
   ]
  },
  {
   "cell_type": "markdown",
   "id": "simple-subdivision",
   "metadata": {},
   "source": [
    "## Предобработка и анализ данных"
   ]
  },
  {
   "cell_type": "code",
   "execution_count": 3,
   "id": "00f7ad9f",
   "metadata": {},
   "outputs": [
    {
     "name": "stdout",
     "output_type": "stream",
     "text": [
      "<class 'pandas.core.frame.DataFrame'>\n",
      "Int64Index: 240 entries, 0 to 239\n",
      "Data columns (total 6 columns):\n",
      " #   Column                  Non-Null Count  Dtype  \n",
      "---  ------                  --------------  -----  \n",
      " 0   Temperature (K)         240 non-null    int64  \n",
      " 1   Luminosity(L/Lo)        240 non-null    float64\n",
      " 2   Radius(R/Ro)            240 non-null    float64\n",
      " 3   Absolute magnitude(Mv)  240 non-null    float64\n",
      " 4   Star type               240 non-null    int64  \n",
      " 5   Star color              240 non-null    object \n",
      "dtypes: float64(3), int64(2), object(1)\n",
      "memory usage: 13.1+ KB\n"
     ]
    }
   ],
   "source": [
    "df.info()"
   ]
  },
  {
   "cell_type": "code",
   "execution_count": 4,
   "id": "5a3da7c9",
   "metadata": {},
   "outputs": [],
   "source": [
    "df.columns = ['temperature', 'luminosity', 'radius', 'absolute_magnitude', 'star_type', 'star_color']"
   ]
  },
  {
   "cell_type": "markdown",
   "id": "04aa25a5",
   "metadata": {},
   "source": [
    "### Категориальные данные:"
   ]
  },
  {
   "cell_type": "code",
   "execution_count": 5,
   "id": "flush-dream",
   "metadata": {},
   "outputs": [
    {
     "data": {
      "text/html": [
       "<div>\n",
       "<style scoped>\n",
       "    .dataframe tbody tr th:only-of-type {\n",
       "        vertical-align: middle;\n",
       "    }\n",
       "\n",
       "    .dataframe tbody tr th {\n",
       "        vertical-align: top;\n",
       "    }\n",
       "\n",
       "    .dataframe thead th {\n",
       "        text-align: right;\n",
       "    }\n",
       "</style>\n",
       "<table border=\"1\" class=\"dataframe\">\n",
       "  <thead>\n",
       "    <tr style=\"text-align: right;\">\n",
       "      <th>star_color</th>\n",
       "      <th>Blue</th>\n",
       "      <th>Blue</th>\n",
       "      <th>Blue White</th>\n",
       "      <th>Blue white</th>\n",
       "      <th>Blue white</th>\n",
       "      <th>Blue-White</th>\n",
       "      <th>Blue-white</th>\n",
       "      <th>Orange</th>\n",
       "      <th>Orange-Red</th>\n",
       "      <th>Pale yellow orange</th>\n",
       "      <th>Red</th>\n",
       "      <th>White</th>\n",
       "      <th>White-Yellow</th>\n",
       "      <th>Whitish</th>\n",
       "      <th>Yellowish</th>\n",
       "      <th>Yellowish White</th>\n",
       "      <th>white</th>\n",
       "      <th>yellow-white</th>\n",
       "      <th>yellowish</th>\n",
       "    </tr>\n",
       "  </thead>\n",
       "  <tbody>\n",
       "    <tr>\n",
       "      <th>star_color</th>\n",
       "      <td>55</td>\n",
       "      <td>1</td>\n",
       "      <td>10</td>\n",
       "      <td>3</td>\n",
       "      <td>1</td>\n",
       "      <td>1</td>\n",
       "      <td>26</td>\n",
       "      <td>2</td>\n",
       "      <td>1</td>\n",
       "      <td>1</td>\n",
       "      <td>112</td>\n",
       "      <td>7</td>\n",
       "      <td>1</td>\n",
       "      <td>2</td>\n",
       "      <td>1</td>\n",
       "      <td>3</td>\n",
       "      <td>3</td>\n",
       "      <td>8</td>\n",
       "      <td>2</td>\n",
       "    </tr>\n",
       "  </tbody>\n",
       "</table>\n",
       "</div>"
      ],
      "text/plain": [
       "star_color  Blue  Blue   Blue White  Blue white  Blue white   Blue-White  \\\n",
       "star_color    55      1          10           3            1           1   \n",
       "\n",
       "star_color  Blue-white  Orange  Orange-Red  Pale yellow orange  Red  White  \\\n",
       "star_color          26       2           1                   1  112      7   \n",
       "\n",
       "star_color  White-Yellow  Whitish  Yellowish  Yellowish White  white  \\\n",
       "star_color             1        2          1                3      3   \n",
       "\n",
       "star_color  yellow-white  yellowish  \n",
       "star_color             8          2  "
      ]
     },
     "metadata": {},
     "output_type": "display_data"
    },
    {
     "name": "stdout",
     "output_type": "stream",
     "text": [
      "Всего классов: 19\n"
     ]
    }
   ],
   "source": [
    "# сначала изучим данные о цветах звёзд.\n",
    "colors_data = df.groupby('star_color').agg({'star_color': 'count'}).T\n",
    "display(colors_data)\n",
    "print('Всего классов:', colors_data.shape[1])"
   ]
  },
  {
   "cell_type": "markdown",
   "id": "7c807607",
   "metadata": {},
   "source": [
    "*В данных много неявных дубликатов. Испарвим это.*"
   ]
  },
  {
   "cell_type": "code",
   "execution_count": 6,
   "id": "d91291bb",
   "metadata": {},
   "outputs": [
    {
     "data": {
      "image/png": "[encoded data removed]",
      "text/plain": [
       "<Figure size 540x540 with 1 Axes>"
      ]
     },
     "metadata": {},
     "output_type": "display_data"
    }
   ],
   "source": [
    "# преобразуем значения данных и избавимся от явных/неявных дубликатов\n",
    "df['star_color'] = [v.lower().replace('-', ' ').strip() for v in df['star_color']] \n",
    "df['star_color'] = df['star_color'].replace({'white yellow': 'other',\n",
    "                         'orange red': 'other',\n",
    "                         'whitish': 'other',\n",
    "                         'pale yellow orange': 'other',\n",
    "                         'orange': 'other',\n",
    "                         'yellow white': 'other',\n",
    "                         'yellowish': 'other',\n",
    "                         'yellowish white': 'other',\n",
    "                         'yellow white': 'other'})\n",
    "\n",
    "\n",
    "# заново инциаилизируем объект, уже после предобработки\n",
    "colors_data = df.groupby('star_color')['star_color'].agg('count')\n",
    "\n",
    "fig = plt.figure(figsize=(7.5, 7.5))\n",
    "fig.patch.set_facecolor('#fafdff')\n",
    "\n",
    "plt.pie(colors_data.values,\n",
    "        labels=colors_data.index,\n",
    "        autopct='%1.1f%%',\n",
    "        colors=['#4065f7', 'lightblue', 'beige', 'red', 'white'])\n",
    "plt.title('Разделение классов, по цветам, после преобразования.')\n",
    "plt.show()"
   ]
  },
  {
   "cell_type": "markdown",
   "id": "419b2fa5",
   "metadata": {},
   "source": [
    "**Вместо 19 классов, получили 5. Так моделе будет гораздо проще работать с данными.**"
   ]
  },
  {
   "cell_type": "code",
   "execution_count": 7,
   "id": "46ce6e72",
   "metadata": {},
   "outputs": [
    {
     "data": {
      "text/plain": [
       "star_type\n",
       "0    40\n",
       "1    40\n",
       "2    40\n",
       "3    40\n",
       "4    40\n",
       "5    40\n",
       "Name: star_type, dtype: int64"
      ]
     },
     "execution_count": 7,
     "metadata": {},
     "output_type": "execute_result"
    }
   ],
   "source": [
    "df.groupby('star_type')['star_type'].agg('count')"
   ]
  },
  {
   "cell_type": "markdown",
   "id": "3b95f562",
   "metadata": {},
   "source": [
    "**Во втором категориальном признаке star_type - наблюдается идеальный баланс классов.**"
   ]
  },
  {
   "cell_type": "markdown",
   "id": "7b59cda9",
   "metadata": {},
   "source": [
    "### Количественные данные:"
   ]
  },
  {
   "cell_type": "code",
   "execution_count": 8,
   "id": "31f7a93f",
   "metadata": {},
   "outputs": [
    {
     "data": {
      "image/png": "[encoded data removed]",
      "text/plain": [
       "<Figure size 1080x360 with 2 Axes>"
      ]
     },
     "metadata": {
      "needs_background": "light"
     },
     "output_type": "display_data"
    }
   ],
   "source": [
    "# в первую очередь изучим целевую переменную\n",
    "fig, (ax1, ax2) = plt.subplots(1, 2)\n",
    "fig.set_figheight(5)\n",
    "fig.set_figwidth(15)\n",
    "ax1.hist(df['temperature'].values, color='green', bins=150)\n",
    "ax2.boxplot(df['temperature'])\n",
    "fig.suptitle('Распределение целевой переменной - температуры')\n",
    "plt.show()"
   ]
  },
  {
   "cell_type": "markdown",
   "id": "fe5ec050",
   "metadata": {},
   "source": [
    "Целевая переменная распределана не нормально. Требуется дополнительное изучение:\n",
    "\n",
    "    1) исследуем количество выбросов;\n",
    "    2) подробно посмотрим причину их появления;\n",
    "    3) определим какое влияение они оказывают на данные;\n",
    "    4) решим, оставить выбросы или же избавиться от них."
   ]
  },
  {
   "cell_type": "code",
   "execution_count": 9,
   "id": "fc57ed99",
   "metadata": {},
   "outputs": [
    {
     "data": {
      "text/html": [
       "<div>\n",
       "<style scoped>\n",
       "    .dataframe tbody tr th:only-of-type {\n",
       "        vertical-align: middle;\n",
       "    }\n",
       "\n",
       "    .dataframe tbody tr th {\n",
       "        vertical-align: top;\n",
       "    }\n",
       "\n",
       "    .dataframe thead th {\n",
       "        text-align: right;\n",
       "    }\n",
       "</style>\n",
       "<table border=\"1\" class=\"dataframe\">\n",
       "  <thead>\n",
       "    <tr style=\"text-align: right;\">\n",
       "      <th></th>\n",
       "      <th>temperature</th>\n",
       "      <th>luminosity</th>\n",
       "      <th>radius</th>\n",
       "      <th>absolute_magnitude</th>\n",
       "      <th>star_type</th>\n",
       "      <th>star_color</th>\n",
       "    </tr>\n",
       "  </thead>\n",
       "  <tbody>\n",
       "    <tr>\n",
       "      <th>20</th>\n",
       "      <td>25000</td>\n",
       "      <td>0.05600</td>\n",
       "      <td>0.0084</td>\n",
       "      <td>10.580</td>\n",
       "      <td>2</td>\n",
       "      <td>blue white</td>\n",
       "    </tr>\n",
       "    <tr>\n",
       "      <th>30</th>\n",
       "      <td>39000</td>\n",
       "      <td>204000.00000</td>\n",
       "      <td>10.6000</td>\n",
       "      <td>-4.700</td>\n",
       "      <td>3</td>\n",
       "      <td>blue</td>\n",
       "    </tr>\n",
       "    <tr>\n",
       "      <th>31</th>\n",
       "      <td>30000</td>\n",
       "      <td>28840.00000</td>\n",
       "      <td>6.3000</td>\n",
       "      <td>-4.200</td>\n",
       "      <td>3</td>\n",
       "      <td>blue white</td>\n",
       "    </tr>\n",
       "    <tr>\n",
       "      <th>49</th>\n",
       "      <td>33750</td>\n",
       "      <td>220000.00000</td>\n",
       "      <td>26.0000</td>\n",
       "      <td>-6.100</td>\n",
       "      <td>4</td>\n",
       "      <td>blue</td>\n",
       "    </tr>\n",
       "    <tr>\n",
       "      <th>99</th>\n",
       "      <td>36108</td>\n",
       "      <td>198000.00000</td>\n",
       "      <td>10.2000</td>\n",
       "      <td>-4.400</td>\n",
       "      <td>3</td>\n",
       "      <td>blue</td>\n",
       "    </tr>\n",
       "    <tr>\n",
       "      <th>100</th>\n",
       "      <td>33300</td>\n",
       "      <td>240000.00000</td>\n",
       "      <td>12.0000</td>\n",
       "      <td>-6.500</td>\n",
       "      <td>4</td>\n",
       "      <td>blue</td>\n",
       "    </tr>\n",
       "    <tr>\n",
       "      <th>101</th>\n",
       "      <td>40000</td>\n",
       "      <td>813000.00000</td>\n",
       "      <td>14.0000</td>\n",
       "      <td>-6.230</td>\n",
       "      <td>4</td>\n",
       "      <td>blue</td>\n",
       "    </tr>\n",
       "    <tr>\n",
       "      <th>102</th>\n",
       "      <td>23000</td>\n",
       "      <td>127000.00000</td>\n",
       "      <td>36.0000</td>\n",
       "      <td>-5.760</td>\n",
       "      <td>4</td>\n",
       "      <td>blue</td>\n",
       "    </tr>\n",
       "    <tr>\n",
       "      <th>106</th>\n",
       "      <td>24630</td>\n",
       "      <td>363000.00000</td>\n",
       "      <td>63.0000</td>\n",
       "      <td>-5.830</td>\n",
       "      <td>4</td>\n",
       "      <td>blue</td>\n",
       "    </tr>\n",
       "    <tr>\n",
       "      <th>108</th>\n",
       "      <td>24345</td>\n",
       "      <td>142000.00000</td>\n",
       "      <td>57.0000</td>\n",
       "      <td>-6.240</td>\n",
       "      <td>4</td>\n",
       "      <td>blue</td>\n",
       "    </tr>\n",
       "    <tr>\n",
       "      <th>109</th>\n",
       "      <td>33421</td>\n",
       "      <td>352000.00000</td>\n",
       "      <td>67.0000</td>\n",
       "      <td>-5.790</td>\n",
       "      <td>4</td>\n",
       "      <td>blue</td>\n",
       "    </tr>\n",
       "    <tr>\n",
       "      <th>150</th>\n",
       "      <td>29560</td>\n",
       "      <td>188000.00000</td>\n",
       "      <td>6.0200</td>\n",
       "      <td>-4.010</td>\n",
       "      <td>3</td>\n",
       "      <td>blue white</td>\n",
       "    </tr>\n",
       "    <tr>\n",
       "      <th>154</th>\n",
       "      <td>25070</td>\n",
       "      <td>14500.00000</td>\n",
       "      <td>5.9200</td>\n",
       "      <td>-3.980</td>\n",
       "      <td>3</td>\n",
       "      <td>blue white</td>\n",
       "    </tr>\n",
       "    <tr>\n",
       "      <th>155</th>\n",
       "      <td>28700</td>\n",
       "      <td>16790.00000</td>\n",
       "      <td>6.4000</td>\n",
       "      <td>-4.090</td>\n",
       "      <td>3</td>\n",
       "      <td>blue white</td>\n",
       "    </tr>\n",
       "    <tr>\n",
       "      <th>156</th>\n",
       "      <td>26140</td>\n",
       "      <td>14520.00000</td>\n",
       "      <td>5.4900</td>\n",
       "      <td>-3.800</td>\n",
       "      <td>3</td>\n",
       "      <td>blue white</td>\n",
       "    </tr>\n",
       "    <tr>\n",
       "      <th>159</th>\n",
       "      <td>37800</td>\n",
       "      <td>202900.00000</td>\n",
       "      <td>6.8600</td>\n",
       "      <td>-4.560</td>\n",
       "      <td>3</td>\n",
       "      <td>blue</td>\n",
       "    </tr>\n",
       "    <tr>\n",
       "      <th>160</th>\n",
       "      <td>25390</td>\n",
       "      <td>223000.00000</td>\n",
       "      <td>57.0000</td>\n",
       "      <td>-5.920</td>\n",
       "      <td>4</td>\n",
       "      <td>blue</td>\n",
       "    </tr>\n",
       "    <tr>\n",
       "      <th>167</th>\n",
       "      <td>26373</td>\n",
       "      <td>198000.00000</td>\n",
       "      <td>39.0000</td>\n",
       "      <td>-5.830</td>\n",
       "      <td>4</td>\n",
       "      <td>blue</td>\n",
       "    </tr>\n",
       "    <tr>\n",
       "      <th>173</th>\n",
       "      <td>26000</td>\n",
       "      <td>316000.00000</td>\n",
       "      <td>1679.0000</td>\n",
       "      <td>-9.100</td>\n",
       "      <td>5</td>\n",
       "      <td>blue</td>\n",
       "    </tr>\n",
       "    <tr>\n",
       "      <th>179</th>\n",
       "      <td>24490</td>\n",
       "      <td>248490.00000</td>\n",
       "      <td>1134.5000</td>\n",
       "      <td>-8.240</td>\n",
       "      <td>5</td>\n",
       "      <td>blue white</td>\n",
       "    </tr>\n",
       "    <tr>\n",
       "      <th>206</th>\n",
       "      <td>24020</td>\n",
       "      <td>0.00159</td>\n",
       "      <td>0.0127</td>\n",
       "      <td>10.550</td>\n",
       "      <td>2</td>\n",
       "      <td>blue</td>\n",
       "    </tr>\n",
       "    <tr>\n",
       "      <th>207</th>\n",
       "      <td>23092</td>\n",
       "      <td>0.00132</td>\n",
       "      <td>0.0104</td>\n",
       "      <td>10.180</td>\n",
       "      <td>2</td>\n",
       "      <td>blue</td>\n",
       "    </tr>\n",
       "    <tr>\n",
       "      <th>214</th>\n",
       "      <td>34190</td>\n",
       "      <td>198200.00000</td>\n",
       "      <td>6.3900</td>\n",
       "      <td>-4.570</td>\n",
       "      <td>3</td>\n",
       "      <td>blue</td>\n",
       "    </tr>\n",
       "    <tr>\n",
       "      <th>215</th>\n",
       "      <td>32460</td>\n",
       "      <td>173800.00000</td>\n",
       "      <td>6.2370</td>\n",
       "      <td>-4.360</td>\n",
       "      <td>3</td>\n",
       "      <td>blue</td>\n",
       "    </tr>\n",
       "    <tr>\n",
       "      <th>220</th>\n",
       "      <td>23678</td>\n",
       "      <td>244290.00000</td>\n",
       "      <td>35.0000</td>\n",
       "      <td>-6.270</td>\n",
       "      <td>4</td>\n",
       "      <td>blue</td>\n",
       "    </tr>\n",
       "    <tr>\n",
       "      <th>223</th>\n",
       "      <td>23440</td>\n",
       "      <td>537430.00000</td>\n",
       "      <td>81.0000</td>\n",
       "      <td>-5.975</td>\n",
       "      <td>4</td>\n",
       "      <td>blue</td>\n",
       "    </tr>\n",
       "    <tr>\n",
       "      <th>228</th>\n",
       "      <td>23095</td>\n",
       "      <td>347820.00000</td>\n",
       "      <td>86.0000</td>\n",
       "      <td>-5.905</td>\n",
       "      <td>4</td>\n",
       "      <td>blue</td>\n",
       "    </tr>\n",
       "    <tr>\n",
       "      <th>230</th>\n",
       "      <td>24145</td>\n",
       "      <td>382993.00000</td>\n",
       "      <td>1494.0000</td>\n",
       "      <td>-8.840</td>\n",
       "      <td>5</td>\n",
       "      <td>blue white</td>\n",
       "    </tr>\n",
       "    <tr>\n",
       "      <th>231</th>\n",
       "      <td>38234</td>\n",
       "      <td>272830.00000</td>\n",
       "      <td>1356.0000</td>\n",
       "      <td>-9.290</td>\n",
       "      <td>5</td>\n",
       "      <td>blue</td>\n",
       "    </tr>\n",
       "    <tr>\n",
       "      <th>232</th>\n",
       "      <td>32489</td>\n",
       "      <td>648430.00000</td>\n",
       "      <td>1948.5000</td>\n",
       "      <td>-10.840</td>\n",
       "      <td>5</td>\n",
       "      <td>blue</td>\n",
       "    </tr>\n",
       "    <tr>\n",
       "      <th>233</th>\n",
       "      <td>27739</td>\n",
       "      <td>849420.00000</td>\n",
       "      <td>1252.0000</td>\n",
       "      <td>-7.590</td>\n",
       "      <td>5</td>\n",
       "      <td>blue white</td>\n",
       "    </tr>\n",
       "    <tr>\n",
       "      <th>235</th>\n",
       "      <td>38940</td>\n",
       "      <td>374830.00000</td>\n",
       "      <td>1356.0000</td>\n",
       "      <td>-9.930</td>\n",
       "      <td>5</td>\n",
       "      <td>blue</td>\n",
       "    </tr>\n",
       "    <tr>\n",
       "      <th>236</th>\n",
       "      <td>30839</td>\n",
       "      <td>834042.00000</td>\n",
       "      <td>1194.0000</td>\n",
       "      <td>-10.630</td>\n",
       "      <td>5</td>\n",
       "      <td>blue</td>\n",
       "    </tr>\n",
       "    <tr>\n",
       "      <th>239</th>\n",
       "      <td>37882</td>\n",
       "      <td>294903.00000</td>\n",
       "      <td>1783.0000</td>\n",
       "      <td>-7.800</td>\n",
       "      <td>5</td>\n",
       "      <td>blue</td>\n",
       "    </tr>\n",
       "  </tbody>\n",
       "</table>\n",
       "</div>"
      ],
      "text/plain": [
       "     temperature    luminosity     radius  absolute_magnitude  star_type  \\\n",
       "20         25000       0.05600     0.0084              10.580          2   \n",
       "30         39000  204000.00000    10.6000              -4.700          3   \n",
       "31         30000   28840.00000     6.3000              -4.200          3   \n",
       "49         33750  220000.00000    26.0000              -6.100          4   \n",
       "99         36108  198000.00000    10.2000              -4.400          3   \n",
       "100        33300  240000.00000    12.0000              -6.500          4   \n",
       "101        40000  813000.00000    14.0000              -6.230          4   \n",
       "102        23000  127000.00000    36.0000              -5.760          4   \n",
       "106        24630  363000.00000    63.0000              -5.830          4   \n",
       "108        24345  142000.00000    57.0000              -6.240          4   \n",
       "109        33421  352000.00000    67.0000              -5.790          4   \n",
       "150        29560  188000.00000     6.0200              -4.010          3   \n",
       "154        25070   14500.00000     5.9200              -3.980          3   \n",
       "155        28700   16790.00000     6.4000              -4.090          3   \n",
       "156        26140   14520.00000     5.4900              -3.800          3   \n",
       "159        37800  202900.00000     6.8600              -4.560          3   \n",
       "160        25390  223000.00000    57.0000              -5.920          4   \n",
       "167        26373  198000.00000    39.0000              -5.830          4   \n",
       "173        26000  316000.00000  1679.0000              -9.100          5   \n",
       "179        24490  248490.00000  1134.5000              -8.240          5   \n",
       "206        24020       0.00159     0.0127              10.550          2   \n",
       "207        23092       0.00132     0.0104              10.180          2   \n",
       "214        34190  198200.00000     6.3900              -4.570          3   \n",
       "215        32460  173800.00000     6.2370              -4.360          3   \n",
       "220        23678  244290.00000    35.0000              -6.270          4   \n",
       "223        23440  537430.00000    81.0000              -5.975          4   \n",
       "228        23095  347820.00000    86.0000              -5.905          4   \n",
       "230        24145  382993.00000  1494.0000              -8.840          5   \n",
       "231        38234  272830.00000  1356.0000              -9.290          5   \n",
       "232        32489  648430.00000  1948.5000             -10.840          5   \n",
       "233        27739  849420.00000  1252.0000              -7.590          5   \n",
       "235        38940  374830.00000  1356.0000              -9.930          5   \n",
       "236        30839  834042.00000  1194.0000             -10.630          5   \n",
       "239        37882  294903.00000  1783.0000              -7.800          5   \n",
       "\n",
       "     star_color  \n",
       "20   blue white  \n",
       "30         blue  \n",
       "31   blue white  \n",
       "49         blue  \n",
       "99         blue  \n",
       "100        blue  \n",
       "101        blue  \n",
       "102        blue  \n",
       "106        blue  \n",
       "108        blue  \n",
       "109        blue  \n",
       "150  blue white  \n",
       "154  blue white  \n",
       "155  blue white  \n",
       "156  blue white  \n",
       "159        blue  \n",
       "160        blue  \n",
       "167        blue  \n",
       "173        blue  \n",
       "179  blue white  \n",
       "206        blue  \n",
       "207        blue  \n",
       "214        blue  \n",
       "215        blue  \n",
       "220        blue  \n",
       "223        blue  \n",
       "228        blue  \n",
       "230  blue white  \n",
       "231        blue  \n",
       "232        blue  \n",
       "233  blue white  \n",
       "235        blue  \n",
       "236        blue  \n",
       "239        blue  "
      ]
     },
     "execution_count": 9,
     "metadata": {},
     "output_type": "execute_result"
    }
   ],
   "source": [
    "max_temp_potential = df['temperature'].quantile(0.75) * 1.5      # определим макисмально допустимый предел выбросов;\n",
    "statistical_outlier = df[df['temperature'] > max_temp_potential] # инциализируем датафрейм с выбросами\n",
    "statistical_outlier"
   ]
  },
  {
   "cell_type": "markdown",
   "id": "7fbc661c",
   "metadata": {},
   "source": [
    "*Выбросам по верхнему пределу в основном характеризиуются звёзды с очень высокой яркостью, что весьма логично. Также, в основном - это голубые или бело-голубые планеты.\n",
    "В данном случае, выбросы, точно не являются ошибкой. Видна закономерность, в каком случае, температура выше заявленного. Это приемлемо.*"
   ]
  },
  {
   "cell_type": "code",
   "execution_count": 10,
   "id": "d9e78913",
   "metadata": {},
   "outputs": [
    {
     "name": "stdout",
     "output_type": "stream",
     "text": [
      "Данные без потенциальных выбросов:\n"
     ]
    },
    {
     "data": {
      "text/html": [
       "<div>\n",
       "<style scoped>\n",
       "    .dataframe tbody tr th:only-of-type {\n",
       "        vertical-align: middle;\n",
       "    }\n",
       "\n",
       "    .dataframe tbody tr th {\n",
       "        vertical-align: top;\n",
       "    }\n",
       "\n",
       "    .dataframe thead th {\n",
       "        text-align: right;\n",
       "    }\n",
       "</style>\n",
       "<table border=\"1\" class=\"dataframe\">\n",
       "  <thead>\n",
       "    <tr style=\"text-align: right;\">\n",
       "      <th></th>\n",
       "      <th>temperature</th>\n",
       "      <th>luminosity</th>\n",
       "      <th>radius</th>\n",
       "      <th>absolute_magnitude</th>\n",
       "      <th>star_type</th>\n",
       "    </tr>\n",
       "  </thead>\n",
       "  <tbody>\n",
       "    <tr>\n",
       "      <th>count</th>\n",
       "      <td>206.000000</td>\n",
       "      <td>206.000000</td>\n",
       "      <td>206.000000</td>\n",
       "      <td>206.000000</td>\n",
       "      <td>206.000000</td>\n",
       "    </tr>\n",
       "    <tr>\n",
       "      <th>mean</th>\n",
       "      <td>7345.004854</td>\n",
       "      <td>79884.362783</td>\n",
       "      <td>209.113685</td>\n",
       "      <td>5.911383</td>\n",
       "      <td>2.286408</td>\n",
       "    </tr>\n",
       "    <tr>\n",
       "      <th>std</th>\n",
       "      <td>5542.115279</td>\n",
       "      <td>153720.943496</td>\n",
       "      <td>485.858509</td>\n",
       "      <td>10.409810</td>\n",
       "      <td>1.716636</td>\n",
       "    </tr>\n",
       "    <tr>\n",
       "      <th>min</th>\n",
       "      <td>1939.000000</td>\n",
       "      <td>0.000080</td>\n",
       "      <td>0.008700</td>\n",
       "      <td>-11.920000</td>\n",
       "      <td>0.000000</td>\n",
       "    </tr>\n",
       "    <tr>\n",
       "      <th>25%</th>\n",
       "      <td>3276.250000</td>\n",
       "      <td>0.000713</td>\n",
       "      <td>0.097375</td>\n",
       "      <td>-6.072500</td>\n",
       "      <td>1.000000</td>\n",
       "    </tr>\n",
       "    <tr>\n",
       "      <th>50%</th>\n",
       "      <td>3655.000000</td>\n",
       "      <td>0.005450</td>\n",
       "      <td>0.377050</td>\n",
       "      <td>11.340000</td>\n",
       "      <td>2.000000</td>\n",
       "    </tr>\n",
       "    <tr>\n",
       "      <th>75%</th>\n",
       "      <td>10995.000000</td>\n",
       "      <td>129750.000000</td>\n",
       "      <td>25.000000</td>\n",
       "      <td>14.222500</td>\n",
       "      <td>4.000000</td>\n",
       "    </tr>\n",
       "    <tr>\n",
       "      <th>max</th>\n",
       "      <td>22350.000000</td>\n",
       "      <td>783930.000000</td>\n",
       "      <td>1779.000000</td>\n",
       "      <td>20.060000</td>\n",
       "      <td>5.000000</td>\n",
       "    </tr>\n",
       "  </tbody>\n",
       "</table>\n",
       "</div>"
      ],
      "text/plain": [
       "        temperature     luminosity       radius  absolute_magnitude  \\\n",
       "count    206.000000     206.000000   206.000000          206.000000   \n",
       "mean    7345.004854   79884.362783   209.113685            5.911383   \n",
       "std     5542.115279  153720.943496   485.858509           10.409810   \n",
       "min     1939.000000       0.000080     0.008700          -11.920000   \n",
       "25%     3276.250000       0.000713     0.097375           -6.072500   \n",
       "50%     3655.000000       0.005450     0.377050           11.340000   \n",
       "75%    10995.000000  129750.000000    25.000000           14.222500   \n",
       "max    22350.000000  783930.000000  1779.000000           20.060000   \n",
       "\n",
       "        star_type  \n",
       "count  206.000000  \n",
       "mean     2.286408  \n",
       "std      1.716636  \n",
       "min      0.000000  \n",
       "25%      1.000000  \n",
       "50%      2.000000  \n",
       "75%      4.000000  \n",
       "max      5.000000  "
      ]
     },
     "metadata": {},
     "output_type": "display_data"
    },
    {
     "name": "stdout",
     "output_type": "stream",
     "text": [
      "\n",
      "Данные с выбросами:\n"
     ]
    },
    {
     "data": {
      "text/html": [
       "<div>\n",
       "<style scoped>\n",
       "    .dataframe tbody tr th:only-of-type {\n",
       "        vertical-align: middle;\n",
       "    }\n",
       "\n",
       "    .dataframe tbody tr th {\n",
       "        vertical-align: top;\n",
       "    }\n",
       "\n",
       "    .dataframe thead th {\n",
       "        text-align: right;\n",
       "    }\n",
       "</style>\n",
       "<table border=\"1\" class=\"dataframe\">\n",
       "  <thead>\n",
       "    <tr style=\"text-align: right;\">\n",
       "      <th></th>\n",
       "      <th>temperature</th>\n",
       "      <th>luminosity</th>\n",
       "      <th>radius</th>\n",
       "      <th>absolute_magnitude</th>\n",
       "      <th>star_type</th>\n",
       "    </tr>\n",
       "  </thead>\n",
       "  <tbody>\n",
       "    <tr>\n",
       "      <th>count</th>\n",
       "      <td>240.000000</td>\n",
       "      <td>240.000000</td>\n",
       "      <td>240.000000</td>\n",
       "      <td>240.000000</td>\n",
       "      <td>240.000000</td>\n",
       "    </tr>\n",
       "    <tr>\n",
       "      <th>mean</th>\n",
       "      <td>10497.462500</td>\n",
       "      <td>107188.361635</td>\n",
       "      <td>237.157781</td>\n",
       "      <td>4.382396</td>\n",
       "      <td>2.500000</td>\n",
       "    </tr>\n",
       "    <tr>\n",
       "      <th>std</th>\n",
       "      <td>9552.425037</td>\n",
       "      <td>179432.244940</td>\n",
       "      <td>517.155763</td>\n",
       "      <td>10.532512</td>\n",
       "      <td>1.711394</td>\n",
       "    </tr>\n",
       "    <tr>\n",
       "      <th>min</th>\n",
       "      <td>1939.000000</td>\n",
       "      <td>0.000080</td>\n",
       "      <td>0.008400</td>\n",
       "      <td>-11.920000</td>\n",
       "      <td>0.000000</td>\n",
       "    </tr>\n",
       "    <tr>\n",
       "      <th>25%</th>\n",
       "      <td>3344.250000</td>\n",
       "      <td>0.000865</td>\n",
       "      <td>0.102750</td>\n",
       "      <td>-6.232500</td>\n",
       "      <td>1.000000</td>\n",
       "    </tr>\n",
       "    <tr>\n",
       "      <th>50%</th>\n",
       "      <td>5776.000000</td>\n",
       "      <td>0.070500</td>\n",
       "      <td>0.762500</td>\n",
       "      <td>8.313000</td>\n",
       "      <td>2.500000</td>\n",
       "    </tr>\n",
       "    <tr>\n",
       "      <th>75%</th>\n",
       "      <td>15055.500000</td>\n",
       "      <td>198050.000000</td>\n",
       "      <td>42.750000</td>\n",
       "      <td>13.697500</td>\n",
       "      <td>4.000000</td>\n",
       "    </tr>\n",
       "    <tr>\n",
       "      <th>max</th>\n",
       "      <td>40000.000000</td>\n",
       "      <td>849420.000000</td>\n",
       "      <td>1948.500000</td>\n",
       "      <td>20.060000</td>\n",
       "      <td>5.000000</td>\n",
       "    </tr>\n",
       "  </tbody>\n",
       "</table>\n",
       "</div>"
      ],
      "text/plain": [
       "        temperature     luminosity       radius  absolute_magnitude  \\\n",
       "count    240.000000     240.000000   240.000000          240.000000   \n",
       "mean   10497.462500  107188.361635   237.157781            4.382396   \n",
       "std     9552.425037  179432.244940   517.155763           10.532512   \n",
       "min     1939.000000       0.000080     0.008400          -11.920000   \n",
       "25%     3344.250000       0.000865     0.102750           -6.232500   \n",
       "50%     5776.000000       0.070500     0.762500            8.313000   \n",
       "75%    15055.500000  198050.000000    42.750000           13.697500   \n",
       "max    40000.000000  849420.000000  1948.500000           20.060000   \n",
       "\n",
       "        star_type  \n",
       "count  240.000000  \n",
       "mean     2.500000  \n",
       "std      1.711394  \n",
       "min      0.000000  \n",
       "25%      1.000000  \n",
       "50%      2.500000  \n",
       "75%      4.000000  \n",
       "max      5.000000  "
      ]
     },
     "metadata": {},
     "output_type": "display_data"
    }
   ],
   "source": [
    "# изучим данные без выбросов\n",
    "df_good = df[~df.index.isin(statistical_outlier.index)].describe()\n",
    "\n",
    "print('Данные без потенциальных выбросов:')\n",
    "display(df_good)\n",
    "\n",
    "print('\\nДанные с выбросами:')\n",
    "display(df.describe())"
   ]
  },
  {
   "cell_type": "markdown",
   "id": "87853dad",
   "metadata": {},
   "source": [
    "**На мой взгляд ситуация меняется не так значительно, чтобы прибегать к снижению количества данных. Скорей всего при отказа от части данных результаты обучения ухудашться.**"
   ]
  },
  {
   "cell_type": "code",
   "execution_count": 11,
   "id": "e486b8be",
   "metadata": {},
   "outputs": [
    {
     "data": {
      "image/png": "[encoded data removed]",
      "text/plain": [
       "<Figure size 360x360 with 2 Axes>"
      ]
     },
     "metadata": {
      "needs_background": "light"
     },
     "output_type": "display_data"
    }
   ],
   "source": [
    "# теперь изучим корреляцию признаков\n",
    "corr = df.corr()\n",
    "\n",
    "plt.figure(figsize=(5, 5))\n",
    "sns.heatmap(corr,\n",
    "            annot=True)\n",
    "plt.title('Корреляция признаков')\n",
    "plt.show()"
   ]
  },
  {
   "cell_type": "markdown",
   "id": "e4f8b42c",
   "metadata": {},
   "source": [
    "*В наименьшей мере на целевую переменную влияет признак \"Radius(R/Ro)\" радиус звезды относительно радиуса Солнца. Я бы заменил этот признак, на категориальный. Разделив планеты на условно маленькие (меньше 0.25 квантиля], средние (от 0.25 до 0.5], большие (от 0.5 до 0.75] и ультра (>0.75).*"
   ]
  },
  {
   "cell_type": "code",
   "execution_count": 12,
   "id": "91a304bf",
   "metadata": {},
   "outputs": [],
   "source": [
    "low_filter = df['radius'].quantile(0.25)\n",
    "median_filter = df['radius'].quantile(0.5)\n",
    "\n",
    "def to_object(x, low_filter=low_filter, median_filter=median_filter):\n",
    "    '''\n",
    "    Функция предназначена для категоризации числовых объектов в признаке radius.\n",
    "    '''\n",
    "    if x <= low_filter:\n",
    "        return 'small'\n",
    "    elif x <= median_filter:\n",
    "        return 'mean'\n",
    "    else:\n",
    "        return 'big'\n",
    "\n",
    "df['radius'] = df['radius'].apply(lambda x: to_object(x))"
   ]
  },
  {
   "cell_type": "code",
   "execution_count": 13,
   "id": "2f48d291",
   "metadata": {},
   "outputs": [
    {
     "data": {
      "text/plain": [
       "radius\n",
       "big      120\n",
       "mean      60\n",
       "small     60\n",
       "Name: radius, dtype: int64"
      ]
     },
     "execution_count": 13,
     "metadata": {},
     "output_type": "execute_result"
    }
   ],
   "source": [
    "df.groupby('radius')['radius'].agg('count') "
   ]
  },
  {
   "cell_type": "markdown",
   "id": "2ffd35be",
   "metadata": {},
   "source": [
    "**Получилось достичь идеального баланса классов**"
   ]
  },
  {
   "cell_type": "markdown",
   "id": "cadfa74c",
   "metadata": {},
   "source": [
    "### Предобработка данных"
   ]
  },
  {
   "cell_type": "code",
   "execution_count": 14,
   "id": "7b33db97",
   "metadata": {},
   "outputs": [],
   "source": [
    "# теперь разделим данные\n",
    "train, test = train_test_split(df, train_size=0.9, random_state=42)"
   ]
  },
  {
   "cell_type": "code",
   "execution_count": 15,
   "id": "3f36218f",
   "metadata": {},
   "outputs": [],
   "source": [
    "numeric_features = ['temperature', 'luminosity', 'absolute_magnitude']\n",
    "categorical_features = ['radius', 'star_type', 'star_color']\n",
    "\n",
    "col_transformer = ColumnTransformer(\n",
    "                            transformers=[\n",
    "                                ('scaler', StandardScaler(), numeric_features),\n",
    "                                ('ohe', OneHotEncoder(sparse=False, drop='first'), categorical_features)],\n",
    "                                    remainder=\"passthrough\"\n",
    "                                      )\n",
    "\n",
    "X_train = pd.DataFrame(col_transformer.fit_transform(train))\n",
    "X_test = pd.DataFrame(col_transformer.transform(test))"
   ]
  },
  {
   "cell_type": "code",
   "execution_count": 16,
   "id": "0be0f3d9",
   "metadata": {},
   "outputs": [],
   "source": [
    "std_ = train['temperature'].std()\n",
    "mean_ = train['temperature'].mean()"
   ]
  },
  {
   "cell_type": "code",
   "execution_count": 17,
   "id": "659a3a47",
   "metadata": {},
   "outputs": [],
   "source": [
    "y_train = torch.Tensor(X_train[0].values)\n",
    "y_test = torch.Tensor(X_test[0].values)\n",
    "\n",
    "X_train = torch.Tensor(X_train.drop(columns=0).values)\n",
    "X_test = torch.Tensor(X_test.drop(columns=0).values)"
   ]
  },
  {
   "cell_type": "markdown",
   "id": "funded-electric",
   "metadata": {},
   "source": [
    "## Построение базовой нейронной сети"
   ]
  },
  {
   "cell_type": "code",
   "execution_count": 18,
   "id": "4add9aea",
   "metadata": {},
   "outputs": [
    {
     "name": "stdout",
     "output_type": "stream",
     "text": [
      "Обучение законечно на 600 эпохе\n",
      "Финальная метрика качества - 4384.53125\n"
     ]
    }
   ],
   "source": [
    "learning_rate = 0.01\n",
    "batch_size = 100\n",
    "num_epochs = 2000\n",
    "num_batches = ceil(len(X_train) / batch_size)\n",
    "\n",
    "class Net(nn.Module):\n",
    "    def __init__(self, in_neurons, n_hidden_neurons_1, n_hidden_neurons_2, n_out_neurons):\n",
    "        super(Net, self).__init__()  \n",
    "        self.fc1 = nn.Linear(in_neurons, n_hidden_neurons_1)\n",
    "        self.fc2 = nn.Linear(n_hidden_neurons_1, n_hidden_neurons_2)\n",
    "        self.fc3 = nn.Linear(n_hidden_neurons_2, n_out_neurons)\n",
    "        self.relu = nn.ReLU()\n",
    "        self.flatten = nn.Flatten(start_dim=0)\n",
    "        \n",
    "    def forward(self, x):\n",
    "        x = self.fc1(x)\n",
    "        x = self.relu(x)\n",
    "        x = self.fc2(x)\n",
    "        x = self.relu(x)\n",
    "        x = self.fc3(x)\n",
    "        return self.flatten(x)\n",
    "\n",
    "net = Net(13, 8, 4, 1)\n",
    "\n",
    "loss = nn.MSELoss()\n",
    "optimizer = torch.optim.Adam(net.parameters(), lr=learning_rate)\n",
    "\n",
    "patience = 5\n",
    "best_rmse = float('inf')\n",
    "counter = 0\n",
    "rmse_results = []\n",
    "\n",
    "for epoch in range(num_epochs):\n",
    "    order = np.random.permutation(len(X_train))\n",
    "    epoch_rmse = 0.0  # Инициализация RMSE для данной эпохи\n",
    "    for batch_idx in range(num_batches):\n",
    "        start_index = batch_idx * batch_size\n",
    "\n",
    "        optimizer.zero_grad()\n",
    "        batch_indexes = order[start_index:start_index + batch_size]\n",
    "        X_batch = X_train[batch_indexes]\n",
    "        y_batch = y_train[batch_indexes]\n",
    "\n",
    "        preds = net.forward(X_batch).flatten()\n",
    "\n",
    "        loss_value = loss(preds, y_batch)\n",
    "        \n",
    "        loss_value.backward()\n",
    "\n",
    "        optimizer.step()\n",
    "\n",
    "        epoch_rmse += loss_value.item() * len(X_batch)\n",
    "\n",
    "    epoch_rmse = np.sqrt(epoch_rmse / len(X_train))\n",
    "    rmse_results.append(epoch_rmse)\n",
    "\n",
    "    if epoch % 100 == 0 or epoch == num_epochs - 1:\n",
    "        with torch.no_grad():\n",
    "            net.eval()\n",
    "            preds = net.forward(X_test)\n",
    "            preds = preds * std_ + mean_\n",
    "            y_test_inv = y_test * std_ + mean_\n",
    "            rmse = np.sqrt(mean_squared_error(preds, y_test_inv))\n",
    "\n",
    "            if rmse < best_rmse:\n",
    "                best_rmse = rmse\n",
    "                counter = 0\n",
    "            else:\n",
    "                counter += 1\n",
    "\n",
    "            if counter >= patience or epoch == num_epochs - 1:\n",
    "                print(f'Обучение законечно на {epoch} эпохе')\n",
    "                print(f'Финальная метрика качества - {best_rmse}')\n",
    "                break\n",
    "\n",
    "            net.train()\n"
   ]
  },
  {
   "cell_type": "code",
   "execution_count": 19,
   "id": "514cc175",
   "metadata": {},
   "outputs": [
    {
     "data": {
      "image/png": "[encoded data removed]",
      "text/plain": [
       "<Figure size 1080x720 with 1 Axes>"
      ]
     },
     "metadata": {
      "needs_background": "light"
     },
     "output_type": "display_data"
    },
    {
     "name": "stdout",
     "output_type": "stream",
     "text": [
      "Резюмирующее качество модели составило 4384.53125\n"
     ]
    }
   ],
   "source": [
    "plt.figure(figsize=(15, 10))\n",
    "\n",
    "plt.plot(rmse_results)\n",
    "\n",
    "plt.title('Результаты обучения Модели')\n",
    "plt.show()\n",
    "\n",
    "print(f'Резюмирующее качество модели составило {best_rmse}')"
   ]
  },
  {
   "cell_type": "markdown",
   "id": "growing-supply",
   "metadata": {},
   "source": [
    "## Улучшение нейронной сети"
   ]
  },
  {
   "cell_type": "code",
   "execution_count": 20,
   "id": "dde7dc3e",
   "metadata": {},
   "outputs": [
    {
     "name": "stdout",
     "output_type": "stream",
     "text": [
      "12712.03\n",
      "9142.413\n",
      "6717.385\n",
      "6287.88\n",
      "5180.3545\n",
      "5010.5845\n",
      "4636.3403\n",
      "4951.025\n",
      "5196.9097\n",
      "4706.859\n",
      "4319.3\n"
     ]
    }
   ],
   "source": [
    "learning_rate = 0.01\n",
    "batch_size = 100\n",
    "num_batches = ceil(len(X_train) / batch_size)\n",
    "\n",
    "class Net(nn.Module):\n",
    "    def __init__(self, in_neurons, n_hidden_neurons_1, n_hidden_neurons_2, n_out_neurons):\n",
    "        super(Net, self).__init__()  \n",
    "        self.fc1 = nn.Linear(in_neurons, n_hidden_neurons_1)\n",
    "        self.fc2 = nn.Linear(n_hidden_neurons_1, n_hidden_neurons_2)\n",
    "        self.fc3 = nn.Linear(n_hidden_neurons_2, n_out_neurons)\n",
    "        self.relu = nn.ReLU()\n",
    "        self.dp = nn.Dropout(p=0.2)\n",
    "        self.flatten = nn.Flatten(start_dim=0)\n",
    "        \n",
    "    def forward(self, x):\n",
    "        x = self.fc1(x)\n",
    "        x = self.relu(x)\n",
    "        x = self.dp(x)\n",
    "        x = self.fc2(x)\n",
    "        x = self.relu(x)\n",
    "        x = self.fc3(x)\n",
    "        return self.flatten(x)\n",
    "\n",
    "net = Net(13, 8, 4, 1)\n",
    "\n",
    "loss = nn.MSELoss()\n",
    "optimizer = torch.optim.Adam(net.parameters(), lr=learning_rate)\n",
    "\n",
    "\n",
    "for epoch in range(epoch):\n",
    "    order = np.random.permutation(len(X_train))\n",
    "    epoch_rmse = 0.0  # Инициализация RMSE для данной эпохи\n",
    "    for batch_idx in range(num_batches):\n",
    "        start_index = batch_idx * batch_size\n",
    "\n",
    "        optimizer.zero_grad()\n",
    "        batch_indexes = order[start_index:start_index + batch_size]\n",
    "        X_batch = X_train[batch_indexes]\n",
    "        y_batch = y_train[batch_indexes]\n",
    "\n",
    "        preds = net.forward(X_batch).flatten()\n",
    "\n",
    "        loss_value = loss(preds, y_batch)\n",
    "        \n",
    "        loss_value.backward()\n",
    "\n",
    "        optimizer.step()\n",
    "\n",
    "        epoch_rmse += loss_value.item() * len(X_batch)\n",
    "\n",
    "    epoch_rmse = np.sqrt(epoch_rmse / len(X_train))\n",
    "    rmse_results.append(epoch_rmse)\n",
    "\n",
    "    if epoch % 10 == 0 or epoch == num_epochs - 1:\n",
    "        with torch.no_grad():\n",
    "            net.eval()\n",
    "            preds = net.forward(X_test)\n",
    "            preds = preds * std_ + mean_\n",
    "            y_test_inv = y_test * std_ + mean_\n",
    "            rmse = np.sqrt(mean_squared_error(preds, y_test_inv))\n",
    "            print(rmse)\n",
    "            if rmse < best_rmse:\n",
    "                break\n",
    "            "
   ]
  },
  {
   "cell_type": "markdown",
   "id": "accurate-infrastructure",
   "metadata": {},
   "source": [
    "## Выводы"
   ]
  },
  {
   "cell_type": "markdown",
   "id": "ee12f751",
   "metadata": {},
   "source": [
    "Проект состоял из 3 частей:\n",
    "    \n",
    "    1) Предобработка данных и EDA;\n",
    "    2) Обработка данных, подготовка данных к передаче в нейросеть;\n",
    "    3) Создание нейросети и её улучшение.\n",
    "    \n",
    "В результате выполнения проекта, были достигнуты поставленные задачи, снизу можно видеть график, визуализации результата."
   ]
  },
  {
   "cell_type": "code",
   "execution_count": 28,
   "id": "aa908a40",
   "metadata": {},
   "outputs": [
    {
     "data": {
      "image/png": "[encoded data removed]",
      "text/plain": [
       "<Figure size 1080x720 with 1 Axes>"
      ]
     },
     "metadata": {
      "needs_background": "light"
     },
     "output_type": "display_data"
    }
   ],
   "source": [
    "plt.figure(figsize=(15, 10))\n",
    "\n",
    "# Создаем массив индексов для оси x\n",
    "x_indices = np.arange(len(preds))\n",
    "\n",
    "# Ширина столбцов\n",
    "bar_width = 0.4\n",
    "\n",
    "# Строим barplot для preds с прозрачностью 0.6\n",
    "plt.bar(x_indices, preds, width=bar_width, align='center', label='Предсказания', alpha=0.6)\n",
    "\n",
    "# Строим barplot для y_test_inv с прозрачностью 0.8 и смещением вправо\n",
    "plt.bar(x_indices, y_test_inv, width=bar_width, align='edge', label='Реальные данные', alpha=0.8)\n",
    "\n",
    "# Настройка осей и меток\n",
    "plt.xlabel('Номер планеты')\n",
    "plt.ylabel('Значение температуры')\n",
    "plt.title('Сравнение предсказаний и реальных данных')\n",
    "plt.xticks(x_indices + bar_width/2, x_indices)\n",
    "plt.legend()\n",
    "\n",
    "plt.show()"
   ]
  }
 ],
 "metadata": {
  "ExecuteTimeLog": [
   {
    "duration": 493,
    "start_time": "2023-08-10T14:12:45.144Z"
   },
   {
    "duration": 104,
    "start_time": "2023-08-10T14:12:54.270Z"
   },
   {
    "duration": 64,
    "start_time": "2023-08-10T14:13:04.565Z"
   },
   {
    "duration": 39,
    "start_time": "2023-08-10T14:13:23.981Z"
   },
   {
    "duration": 41,
    "start_time": "2023-08-10T14:13:32.573Z"
   },
   {
    "duration": 39,
    "start_time": "2023-08-10T14:13:38.556Z"
   },
   {
    "duration": 38,
    "start_time": "2023-08-10T14:17:11.341Z"
   },
   {
    "duration": 39,
    "start_time": "2023-08-10T14:17:13.451Z"
   },
   {
    "duration": 38,
    "start_time": "2023-08-10T14:17:16.836Z"
   },
   {
    "duration": 37,
    "start_time": "2023-08-10T14:17:18.714Z"
   },
   {
    "duration": 39,
    "start_time": "2023-08-10T14:17:25.761Z"
   },
   {
    "duration": 29,
    "start_time": "2023-08-10T14:17:52.665Z"
   },
   {
    "duration": 3,
    "start_time": "2023-08-10T14:18:06.921Z"
   },
   {
    "duration": 29,
    "start_time": "2023-08-10T14:18:07.276Z"
   },
   {
    "duration": 15,
    "start_time": "2023-08-10T14:18:10.112Z"
   },
   {
    "duration": 8,
    "start_time": "2023-08-10T14:22:37.492Z"
   },
   {
    "duration": 10,
    "start_time": "2023-08-10T14:22:40.572Z"
   },
   {
    "duration": 3,
    "start_time": "2023-08-10T14:23:56.920Z"
   },
   {
    "duration": 29,
    "start_time": "2023-08-10T14:23:57.152Z"
   },
   {
    "duration": 12,
    "start_time": "2023-08-10T14:23:59.585Z"
   },
   {
    "duration": 15,
    "start_time": "2023-08-10T14:24:07.986Z"
   },
   {
    "duration": 3,
    "start_time": "2023-08-10T14:24:21.908Z"
   },
   {
    "duration": 22,
    "start_time": "2023-08-10T14:24:27.184Z"
   },
   {
    "duration": 13,
    "start_time": "2023-08-10T14:25:09.152Z"
   },
   {
    "duration": 13,
    "start_time": "2023-08-10T14:25:09.764Z"
   },
   {
    "duration": 2,
    "start_time": "2023-08-10T14:56:35.602Z"
   },
   {
    "duration": 29,
    "start_time": "2023-08-10T14:56:35.790Z"
   },
   {
    "duration": 13,
    "start_time": "2023-08-10T14:56:36.654Z"
   },
   {
    "duration": 13,
    "start_time": "2023-08-10T14:56:37.350Z"
   },
   {
    "duration": 3,
    "start_time": "2023-08-10T14:57:02.098Z"
   },
   {
    "duration": 28,
    "start_time": "2023-08-10T14:57:02.281Z"
   },
   {
    "duration": 14,
    "start_time": "2023-08-10T14:57:02.904Z"
   },
   {
    "duration": 12,
    "start_time": "2023-08-10T14:57:03.246Z"
   },
   {
    "duration": 15,
    "start_time": "2023-08-10T14:58:15.450Z"
   },
   {
    "duration": 13,
    "start_time": "2023-08-10T14:58:46.950Z"
   },
   {
    "duration": 14,
    "start_time": "2023-08-10T15:00:12.270Z"
   },
   {
    "duration": 14,
    "start_time": "2023-08-10T15:00:30.654Z"
   },
   {
    "duration": 3,
    "start_time": "2023-08-10T15:00:33.170Z"
   },
   {
    "duration": 28,
    "start_time": "2023-08-10T15:00:33.354Z"
   },
   {
    "duration": 14,
    "start_time": "2023-08-10T15:00:33.966Z"
   },
   {
    "duration": 19,
    "start_time": "2023-08-10T15:00:34.316Z"
   },
   {
    "duration": 16,
    "start_time": "2023-08-10T15:01:12.578Z"
   },
   {
    "duration": 12,
    "start_time": "2023-08-10T15:01:36.908Z"
   },
   {
    "duration": 19,
    "start_time": "2023-08-10T15:02:47.568Z"
   },
   {
    "duration": 3,
    "start_time": "2023-08-10T15:02:59.378Z"
   },
   {
    "duration": 29,
    "start_time": "2023-08-10T15:02:59.564Z"
   },
   {
    "duration": 15,
    "start_time": "2023-08-10T15:03:00.110Z"
   },
   {
    "duration": 14,
    "start_time": "2023-08-10T15:03:00.367Z"
   },
   {
    "duration": 13,
    "start_time": "2023-08-10T15:03:42.521Z"
   },
   {
    "duration": 24,
    "start_time": "2023-08-10T15:04:49.265Z"
   },
   {
    "duration": 446,
    "start_time": "2023-08-10T15:07:26.254Z"
   },
   {
    "duration": 171,
    "start_time": "2023-08-10T15:07:36.352Z"
   },
   {
    "duration": 140,
    "start_time": "2023-08-10T15:07:56.849Z"
   },
   {
    "duration": 23,
    "start_time": "2023-08-10T15:08:05.108Z"
   },
   {
    "duration": 75,
    "start_time": "2023-08-10T15:08:13.650Z"
   },
   {
    "duration": 72,
    "start_time": "2023-08-10T15:08:18.377Z"
   },
   {
    "duration": 15,
    "start_time": "2023-08-10T15:08:22.362Z"
   },
   {
    "duration": 16,
    "start_time": "2023-08-10T15:08:32.878Z"
   },
   {
    "duration": 14,
    "start_time": "2023-08-10T15:08:51.174Z"
   },
   {
    "duration": 6,
    "start_time": "2023-08-10T15:08:53.576Z"
   },
   {
    "duration": 7,
    "start_time": "2023-08-10T15:09:10.568Z"
   },
   {
    "duration": 9,
    "start_time": "2023-08-10T15:09:17.562Z"
   },
   {
    "duration": 8,
    "start_time": "2023-08-10T15:09:32.584Z"
   },
   {
    "duration": 20,
    "start_time": "2023-08-10T15:10:00.049Z"
   },
   {
    "duration": 10,
    "start_time": "2023-08-10T15:10:09.556Z"
   },
   {
    "duration": 17,
    "start_time": "2023-08-10T15:10:09.778Z"
   },
   {
    "duration": 15,
    "start_time": "2023-08-10T15:10:19.649Z"
   },
   {
    "duration": 14,
    "start_time": "2023-08-10T15:10:28.715Z"
   },
   {
    "duration": 17,
    "start_time": "2023-08-10T15:10:32.407Z"
   },
   {
    "duration": 9,
    "start_time": "2023-08-10T15:10:37.546Z"
   },
   {
    "duration": 9,
    "start_time": "2023-08-10T15:10:45.466Z"
   },
   {
    "duration": 10,
    "start_time": "2023-08-10T15:10:48.884Z"
   },
   {
    "duration": 10,
    "start_time": "2023-08-10T15:10:51.545Z"
   },
   {
    "duration": 168,
    "start_time": "2023-08-10T15:11:07.657Z"
   },
   {
    "duration": 224,
    "start_time": "2023-08-10T15:11:53.841Z"
   },
   {
    "duration": 230,
    "start_time": "2023-08-10T15:12:04.149Z"
   },
   {
    "duration": 156,
    "start_time": "2023-08-10T15:12:11.396Z"
   },
   {
    "duration": 158,
    "start_time": "2023-08-10T15:12:14.865Z"
   },
   {
    "duration": 172,
    "start_time": "2023-08-10T15:12:56.062Z"
   },
   {
    "duration": 109,
    "start_time": "2023-08-10T15:13:27.965Z"
   },
   {
    "duration": 114,
    "start_time": "2023-08-10T15:13:32.464Z"
   },
   {
    "duration": 80,
    "start_time": "2023-08-10T15:14:51.673Z"
   },
   {
    "duration": 131,
    "start_time": "2023-08-10T15:14:54.690Z"
   },
   {
    "duration": 109,
    "start_time": "2023-08-10T15:15:00.684Z"
   },
   {
    "duration": 18,
    "start_time": "2023-08-10T15:15:22.175Z"
   },
   {
    "duration": 111,
    "start_time": "2023-08-10T15:15:38.754Z"
   },
   {
    "duration": 103,
    "start_time": "2023-08-10T15:15:49.672Z"
   },
   {
    "duration": 114,
    "start_time": "2023-08-10T15:15:54.006Z"
   },
   {
    "duration": 187,
    "start_time": "2023-08-10T15:16:03.554Z"
   },
   {
    "duration": 268,
    "start_time": "2023-08-10T15:16:47.481Z"
   },
   {
    "duration": 115,
    "start_time": "2023-08-10T15:16:54.050Z"
   },
   {
    "duration": 115,
    "start_time": "2023-08-10T15:17:35.247Z"
   },
   {
    "duration": 103,
    "start_time": "2023-08-10T15:18:01.947Z"
   },
   {
    "duration": 13,
    "start_time": "2023-08-10T15:19:11.259Z"
   },
   {
    "duration": 115,
    "start_time": "2023-08-10T15:19:43.959Z"
   },
   {
    "duration": 105,
    "start_time": "2023-08-10T15:21:41.256Z"
   },
   {
    "duration": 110,
    "start_time": "2023-08-10T15:21:48.593Z"
   },
   {
    "duration": 108,
    "start_time": "2023-08-10T15:21:53.960Z"
   },
   {
    "duration": 103,
    "start_time": "2023-08-10T15:22:13.084Z"
   },
   {
    "duration": 113,
    "start_time": "2023-08-10T15:22:29.057Z"
   },
   {
    "duration": 185,
    "start_time": "2023-08-10T15:22:44.452Z"
   },
   {
    "duration": 99,
    "start_time": "2023-08-10T15:22:57.085Z"
   },
   {
    "duration": 111,
    "start_time": "2023-08-10T15:23:29.182Z"
   },
   {
    "duration": 122,
    "start_time": "2023-08-10T15:23:47.275Z"
   },
   {
    "duration": 3,
    "start_time": "2023-08-10T15:24:32.082Z"
   },
   {
    "duration": 30,
    "start_time": "2023-08-10T15:24:32.248Z"
   },
   {
    "duration": 14,
    "start_time": "2023-08-10T15:24:33.013Z"
   },
   {
    "duration": 14,
    "start_time": "2023-08-10T15:24:36.277Z"
   },
   {
    "duration": 15,
    "start_time": "2023-08-10T15:25:25.840Z"
   },
   {
    "duration": 15,
    "start_time": "2023-08-10T15:26:12.814Z"
   },
   {
    "duration": 129,
    "start_time": "2023-08-10T15:26:13.065Z"
   },
   {
    "duration": 3,
    "start_time": "2023-08-10T15:26:18.186Z"
   },
   {
    "duration": 35,
    "start_time": "2023-08-10T15:26:18.373Z"
   },
   {
    "duration": 16,
    "start_time": "2023-08-10T15:26:18.961Z"
   },
   {
    "duration": 125,
    "start_time": "2023-08-10T15:26:19.173Z"
   },
   {
    "duration": 135,
    "start_time": "2023-08-10T15:26:38.056Z"
   },
   {
    "duration": 101,
    "start_time": "2023-08-10T15:26:43.516Z"
   },
   {
    "duration": 716,
    "start_time": "2023-08-10T15:26:59.181Z"
   },
   {
    "duration": 32,
    "start_time": "2023-08-10T15:26:59.899Z"
   },
   {
    "duration": 20,
    "start_time": "2023-08-10T15:27:00.017Z"
   },
   {
    "duration": 210,
    "start_time": "2023-08-10T15:27:00.685Z"
   },
   {
    "duration": 112,
    "start_time": "2023-08-10T15:27:10.679Z"
   },
   {
    "duration": 117,
    "start_time": "2023-08-10T15:27:23.170Z"
   },
   {
    "duration": 108,
    "start_time": "2023-08-10T15:27:32.690Z"
   },
   {
    "duration": 130,
    "start_time": "2023-08-10T15:27:37.871Z"
   },
   {
    "duration": 201,
    "start_time": "2023-08-10T15:27:42.966Z"
   },
   {
    "duration": 110,
    "start_time": "2023-08-10T15:27:46.503Z"
   },
   {
    "duration": 115,
    "start_time": "2023-08-10T15:27:54.269Z"
   },
   {
    "duration": 119,
    "start_time": "2023-08-10T15:27:59.898Z"
   },
   {
    "duration": 3,
    "start_time": "2023-08-10T15:28:13.368Z"
   },
   {
    "duration": 29,
    "start_time": "2023-08-10T15:28:13.569Z"
   },
   {
    "duration": 15,
    "start_time": "2023-08-10T15:28:14.190Z"
   },
   {
    "duration": 134,
    "start_time": "2023-08-10T15:28:14.406Z"
   },
   {
    "duration": 165,
    "start_time": "2023-08-10T15:28:46.085Z"
   },
   {
    "duration": 195,
    "start_time": "2023-08-10T15:29:09.391Z"
   },
   {
    "duration": 183,
    "start_time": "2023-08-10T15:29:13.860Z"
   },
   {
    "duration": 197,
    "start_time": "2023-08-10T15:29:37.305Z"
   },
   {
    "duration": 201,
    "start_time": "2023-08-10T15:29:43.861Z"
   },
   {
    "duration": 6,
    "start_time": "2023-08-10T15:30:17.073Z"
   },
   {
    "duration": 158,
    "start_time": "2023-08-10T15:30:26.261Z"
   },
   {
    "duration": 12,
    "start_time": "2023-08-10T15:30:29.703Z"
   },
   {
    "duration": 9,
    "start_time": "2023-08-10T15:30:34.777Z"
   },
   {
    "duration": 3,
    "start_time": "2023-08-10T15:30:40.962Z"
   },
   {
    "duration": 262,
    "start_time": "2023-08-10T15:30:46.702Z"
   },
   {
    "duration": 194,
    "start_time": "2023-08-10T15:31:01.510Z"
   },
   {
    "duration": 140,
    "start_time": "2023-08-10T15:31:16.204Z"
   },
   {
    "duration": 192,
    "start_time": "2023-08-10T15:31:24.113Z"
   },
   {
    "duration": 13,
    "start_time": "2023-08-10T15:31:36.433Z"
   },
   {
    "duration": 24,
    "start_time": "2023-08-10T15:31:44.008Z"
   },
   {
    "duration": 12,
    "start_time": "2023-08-10T15:32:02.078Z"
   },
   {
    "duration": 6,
    "start_time": "2023-08-10T15:34:49.761Z"
   },
   {
    "duration": 563,
    "start_time": "2023-08-10T15:35:36.878Z"
   },
   {
    "duration": 330,
    "start_time": "2023-08-10T15:35:57.455Z"
   },
   {
    "duration": 365,
    "start_time": "2023-08-10T15:36:27.295Z"
   },
   {
    "duration": 357,
    "start_time": "2023-08-10T15:36:36.053Z"
   },
   {
    "duration": 350,
    "start_time": "2023-08-10T15:36:40.253Z"
   },
   {
    "duration": 349,
    "start_time": "2023-08-10T15:36:45.070Z"
   },
   {
    "duration": 341,
    "start_time": "2023-08-10T15:36:55.149Z"
   },
   {
    "duration": 379,
    "start_time": "2023-08-10T15:37:27.164Z"
   },
   {
    "duration": 411,
    "start_time": "2023-08-10T15:38:03.648Z"
   },
   {
    "duration": 444,
    "start_time": "2023-08-10T15:38:20.862Z"
   },
   {
    "duration": 4,
    "start_time": "2023-08-10T15:40:12.855Z"
   },
   {
    "duration": 140,
    "start_time": "2023-08-10T15:40:24.144Z"
   },
   {
    "duration": 192,
    "start_time": "2023-08-10T15:40:57.212Z"
   },
   {
    "duration": 300,
    "start_time": "2023-08-10T15:41:02.274Z"
   },
   {
    "duration": 241,
    "start_time": "2023-08-10T15:41:23.184Z"
   },
   {
    "duration": 218,
    "start_time": "2023-08-10T15:41:30.040Z"
   },
   {
    "duration": 464,
    "start_time": "2023-08-10T15:41:52.208Z"
   },
   {
    "duration": 373,
    "start_time": "2023-08-10T15:41:55.966Z"
   },
   {
    "duration": 385,
    "start_time": "2023-08-10T15:42:06.956Z"
   },
   {
    "duration": 516,
    "start_time": "2023-08-10T15:42:10.772Z"
   },
   {
    "duration": 409,
    "start_time": "2023-08-10T15:42:14.703Z"
   },
   {
    "duration": 366,
    "start_time": "2023-08-10T15:42:21.481Z"
   },
   {
    "duration": 438,
    "start_time": "2023-08-10T15:42:41.271Z"
   },
   {
    "duration": 430,
    "start_time": "2023-08-10T15:42:48.974Z"
   },
   {
    "duration": 442,
    "start_time": "2023-08-10T15:42:54.453Z"
   },
   {
    "duration": 453,
    "start_time": "2023-08-10T15:42:59.102Z"
   },
   {
    "duration": 377,
    "start_time": "2023-08-10T15:43:05.744Z"
   },
   {
    "duration": 368,
    "start_time": "2023-08-10T15:43:27.072Z"
   },
   {
    "duration": 566,
    "start_time": "2023-08-10T15:45:00.403Z"
   },
   {
    "duration": 365,
    "start_time": "2023-08-10T15:45:11.775Z"
   },
   {
    "duration": 653,
    "start_time": "2023-08-10T15:45:39.956Z"
   },
   {
    "duration": 563,
    "start_time": "2023-08-10T15:45:47.683Z"
   },
   {
    "duration": 723,
    "start_time": "2023-08-10T15:46:39.602Z"
   },
   {
    "duration": 712,
    "start_time": "2023-08-10T15:46:48.808Z"
   },
   {
    "duration": 1195,
    "start_time": "2023-08-10T15:46:54.001Z"
   },
   {
    "duration": 30,
    "start_time": "2023-08-10T15:46:55.198Z"
   },
   {
    "duration": 19,
    "start_time": "2023-08-10T15:46:55.230Z"
   },
   {
    "duration": 154,
    "start_time": "2023-08-10T15:46:55.251Z"
   },
   {
    "duration": 527,
    "start_time": "2023-08-10T15:46:55.408Z"
   },
   {
    "duration": 452,
    "start_time": "2023-08-10T15:46:55.937Z"
   },
   {
    "duration": 359,
    "start_time": "2023-08-10T15:47:05.439Z"
   },
   {
    "duration": 311,
    "start_time": "2023-08-10T15:48:09.081Z"
   },
   {
    "duration": 206,
    "start_time": "2023-08-10T15:48:20.947Z"
   },
   {
    "duration": 304,
    "start_time": "2023-08-10T15:48:37.521Z"
   },
   {
    "duration": 220,
    "start_time": "2023-08-10T15:48:50.394Z"
   },
   {
    "duration": 289,
    "start_time": "2023-08-10T15:49:20.118Z"
   },
   {
    "duration": 212,
    "start_time": "2023-08-10T15:49:31.294Z"
   },
   {
    "duration": 13,
    "start_time": "2023-08-10T15:49:38.351Z"
   },
   {
    "duration": 308,
    "start_time": "2023-08-10T15:49:46.460Z"
   },
   {
    "duration": 257,
    "start_time": "2023-08-10T15:49:50.896Z"
   },
   {
    "duration": 286,
    "start_time": "2023-08-10T15:50:05.114Z"
   },
   {
    "duration": 279,
    "start_time": "2023-08-10T15:50:21.062Z"
   },
   {
    "duration": 254,
    "start_time": "2023-08-10T15:51:29.749Z"
   },
   {
    "duration": 383,
    "start_time": "2023-08-10T15:51:35.862Z"
   },
   {
    "duration": 20,
    "start_time": "2023-08-10T15:52:13.753Z"
   },
   {
    "duration": 15,
    "start_time": "2023-08-10T15:52:18.416Z"
   },
   {
    "duration": 133,
    "start_time": "2023-08-10T15:52:39.410Z"
   },
   {
    "duration": 144,
    "start_time": "2023-08-10T15:53:00.415Z"
   },
   {
    "duration": 119,
    "start_time": "2023-08-10T15:53:15.550Z"
   },
   {
    "duration": 120,
    "start_time": "2023-08-10T15:53:24.071Z"
   },
   {
    "duration": 296,
    "start_time": "2023-08-10T15:54:18.714Z"
   },
   {
    "duration": 4,
    "start_time": "2023-08-10T15:57:20.609Z"
   },
   {
    "duration": 8,
    "start_time": "2023-08-10T15:57:41.777Z"
   },
   {
    "duration": 10,
    "start_time": "2023-08-10T15:57:44.969Z"
   },
   {
    "duration": 14,
    "start_time": "2023-08-10T15:57:51.157Z"
   },
   {
    "duration": 395,
    "start_time": "2023-08-10T15:58:50.049Z"
   },
   {
    "duration": 405,
    "start_time": "2023-08-10T16:01:27.485Z"
   },
   {
    "duration": 516,
    "start_time": "2023-08-10T16:01:57.799Z"
   },
   {
    "duration": 5,
    "start_time": "2023-08-10T16:02:46.971Z"
   },
   {
    "duration": 10,
    "start_time": "2023-08-10T16:04:10.572Z"
   },
   {
    "duration": 123,
    "start_time": "2023-08-10T16:04:29.498Z"
   },
   {
    "duration": 154,
    "start_time": "2023-08-10T16:05:00.316Z"
   },
   {
    "duration": 159,
    "start_time": "2023-08-10T16:05:13.265Z"
   },
   {
    "duration": 226,
    "start_time": "2023-08-10T16:05:38.692Z"
   },
   {
    "duration": 856,
    "start_time": "2023-08-10T16:05:54.806Z"
   },
   {
    "duration": 828,
    "start_time": "2023-08-10T16:06:06.779Z"
   },
   {
    "duration": 26,
    "start_time": "2023-08-10T16:06:45.661Z"
   },
   {
    "duration": 6,
    "start_time": "2023-08-10T16:10:42.094Z"
   },
   {
    "duration": 6,
    "start_time": "2023-08-10T16:10:53.891Z"
   },
   {
    "duration": 8,
    "start_time": "2023-08-10T16:10:59.554Z"
   },
   {
    "duration": 9,
    "start_time": "2023-08-10T16:11:29.354Z"
   },
   {
    "duration": 14,
    "start_time": "2023-08-10T16:11:50.046Z"
   },
   {
    "duration": 5,
    "start_time": "2023-08-10T16:11:57.946Z"
   },
   {
    "duration": 168,
    "start_time": "2023-08-10T16:12:05.253Z"
   },
   {
    "duration": 6,
    "start_time": "2023-08-10T16:14:27.691Z"
   },
   {
    "duration": 9,
    "start_time": "2023-08-10T16:14:50.371Z"
   },
   {
    "duration": 6,
    "start_time": "2023-08-10T16:15:07.846Z"
   },
   {
    "duration": 1419,
    "start_time": "2023-08-10T16:18:06.750Z"
   },
   {
    "duration": 23,
    "start_time": "2023-08-10T16:18:30.472Z"
   },
   {
    "duration": 8,
    "start_time": "2023-08-10T16:18:43.461Z"
   },
   {
    "duration": 18,
    "start_time": "2023-08-10T16:18:46.450Z"
   },
   {
    "duration": 21,
    "start_time": "2023-08-10T16:18:55.471Z"
   },
   {
    "duration": 6,
    "start_time": "2023-08-10T16:57:31.066Z"
   },
   {
    "duration": 32,
    "start_time": "2023-08-10T16:58:48.601Z"
   },
   {
    "duration": 47,
    "start_time": "2023-08-10T16:59:31.282Z"
   },
   {
    "duration": 49,
    "start_time": "2023-08-10T16:59:38.715Z"
   },
   {
    "duration": 33,
    "start_time": "2023-08-10T16:59:43.608Z"
   },
   {
    "duration": 20,
    "start_time": "2023-08-10T16:59:52.073Z"
   },
   {
    "duration": 1560,
    "start_time": "2023-08-10T17:00:35.302Z"
   },
   {
    "duration": 1265,
    "start_time": "2023-08-10T17:00:42.371Z"
   },
   {
    "duration": 31,
    "start_time": "2023-08-10T17:00:43.638Z"
   },
   {
    "duration": 14,
    "start_time": "2023-08-10T17:00:43.671Z"
   },
   {
    "duration": 28,
    "start_time": "2023-08-10T17:00:43.687Z"
   },
   {
    "duration": 157,
    "start_time": "2023-08-10T17:00:43.717Z"
   },
   {
    "duration": 469,
    "start_time": "2023-08-10T17:00:43.876Z"
   },
   {
    "duration": 436,
    "start_time": "2023-08-10T17:00:44.347Z"
   },
   {
    "duration": 8,
    "start_time": "2023-08-10T17:00:44.785Z"
   },
   {
    "duration": 32,
    "start_time": "2023-08-10T17:00:44.795Z"
   },
   {
    "duration": 11,
    "start_time": "2023-08-10T17:00:44.828Z"
   },
   {
    "duration": 18,
    "start_time": "2023-08-10T17:00:48.266Z"
   },
   {
    "duration": 244,
    "start_time": "2023-08-10T17:01:23.973Z"
   },
   {
    "duration": 26,
    "start_time": "2023-08-10T17:01:24.590Z"
   },
   {
    "duration": 119,
    "start_time": "2023-08-10T17:01:46.878Z"
   },
   {
    "duration": 6,
    "start_time": "2023-08-10T17:01:58.028Z"
   },
   {
    "duration": 21,
    "start_time": "2023-08-10T17:01:59.908Z"
   },
   {
    "duration": 3,
    "start_time": "2023-08-10T17:02:05.074Z"
   },
   {
    "duration": 28,
    "start_time": "2023-08-10T17:02:05.294Z"
   },
   {
    "duration": 12,
    "start_time": "2023-08-10T17:02:05.718Z"
   },
   {
    "duration": 16,
    "start_time": "2023-08-10T17:02:06.122Z"
   },
   {
    "duration": 128,
    "start_time": "2023-08-10T17:02:06.334Z"
   },
   {
    "duration": 543,
    "start_time": "2023-08-10T17:02:07.099Z"
   },
   {
    "duration": 420,
    "start_time": "2023-08-10T17:02:07.722Z"
   },
   {
    "duration": 9,
    "start_time": "2023-08-10T17:02:08.538Z"
   },
   {
    "duration": 24,
    "start_time": "2023-08-10T17:02:09.770Z"
   },
   {
    "duration": 4,
    "start_time": "2023-08-10T17:04:29.090Z"
   },
   {
    "duration": 29,
    "start_time": "2023-08-10T17:04:29.337Z"
   },
   {
    "duration": 1190,
    "start_time": "2023-08-10T17:04:32.414Z"
   },
   {
    "duration": 30,
    "start_time": "2023-08-10T17:04:33.606Z"
   },
   {
    "duration": 13,
    "start_time": "2023-08-10T17:04:33.639Z"
   },
   {
    "duration": 15,
    "start_time": "2023-08-10T17:04:33.655Z"
   },
   {
    "duration": 34,
    "start_time": "2023-08-10T17:04:33.672Z"
   },
   {
    "duration": 132,
    "start_time": "2023-08-10T17:04:33.708Z"
   },
   {
    "duration": 441,
    "start_time": "2023-08-10T17:04:34.134Z"
   },
   {
    "duration": 397,
    "start_time": "2023-08-10T17:04:34.666Z"
   },
   {
    "duration": 101,
    "start_time": "2023-08-10T17:04:35.535Z"
   },
   {
    "duration": 24,
    "start_time": "2023-08-10T17:04:35.815Z"
   },
   {
    "duration": 11,
    "start_time": "2023-08-10T17:04:53.570Z"
   },
   {
    "duration": 9,
    "start_time": "2023-08-10T17:04:59.779Z"
   },
   {
    "duration": 23,
    "start_time": "2023-08-10T17:05:01.507Z"
   },
   {
    "duration": 19,
    "start_time": "2023-08-10T17:05:05.774Z"
   },
   {
    "duration": 6,
    "start_time": "2023-08-10T17:05:32.682Z"
   },
   {
    "duration": 6,
    "start_time": "2023-08-10T17:05:54.682Z"
   },
   {
    "duration": 4,
    "start_time": "2023-08-10T17:06:43.524Z"
   },
   {
    "duration": 23,
    "start_time": "2023-08-10T17:06:46.494Z"
   },
   {
    "duration": 18,
    "start_time": "2023-08-10T17:11:46.317Z"
   },
   {
    "duration": 259,
    "start_time": "2023-08-10T17:12:49.231Z"
   },
   {
    "duration": 4,
    "start_time": "2023-08-10T17:13:00.462Z"
   },
   {
    "duration": 3,
    "start_time": "2023-08-10T17:14:32.771Z"
   },
   {
    "duration": 25,
    "start_time": "2023-08-10T17:15:25.262Z"
   },
   {
    "duration": 19,
    "start_time": "2023-08-10T17:21:22.094Z"
   },
   {
    "duration": 18,
    "start_time": "2023-08-10T17:22:19.291Z"
   },
   {
    "duration": 6,
    "start_time": "2023-08-10T17:22:22.975Z"
   },
   {
    "duration": 19,
    "start_time": "2023-08-10T17:22:26.991Z"
   },
   {
    "duration": 6,
    "start_time": "2023-08-10T17:22:57.990Z"
   },
   {
    "duration": 6,
    "start_time": "2023-08-10T17:23:06.191Z"
   },
   {
    "duration": 6,
    "start_time": "2023-08-10T17:23:14.695Z"
   },
   {
    "duration": 6,
    "start_time": "2023-08-10T17:23:19.890Z"
   },
   {
    "duration": 8,
    "start_time": "2023-08-10T17:23:28.393Z"
   },
   {
    "duration": 8,
    "start_time": "2023-08-10T17:23:43.321Z"
   },
   {
    "duration": 9,
    "start_time": "2023-08-10T17:24:01.028Z"
   },
   {
    "duration": 12,
    "start_time": "2023-08-10T17:24:26.662Z"
   },
   {
    "duration": 80,
    "start_time": "2023-08-10T17:24:48.412Z"
   },
   {
    "duration": 9,
    "start_time": "2023-08-10T17:24:52.175Z"
   },
   {
    "duration": 9,
    "start_time": "2023-08-10T17:24:56.871Z"
   },
   {
    "duration": 9,
    "start_time": "2023-08-10T17:25:09.459Z"
   },
   {
    "duration": 7,
    "start_time": "2023-08-10T17:25:17.179Z"
   },
   {
    "duration": 10,
    "start_time": "2023-08-10T17:25:20.667Z"
   },
   {
    "duration": 58,
    "start_time": "2023-08-10T17:26:18.888Z"
   },
   {
    "duration": 69,
    "start_time": "2023-08-10T17:26:23.106Z"
   },
   {
    "duration": 58,
    "start_time": "2023-08-10T17:26:37.009Z"
   },
   {
    "duration": 77,
    "start_time": "2023-08-10T17:27:06.695Z"
   },
   {
    "duration": 204,
    "start_time": "2023-08-10T17:27:11.730Z"
   },
   {
    "duration": 73,
    "start_time": "2023-08-10T17:27:44.707Z"
   },
   {
    "duration": 59,
    "start_time": "2023-08-10T17:27:54.972Z"
   },
   {
    "duration": 101,
    "start_time": "2023-08-10T17:29:23.683Z"
   },
   {
    "duration": 14,
    "start_time": "2023-08-10T17:29:40.955Z"
   },
   {
    "duration": 74,
    "start_time": "2023-08-10T17:29:48.517Z"
   },
   {
    "duration": 18,
    "start_time": "2023-08-10T17:29:51.313Z"
   },
   {
    "duration": 4,
    "start_time": "2023-08-10T17:29:57.520Z"
   },
   {
    "duration": 4,
    "start_time": "2023-08-10T17:30:05.859Z"
   },
   {
    "duration": 456,
    "start_time": "2023-08-10T17:30:19.715Z"
   },
   {
    "duration": 9,
    "start_time": "2023-08-10T17:31:12.491Z"
   },
   {
    "duration": 14,
    "start_time": "2023-08-10T17:31:22.004Z"
   },
   {
    "duration": 1380,
    "start_time": "2023-08-10T17:31:50.527Z"
   },
   {
    "duration": 11,
    "start_time": "2023-08-10T17:32:15.884Z"
   },
   {
    "duration": 108,
    "start_time": "2023-08-10T17:32:36.276Z"
   },
   {
    "duration": 21,
    "start_time": "2023-08-10T17:33:10.236Z"
   },
   {
    "duration": 8,
    "start_time": "2023-08-10T17:33:18.172Z"
   },
   {
    "duration": 1256,
    "start_time": "2023-08-10T17:33:47.872Z"
   },
   {
    "duration": 17,
    "start_time": "2023-08-10T17:33:59.116Z"
   },
   {
    "duration": 18,
    "start_time": "2023-08-10T17:34:06.115Z"
   },
   {
    "duration": 1614,
    "start_time": "2023-08-10T17:34:26.611Z"
   },
   {
    "duration": 4,
    "start_time": "2023-08-10T17:34:36.923Z"
   },
   {
    "duration": 12,
    "start_time": "2023-08-10T17:34:43.528Z"
   },
   {
    "duration": 1408,
    "start_time": "2023-08-10T17:34:52.881Z"
   },
   {
    "duration": 319,
    "start_time": "2023-08-10T17:35:25.617Z"
   },
   {
    "duration": 181,
    "start_time": "2023-08-10T17:35:36.620Z"
   },
   {
    "duration": 271,
    "start_time": "2023-08-10T17:35:48.515Z"
   },
   {
    "duration": 78,
    "start_time": "2023-08-10T17:36:30.689Z"
   },
   {
    "duration": 15,
    "start_time": "2023-08-10T17:36:34.122Z"
   },
   {
    "duration": 5,
    "start_time": "2023-08-10T17:36:39.801Z"
   },
   {
    "duration": 18,
    "start_time": "2023-08-10T17:37:03.309Z"
   },
   {
    "duration": 67,
    "start_time": "2023-08-10T17:37:26.561Z"
   },
   {
    "duration": 74,
    "start_time": "2023-08-10T17:37:40.625Z"
   },
   {
    "duration": 70,
    "start_time": "2023-08-10T17:37:46.428Z"
   },
   {
    "duration": 68,
    "start_time": "2023-08-10T17:37:50.520Z"
   },
   {
    "duration": 70,
    "start_time": "2023-08-10T17:37:54.334Z"
   },
   {
    "duration": 70,
    "start_time": "2023-08-10T17:37:58.530Z"
   },
   {
    "duration": 88,
    "start_time": "2023-08-10T17:38:08.289Z"
   },
   {
    "duration": 4,
    "start_time": "2023-08-10T17:38:30.469Z"
   },
   {
    "duration": 6,
    "start_time": "2023-08-10T17:38:36.016Z"
   },
   {
    "duration": 5,
    "start_time": "2023-08-10T17:38:47.621Z"
   },
   {
    "duration": 8,
    "start_time": "2023-08-10T17:38:50.022Z"
   },
   {
    "duration": 76,
    "start_time": "2023-08-10T17:39:29.372Z"
   },
   {
    "duration": 3,
    "start_time": "2023-08-10T17:39:30.353Z"
   },
   {
    "duration": 10,
    "start_time": "2023-08-10T17:40:05.577Z"
   },
   {
    "duration": 16,
    "start_time": "2023-08-10T17:40:09.261Z"
   },
   {
    "duration": 2723,
    "start_time": "2023-08-10T17:40:22.269Z"
   },
   {
    "duration": 1504,
    "start_time": "2023-08-10T17:40:30.671Z"
   },
   {
    "duration": 30,
    "start_time": "2023-08-10T17:40:32.177Z"
   },
   {
    "duration": 13,
    "start_time": "2023-08-10T17:40:32.209Z"
   },
   {
    "duration": 31,
    "start_time": "2023-08-10T17:40:32.223Z"
   },
   {
    "duration": 44,
    "start_time": "2023-08-10T17:40:32.257Z"
   },
   {
    "duration": 165,
    "start_time": "2023-08-10T17:40:32.302Z"
   },
   {
    "duration": 7,
    "start_time": "2023-08-10T17:40:32.469Z"
   },
   {
    "duration": 466,
    "start_time": "2023-08-10T17:40:32.479Z"
   },
   {
    "duration": 404,
    "start_time": "2023-08-10T17:40:32.947Z"
   },
   {
    "duration": 10,
    "start_time": "2023-08-10T17:40:33.353Z"
   },
   {
    "duration": 25,
    "start_time": "2023-08-10T17:40:33.365Z"
   },
   {
    "duration": 101,
    "start_time": "2023-08-10T17:40:33.393Z"
   },
   {
    "duration": 7,
    "start_time": "2023-08-10T17:40:33.496Z"
   },
   {
    "duration": 76,
    "start_time": "2023-08-10T17:41:04.477Z"
   },
   {
    "duration": 81,
    "start_time": "2023-08-10T17:41:38.645Z"
   },
   {
    "duration": 16,
    "start_time": "2023-08-10T17:41:46.136Z"
   },
   {
    "duration": 4,
    "start_time": "2023-08-10T17:41:53.017Z"
   },
   {
    "duration": 18,
    "start_time": "2023-08-10T17:42:17.421Z"
   },
   {
    "duration": 5,
    "start_time": "2023-08-10T17:42:20.085Z"
   },
   {
    "duration": 5,
    "start_time": "2023-08-10T17:42:37.015Z"
   },
   {
    "duration": 4,
    "start_time": "2023-08-10T17:42:42.005Z"
   },
   {
    "duration": 18,
    "start_time": "2023-08-10T17:42:53.919Z"
   },
   {
    "duration": 16,
    "start_time": "2023-08-10T17:42:59.681Z"
   },
   {
    "duration": 19,
    "start_time": "2023-08-10T17:43:13.993Z"
   },
   {
    "duration": 5,
    "start_time": "2023-08-10T17:43:35.831Z"
   },
   {
    "duration": 3,
    "start_time": "2023-08-10T17:43:41.874Z"
   },
   {
    "duration": 101,
    "start_time": "2023-08-10T17:44:17.082Z"
   },
   {
    "duration": 83,
    "start_time": "2023-08-10T17:44:50.978Z"
   },
   {
    "duration": 350,
    "start_time": "2023-08-10T17:45:27.121Z"
   },
   {
    "duration": 83,
    "start_time": "2023-08-10T17:46:34.811Z"
   },
   {
    "duration": 78,
    "start_time": "2023-08-10T17:46:57.128Z"
   },
   {
    "duration": 21,
    "start_time": "2023-08-10T17:47:11.339Z"
   },
   {
    "duration": 25,
    "start_time": "2023-08-10T17:47:18.722Z"
   },
   {
    "duration": 4,
    "start_time": "2023-08-10T17:48:03.606Z"
   },
   {
    "duration": 18,
    "start_time": "2023-08-10T17:48:07.424Z"
   },
   {
    "duration": 6,
    "start_time": "2023-08-10T17:48:12.737Z"
   },
   {
    "duration": 123,
    "start_time": "2023-08-10T17:48:14.402Z"
   },
   {
    "duration": 14,
    "start_time": "2023-08-10T17:48:59.818Z"
   },
   {
    "duration": 4,
    "start_time": "2023-08-10T17:49:29.034Z"
   },
   {
    "duration": 6,
    "start_time": "2023-08-10T17:49:37.802Z"
   },
   {
    "duration": 4,
    "start_time": "2023-08-10T17:50:03.398Z"
   },
   {
    "duration": 18,
    "start_time": "2023-08-10T17:50:06.982Z"
   },
   {
    "duration": 6,
    "start_time": "2023-08-10T17:50:13.409Z"
   },
   {
    "duration": 1604,
    "start_time": "2023-08-10T17:50:32.681Z"
   },
   {
    "duration": 31,
    "start_time": "2023-08-10T17:50:34.287Z"
   },
   {
    "duration": 17,
    "start_time": "2023-08-10T17:50:34.321Z"
   },
   {
    "duration": 10,
    "start_time": "2023-08-10T17:50:34.340Z"
   },
   {
    "duration": 42,
    "start_time": "2023-08-10T17:50:34.353Z"
   },
   {
    "duration": 142,
    "start_time": "2023-08-10T17:50:34.397Z"
   },
   {
    "duration": 7,
    "start_time": "2023-08-10T17:50:34.541Z"
   },
   {
    "duration": 459,
    "start_time": "2023-08-10T17:50:34.560Z"
   },
   {
    "duration": 464,
    "start_time": "2023-08-10T17:50:35.021Z"
   },
   {
    "duration": 8,
    "start_time": "2023-08-10T17:50:35.487Z"
   },
   {
    "duration": 63,
    "start_time": "2023-08-10T17:50:35.497Z"
   },
   {
    "duration": 74,
    "start_time": "2023-08-10T17:50:35.562Z"
   },
   {
    "duration": 23,
    "start_time": "2023-08-10T17:50:35.638Z"
   },
   {
    "duration": 17,
    "start_time": "2023-08-10T17:58:21.532Z"
   },
   {
    "duration": 5,
    "start_time": "2023-08-10T17:59:13.771Z"
   },
   {
    "duration": 13,
    "start_time": "2023-08-10T17:59:51.623Z"
   },
   {
    "duration": 19,
    "start_time": "2023-08-10T18:04:47.084Z"
   },
   {
    "duration": 40,
    "start_time": "2023-08-10T18:04:51.292Z"
   },
   {
    "duration": 152,
    "start_time": "2023-08-10T18:05:08.184Z"
   },
   {
    "duration": 24,
    "start_time": "2023-08-10T18:05:59.281Z"
   },
   {
    "duration": 25,
    "start_time": "2023-08-10T18:06:04.385Z"
   },
   {
    "duration": 27,
    "start_time": "2023-08-10T18:06:55.476Z"
   },
   {
    "duration": 16,
    "start_time": "2023-08-10T18:07:44.235Z"
   },
   {
    "duration": 22,
    "start_time": "2023-08-10T18:07:50.461Z"
   },
   {
    "duration": 25,
    "start_time": "2023-08-10T18:07:54.173Z"
   },
   {
    "duration": 20,
    "start_time": "2023-08-10T18:08:03.629Z"
   },
   {
    "duration": 27,
    "start_time": "2023-08-10T18:08:04.048Z"
   },
   {
    "duration": 25,
    "start_time": "2023-08-10T18:09:01.126Z"
   },
   {
    "duration": 24,
    "start_time": "2023-08-10T18:09:18.244Z"
   },
   {
    "duration": 28,
    "start_time": "2023-08-10T18:09:21.802Z"
   },
   {
    "duration": 7,
    "start_time": "2023-08-10T18:09:50.834Z"
   },
   {
    "duration": 133,
    "start_time": "2023-08-10T18:10:06.121Z"
   },
   {
    "duration": 3,
    "start_time": "2023-08-10T18:10:10.150Z"
   },
   {
    "duration": 29,
    "start_time": "2023-08-10T18:10:10.398Z"
   },
   {
    "duration": 11,
    "start_time": "2023-08-10T18:10:10.715Z"
   },
   {
    "duration": 4,
    "start_time": "2023-08-10T18:10:10.942Z"
   },
   {
    "duration": 19,
    "start_time": "2023-08-10T18:10:11.385Z"
   },
   {
    "duration": 147,
    "start_time": "2023-08-10T18:10:11.541Z"
   },
   {
    "duration": 7,
    "start_time": "2023-08-10T18:10:12.110Z"
   },
   {
    "duration": 537,
    "start_time": "2023-08-10T18:10:13.502Z"
   },
   {
    "duration": 412,
    "start_time": "2023-08-10T18:10:14.442Z"
   },
   {
    "duration": 8,
    "start_time": "2023-08-10T18:10:18.086Z"
   },
   {
    "duration": 6,
    "start_time": "2023-08-10T18:10:18.825Z"
   },
   {
    "duration": 3,
    "start_time": "2023-08-10T18:11:09.278Z"
   },
   {
    "duration": 30,
    "start_time": "2023-08-10T18:11:09.522Z"
   },
   {
    "duration": 13,
    "start_time": "2023-08-10T18:11:09.810Z"
   },
   {
    "duration": 4,
    "start_time": "2023-08-10T18:11:09.978Z"
   },
   {
    "duration": 15,
    "start_time": "2023-08-10T18:11:10.350Z"
   },
   {
    "duration": 129,
    "start_time": "2023-08-10T18:11:10.542Z"
   },
   {
    "duration": 7,
    "start_time": "2023-08-10T18:11:10.946Z"
   },
   {
    "duration": 432,
    "start_time": "2023-08-10T18:11:12.150Z"
   },
   {
    "duration": 416,
    "start_time": "2023-08-10T18:11:13.050Z"
   },
   {
    "duration": 10,
    "start_time": "2023-08-10T18:11:18.566Z"
   },
   {
    "duration": 7,
    "start_time": "2023-08-10T18:11:19.290Z"
   },
   {
    "duration": 27,
    "start_time": "2023-08-10T18:11:55.174Z"
   },
   {
    "duration": 8,
    "start_time": "2023-08-10T18:12:11.247Z"
   },
   {
    "duration": 104,
    "start_time": "2023-08-10T18:13:01.242Z"
   },
   {
    "duration": 147,
    "start_time": "2023-08-10T18:13:14.975Z"
   },
   {
    "duration": 125,
    "start_time": "2023-08-10T18:13:18.213Z"
   },
   {
    "duration": 5,
    "start_time": "2023-08-10T18:13:24.214Z"
   },
   {
    "duration": 5,
    "start_time": "2023-08-10T18:13:30.683Z"
   },
   {
    "duration": 4,
    "start_time": "2023-08-10T18:13:38.648Z"
   },
   {
    "duration": 6,
    "start_time": "2023-08-10T18:13:48.230Z"
   },
   {
    "duration": 108,
    "start_time": "2023-08-10T18:14:02.487Z"
   },
   {
    "duration": 18,
    "start_time": "2023-08-10T18:14:11.447Z"
   },
   {
    "duration": 27,
    "start_time": "2023-08-10T18:14:17.888Z"
   },
   {
    "duration": 1454,
    "start_time": "2023-08-10T18:14:33.128Z"
   },
   {
    "duration": 30,
    "start_time": "2023-08-10T18:14:34.585Z"
   },
   {
    "duration": 14,
    "start_time": "2023-08-10T18:14:34.617Z"
   },
   {
    "duration": 8,
    "start_time": "2023-08-10T18:14:34.634Z"
   },
   {
    "duration": 68,
    "start_time": "2023-08-10T18:14:34.645Z"
   },
   {
    "duration": 294,
    "start_time": "2023-08-10T18:14:34.715Z"
   },
   {
    "duration": 6,
    "start_time": "2023-08-10T18:14:35.011Z"
   },
   {
    "duration": 442,
    "start_time": "2023-08-10T18:14:35.019Z"
   },
   {
    "duration": 380,
    "start_time": "2023-08-10T18:14:35.463Z"
   },
   {
    "duration": 20,
    "start_time": "2023-08-10T18:14:35.846Z"
   },
   {
    "duration": 25,
    "start_time": "2023-08-10T18:14:35.868Z"
   },
   {
    "duration": 23,
    "start_time": "2023-08-10T18:14:35.895Z"
   },
   {
    "duration": 62,
    "start_time": "2023-08-10T18:14:35.920Z"
   },
   {
    "duration": 6,
    "start_time": "2023-08-10T18:14:35.985Z"
   },
   {
    "duration": 24,
    "start_time": "2023-08-10T18:14:35.992Z"
   },
   {
    "duration": 1760,
    "start_time": "2023-08-11T14:20:54.668Z"
   },
   {
    "duration": 80,
    "start_time": "2023-08-11T14:20:56.431Z"
   },
   {
    "duration": 13,
    "start_time": "2023-08-11T14:20:56.513Z"
   },
   {
    "duration": 41,
    "start_time": "2023-08-11T14:20:56.529Z"
   },
   {
    "duration": 114,
    "start_time": "2023-08-11T14:20:56.572Z"
   },
   {
    "duration": 153,
    "start_time": "2023-08-11T14:20:56.688Z"
   },
   {
    "duration": 8,
    "start_time": "2023-08-11T14:20:56.844Z"
   },
   {
    "duration": 418,
    "start_time": "2023-08-11T14:20:57.508Z"
   },
   {
    "duration": 435,
    "start_time": "2023-08-11T14:20:58.594Z"
   },
   {
    "duration": 11,
    "start_time": "2023-08-11T14:21:00.029Z"
   },
   {
    "duration": 9,
    "start_time": "2023-08-11T14:21:00.389Z"
   },
   {
    "duration": 78,
    "start_time": "2023-08-11T14:21:00.928Z"
   },
   {
    "duration": 69,
    "start_time": "2023-08-11T14:21:01.999Z"
   },
   {
    "duration": 6,
    "start_time": "2023-08-11T14:21:02.520Z"
   },
   {
    "duration": 18,
    "start_time": "2023-08-11T14:21:03.201Z"
   },
   {
    "duration": 24,
    "start_time": "2023-08-11T14:21:08.489Z"
   },
   {
    "duration": 1748,
    "start_time": "2023-08-13T09:54:03.568Z"
   },
   {
    "duration": 93,
    "start_time": "2023-08-13T09:54:05.318Z"
   },
   {
    "duration": 16,
    "start_time": "2023-08-13T09:54:05.415Z"
   },
   {
    "duration": 6,
    "start_time": "2023-08-13T09:54:05.434Z"
   },
   {
    "duration": 23,
    "start_time": "2023-08-13T09:54:05.441Z"
   },
   {
    "duration": 194,
    "start_time": "2023-08-13T09:54:05.467Z"
   },
   {
    "duration": 7,
    "start_time": "2023-08-13T09:54:05.663Z"
   },
   {
    "duration": 583,
    "start_time": "2023-08-13T09:54:05.671Z"
   },
   {
    "duration": 490,
    "start_time": "2023-08-13T09:54:06.257Z"
   },
   {
    "duration": 9,
    "start_time": "2023-08-13T09:54:06.749Z"
   },
   {
    "duration": 12,
    "start_time": "2023-08-13T09:54:06.760Z"
   },
   {
    "duration": 41,
    "start_time": "2023-08-13T09:54:06.774Z"
   },
   {
    "duration": 72,
    "start_time": "2023-08-13T09:54:06.818Z"
   },
   {
    "duration": 7,
    "start_time": "2023-08-13T09:54:06.908Z"
   },
   {
    "duration": 28,
    "start_time": "2023-08-13T09:54:06.922Z"
   },
   {
    "duration": 42,
    "start_time": "2023-08-13T09:54:06.952Z"
   },
   {
    "duration": 606,
    "start_time": "2023-08-13T09:54:45.325Z"
   },
   {
    "duration": 28,
    "start_time": "2023-08-13T09:56:59.271Z"
   },
   {
    "duration": 148,
    "start_time": "2023-08-13T09:57:49.972Z"
   },
   {
    "duration": 5,
    "start_time": "2023-08-13T09:58:01.317Z"
   },
   {
    "duration": 13,
    "start_time": "2023-08-13T09:59:23.994Z"
   },
   {
    "duration": 16,
    "start_time": "2023-08-13T09:59:26.529Z"
   },
   {
    "duration": 27,
    "start_time": "2023-08-13T09:59:42.594Z"
   },
   {
    "duration": 3,
    "start_time": "2023-08-13T10:00:14.095Z"
   },
   {
    "duration": 30,
    "start_time": "2023-08-13T10:00:14.285Z"
   },
   {
    "duration": 12,
    "start_time": "2023-08-13T10:00:14.679Z"
   },
   {
    "duration": 3,
    "start_time": "2023-08-13T10:00:14.924Z"
   },
   {
    "duration": 14,
    "start_time": "2023-08-13T10:00:15.352Z"
   },
   {
    "duration": 138,
    "start_time": "2023-08-13T10:00:15.558Z"
   },
   {
    "duration": 7,
    "start_time": "2023-08-13T10:00:16.466Z"
   },
   {
    "duration": 443,
    "start_time": "2023-08-13T10:00:17.874Z"
   },
   {
    "duration": 396,
    "start_time": "2023-08-13T10:00:18.794Z"
   },
   {
    "duration": 10,
    "start_time": "2023-08-13T10:00:20.229Z"
   },
   {
    "duration": 6,
    "start_time": "2023-08-13T10:00:20.605Z"
   },
   {
    "duration": 21,
    "start_time": "2023-08-13T10:00:21.658Z"
   },
   {
    "duration": 204,
    "start_time": "2023-08-13T10:00:23.360Z"
   },
   {
    "duration": 16,
    "start_time": "2023-08-13T10:00:28.267Z"
   },
   {
    "duration": 20,
    "start_time": "2023-08-13T10:00:33.697Z"
   },
   {
    "duration": 5,
    "start_time": "2023-08-13T10:00:47.108Z"
   },
   {
    "duration": 12,
    "start_time": "2023-08-13T10:00:50.989Z"
   },
   {
    "duration": 6,
    "start_time": "2023-08-13T10:01:05.486Z"
   },
   {
    "duration": 5,
    "start_time": "2023-08-13T10:01:08.658Z"
   },
   {
    "duration": 11,
    "start_time": "2023-08-13T10:12:56.512Z"
   },
   {
    "duration": 54,
    "start_time": "2023-08-13T10:13:23.667Z"
   },
   {
    "duration": 6,
    "start_time": "2023-08-13T10:13:28.868Z"
   },
   {
    "duration": 2207,
    "start_time": "2023-08-13T18:58:51.363Z"
   },
   {
    "duration": 30,
    "start_time": "2023-08-13T18:58:53.573Z"
   },
   {
    "duration": 17,
    "start_time": "2023-08-13T18:58:53.605Z"
   },
   {
    "duration": 12,
    "start_time": "2023-08-13T18:58:53.624Z"
   },
   {
    "duration": 25,
    "start_time": "2023-08-13T18:58:53.639Z"
   },
   {
    "duration": 196,
    "start_time": "2023-08-13T18:58:53.667Z"
   },
   {
    "duration": 8,
    "start_time": "2023-08-13T18:58:53.866Z"
   },
   {
    "duration": 511,
    "start_time": "2023-08-13T18:58:53.877Z"
   },
   {
    "duration": 561,
    "start_time": "2023-08-13T18:58:54.390Z"
   },
   {
    "duration": 16,
    "start_time": "2023-08-13T18:58:54.955Z"
   },
   {
    "duration": 35,
    "start_time": "2023-08-13T18:58:54.974Z"
   },
   {
    "duration": 27,
    "start_time": "2023-08-13T18:58:55.011Z"
   },
   {
    "duration": 126,
    "start_time": "2023-08-13T18:58:55.041Z"
   },
   {
    "duration": 9,
    "start_time": "2023-08-13T18:58:55.171Z"
   },
   {
    "duration": 54,
    "start_time": "2023-08-13T18:58:55.182Z"
   },
   {
    "duration": 84,
    "start_time": "2023-08-13T18:58:55.239Z"
   },
   {
    "duration": 0,
    "start_time": "2023-08-13T18:58:55.326Z"
   },
   {
    "duration": 74,
    "start_time": "2023-08-13T18:59:45.164Z"
   },
   {
    "duration": 131,
    "start_time": "2023-08-13T19:00:06.921Z"
   },
   {
    "duration": 6,
    "start_time": "2023-08-13T19:00:24.104Z"
   },
   {
    "duration": 6,
    "start_time": "2023-08-13T19:00:27.445Z"
   },
   {
    "duration": 147,
    "start_time": "2023-08-13T19:01:18.304Z"
   },
   {
    "duration": 17,
    "start_time": "2023-08-13T19:02:11.243Z"
   },
   {
    "duration": 25,
    "start_time": "2023-08-13T19:02:37.000Z"
   },
   {
    "duration": 18,
    "start_time": "2023-08-13T19:02:51.039Z"
   },
   {
    "duration": 9,
    "start_time": "2023-08-13T19:02:53.689Z"
   },
   {
    "duration": 6,
    "start_time": "2023-08-13T19:03:00.447Z"
   },
   {
    "duration": 5,
    "start_time": "2023-08-13T19:03:00.613Z"
   },
   {
    "duration": 6,
    "start_time": "2023-08-13T19:06:13.936Z"
   },
   {
    "duration": 7,
    "start_time": "2023-08-13T19:06:54.481Z"
   },
   {
    "duration": 5,
    "start_time": "2023-08-13T19:06:54.859Z"
   },
   {
    "duration": 17,
    "start_time": "2023-08-13T19:08:21.464Z"
   },
   {
    "duration": 6,
    "start_time": "2023-08-13T19:11:28.517Z"
   },
   {
    "duration": 46,
    "start_time": "2023-08-13T19:11:28.743Z"
   },
   {
    "duration": 6,
    "start_time": "2023-08-13T19:12:31.218Z"
   },
   {
    "duration": 4,
    "start_time": "2023-08-13T19:12:39.200Z"
   },
   {
    "duration": 28,
    "start_time": "2023-08-13T19:13:00.847Z"
   },
   {
    "duration": 6,
    "start_time": "2023-08-13T19:13:50.716Z"
   },
   {
    "duration": 23,
    "start_time": "2023-08-13T19:13:51.353Z"
   },
   {
    "duration": 16,
    "start_time": "2023-08-13T19:14:30.667Z"
   },
   {
    "duration": 24,
    "start_time": "2023-08-13T19:14:41.348Z"
   },
   {
    "duration": 27,
    "start_time": "2023-08-13T19:14:50.467Z"
   },
   {
    "duration": 8,
    "start_time": "2023-08-13T19:14:53.588Z"
   },
   {
    "duration": 65,
    "start_time": "2023-08-13T19:15:11.316Z"
   },
   {
    "duration": 4,
    "start_time": "2023-08-13T19:15:41.559Z"
   },
   {
    "duration": 6,
    "start_time": "2023-08-13T19:15:46.508Z"
   },
   {
    "duration": 4,
    "start_time": "2023-08-13T19:15:47.186Z"
   },
   {
    "duration": 15,
    "start_time": "2023-08-13T19:16:54.326Z"
   },
   {
    "duration": 14,
    "start_time": "2023-08-13T19:17:15.291Z"
   },
   {
    "duration": 6,
    "start_time": "2023-08-13T19:17:25.119Z"
   },
   {
    "duration": 5,
    "start_time": "2023-08-13T19:17:29.264Z"
   },
   {
    "duration": 12,
    "start_time": "2023-08-13T19:17:29.478Z"
   },
   {
    "duration": 4,
    "start_time": "2023-08-13T19:19:36.597Z"
   },
   {
    "duration": 8,
    "start_time": "2023-08-13T19:19:39.540Z"
   },
   {
    "duration": 24,
    "start_time": "2023-08-13T19:20:15.935Z"
   },
   {
    "duration": 45,
    "start_time": "2023-08-13T19:20:29.199Z"
   },
   {
    "duration": 6,
    "start_time": "2023-08-13T19:20:42.186Z"
   },
   {
    "duration": 5,
    "start_time": "2023-08-13T19:21:22.653Z"
   },
   {
    "duration": 38,
    "start_time": "2023-08-13T19:21:22.858Z"
   },
   {
    "duration": 9,
    "start_time": "2023-08-13T19:21:47.169Z"
   },
   {
    "duration": 7,
    "start_time": "2023-08-13T19:21:54.136Z"
   },
   {
    "duration": 5,
    "start_time": "2023-08-13T19:21:59.550Z"
   },
   {
    "duration": 5,
    "start_time": "2023-08-13T19:22:03.039Z"
   },
   {
    "duration": 6,
    "start_time": "2023-08-13T19:22:08.388Z"
   },
   {
    "duration": 5,
    "start_time": "2023-08-13T19:22:20.935Z"
   },
   {
    "duration": 5,
    "start_time": "2023-08-13T19:24:10.807Z"
   },
   {
    "duration": 34,
    "start_time": "2023-08-13T19:24:10.999Z"
   },
   {
    "duration": 5,
    "start_time": "2023-08-13T19:24:23.632Z"
   },
   {
    "duration": 33,
    "start_time": "2023-08-13T19:24:23.816Z"
   },
   {
    "duration": 8,
    "start_time": "2023-08-13T19:24:35.699Z"
   },
   {
    "duration": 45,
    "start_time": "2023-08-13T19:24:35.895Z"
   },
   {
    "duration": 6,
    "start_time": "2023-08-13T19:24:43.813Z"
   },
   {
    "duration": 46,
    "start_time": "2023-08-13T19:24:44.070Z"
   },
   {
    "duration": 5,
    "start_time": "2023-08-13T19:25:18.951Z"
   },
   {
    "duration": 32,
    "start_time": "2023-08-13T19:25:19.508Z"
   },
   {
    "duration": 6,
    "start_time": "2023-08-13T19:25:25.524Z"
   },
   {
    "duration": 33,
    "start_time": "2023-08-13T19:25:25.730Z"
   },
   {
    "duration": 5,
    "start_time": "2023-08-13T19:29:03.094Z"
   },
   {
    "duration": 253,
    "start_time": "2023-08-13T19:29:03.333Z"
   },
   {
    "duration": 37,
    "start_time": "2023-08-13T19:29:17.226Z"
   },
   {
    "duration": 7,
    "start_time": "2023-08-13T19:29:26.807Z"
   },
   {
    "duration": 8,
    "start_time": "2023-08-13T19:29:32.054Z"
   },
   {
    "duration": 9,
    "start_time": "2023-08-13T19:30:10.555Z"
   },
   {
    "duration": 29,
    "start_time": "2023-08-13T19:30:11.082Z"
   },
   {
    "duration": 6,
    "start_time": "2023-08-13T19:30:15.226Z"
   },
   {
    "duration": 6,
    "start_time": "2023-08-13T19:30:16.822Z"
   },
   {
    "duration": 14,
    "start_time": "2023-08-13T19:30:28.621Z"
   },
   {
    "duration": 5,
    "start_time": "2023-08-13T19:32:01.670Z"
   },
   {
    "duration": 27,
    "start_time": "2023-08-13T19:32:02.133Z"
   },
   {
    "duration": 5,
    "start_time": "2023-08-13T19:32:15.726Z"
   },
   {
    "duration": 33,
    "start_time": "2023-08-13T19:32:16.290Z"
   },
   {
    "duration": 21,
    "start_time": "2023-08-13T19:32:36.098Z"
   },
   {
    "duration": 26,
    "start_time": "2023-08-13T19:32:44.117Z"
   },
   {
    "duration": 8,
    "start_time": "2023-08-13T19:32:54.430Z"
   },
   {
    "duration": 280,
    "start_time": "2023-08-13T19:33:46.868Z"
   },
   {
    "duration": 207,
    "start_time": "2023-08-13T19:34:31.244Z"
   },
   {
    "duration": 6,
    "start_time": "2023-08-13T19:35:13.910Z"
   },
   {
    "duration": 2080,
    "start_time": "2023-08-14T10:16:39.303Z"
   },
   {
    "duration": 64,
    "start_time": "2023-08-14T10:16:41.385Z"
   },
   {
    "duration": 12,
    "start_time": "2023-08-14T10:16:41.451Z"
   },
   {
    "duration": 11,
    "start_time": "2023-08-14T10:16:41.464Z"
   },
   {
    "duration": 28,
    "start_time": "2023-08-14T10:16:41.476Z"
   },
   {
    "duration": 132,
    "start_time": "2023-08-14T10:16:41.505Z"
   },
   {
    "duration": 5,
    "start_time": "2023-08-14T10:16:41.639Z"
   },
   {
    "duration": 386,
    "start_time": "2023-08-14T10:16:42.013Z"
   },
   {
    "duration": 442,
    "start_time": "2023-08-14T10:16:42.646Z"
   },
   {
    "duration": 8,
    "start_time": "2023-08-14T10:16:43.486Z"
   },
   {
    "duration": 6,
    "start_time": "2023-08-14T10:16:44.042Z"
   },
   {
    "duration": 20,
    "start_time": "2023-08-14T10:16:44.864Z"
   },
   {
    "duration": 57,
    "start_time": "2023-08-14T10:16:46.406Z"
   },
   {
    "duration": 5,
    "start_time": "2023-08-14T10:16:46.991Z"
   },
   {
    "duration": 17,
    "start_time": "2023-08-14T10:16:47.709Z"
   },
   {
    "duration": 4,
    "start_time": "2023-08-14T10:16:48.128Z"
   },
   {
    "duration": 5,
    "start_time": "2023-08-14T10:16:49.150Z"
   },
   {
    "duration": 5,
    "start_time": "2023-08-14T10:16:52.819Z"
   },
   {
    "duration": 140,
    "start_time": "2023-08-14T10:16:53.072Z"
   },
   {
    "duration": 257,
    "start_time": "2023-08-14T10:17:16.573Z"
   },
   {
    "duration": 5,
    "start_time": "2023-08-14T11:48:16.658Z"
   },
   {
    "duration": 206,
    "start_time": "2023-08-14T11:48:17.033Z"
   },
   {
    "duration": 254,
    "start_time": "2023-08-14T11:48:40.020Z"
   },
   {
    "duration": 1970,
    "start_time": "2023-08-14T11:48:52.574Z"
   },
   {
    "duration": 1755,
    "start_time": "2023-08-14T11:49:43.098Z"
   },
   {
    "duration": 5,
    "start_time": "2023-08-14T11:52:27.363Z"
   },
   {
    "duration": 1729,
    "start_time": "2023-08-14T11:52:30.507Z"
   },
   {
    "duration": 4,
    "start_time": "2023-08-14T11:54:15.919Z"
   },
   {
    "duration": 16,
    "start_time": "2023-08-14T11:54:16.370Z"
   },
   {
    "duration": 5,
    "start_time": "2023-08-14T11:54:26.501Z"
   },
   {
    "duration": 1669,
    "start_time": "2023-08-14T11:54:29.059Z"
   },
   {
    "duration": 5,
    "start_time": "2023-08-14T11:56:20.187Z"
   },
   {
    "duration": 30,
    "start_time": "2023-08-14T11:56:20.593Z"
   },
   {
    "duration": 9,
    "start_time": "2023-08-14T11:57:10.360Z"
   },
   {
    "duration": 1535,
    "start_time": "2023-08-14T11:57:10.668Z"
   },
   {
    "duration": 6,
    "start_time": "2023-08-14T11:57:21.720Z"
   },
   {
    "duration": 6,
    "start_time": "2023-08-14T11:57:38.031Z"
   },
   {
    "duration": 1491,
    "start_time": "2023-08-14T11:57:38.495Z"
   },
   {
    "duration": 5,
    "start_time": "2023-08-14T12:01:59.789Z"
   },
   {
    "duration": 5,
    "start_time": "2023-08-14T12:02:04.226Z"
   },
   {
    "duration": 1282,
    "start_time": "2023-08-14T12:02:04.399Z"
   },
   {
    "duration": 16,
    "start_time": "2023-08-14T12:03:04.997Z"
   },
   {
    "duration": 152,
    "start_time": "2023-08-14T12:03:13.895Z"
   },
   {
    "duration": 174,
    "start_time": "2023-08-14T12:03:27.066Z"
   },
   {
    "duration": 849,
    "start_time": "2023-08-14T12:03:34.489Z"
   },
   {
    "duration": 5,
    "start_time": "2023-08-14T12:03:47.565Z"
   },
   {
    "duration": 37,
    "start_time": "2023-08-14T12:04:32.566Z"
   },
   {
    "duration": 13,
    "start_time": "2023-08-14T12:04:43.511Z"
   },
   {
    "duration": 16,
    "start_time": "2023-08-14T12:04:51.192Z"
   },
   {
    "duration": 10,
    "start_time": "2023-08-14T12:04:59.967Z"
   },
   {
    "duration": 10,
    "start_time": "2023-08-14T12:05:06.592Z"
   },
   {
    "duration": 18,
    "start_time": "2023-08-14T12:05:09.870Z"
   },
   {
    "duration": 17,
    "start_time": "2023-08-14T12:05:34.838Z"
   },
   {
    "duration": 8,
    "start_time": "2023-08-14T12:05:43.287Z"
   },
   {
    "duration": 26,
    "start_time": "2023-08-14T12:05:49.798Z"
   },
   {
    "duration": 200,
    "start_time": "2023-08-14T12:06:14.486Z"
   },
   {
    "duration": 12,
    "start_time": "2023-08-14T12:06:30.086Z"
   },
   {
    "duration": 107,
    "start_time": "2023-08-14T12:06:43.591Z"
   },
   {
    "duration": 108,
    "start_time": "2023-08-14T12:06:46.575Z"
   },
   {
    "duration": 117,
    "start_time": "2023-08-14T12:07:03.297Z"
   },
   {
    "duration": 113,
    "start_time": "2023-08-14T12:07:22.796Z"
   },
   {
    "duration": 22,
    "start_time": "2023-08-14T12:08:24.098Z"
   },
   {
    "duration": 7,
    "start_time": "2023-08-14T12:08:28.538Z"
   },
   {
    "duration": 23,
    "start_time": "2023-08-14T12:08:33.784Z"
   },
   {
    "duration": 7,
    "start_time": "2023-08-14T12:08:42.965Z"
   },
   {
    "duration": 19,
    "start_time": "2023-08-14T12:08:43.187Z"
   },
   {
    "duration": 3,
    "start_time": "2023-08-14T12:09:04.189Z"
   },
   {
    "duration": 37,
    "start_time": "2023-08-14T12:09:08.968Z"
   },
   {
    "duration": 6,
    "start_time": "2023-08-14T12:09:09.526Z"
   },
   {
    "duration": 4,
    "start_time": "2023-08-14T12:10:02.441Z"
   },
   {
    "duration": 28,
    "start_time": "2023-08-14T12:10:02.675Z"
   },
   {
    "duration": 13,
    "start_time": "2023-08-14T12:10:03.141Z"
   },
   {
    "duration": 3,
    "start_time": "2023-08-14T12:10:03.613Z"
   },
   {
    "duration": 14,
    "start_time": "2023-08-14T12:10:04.570Z"
   },
   {
    "duration": 120,
    "start_time": "2023-08-14T12:10:05.323Z"
   },
   {
    "duration": 6,
    "start_time": "2023-08-14T12:10:06.069Z"
   },
   {
    "duration": 524,
    "start_time": "2023-08-14T12:10:07.325Z"
   },
   {
    "duration": 382,
    "start_time": "2023-08-14T12:10:07.891Z"
   },
   {
    "duration": 8,
    "start_time": "2023-08-14T12:10:08.673Z"
   },
   {
    "duration": 7,
    "start_time": "2023-08-14T12:10:09.128Z"
   },
   {
    "duration": 21,
    "start_time": "2023-08-14T12:10:10.168Z"
   },
   {
    "duration": 9,
    "start_time": "2023-08-14T12:10:14.333Z"
   },
   {
    "duration": 121,
    "start_time": "2023-08-14T12:10:15.328Z"
   },
   {
    "duration": 6,
    "start_time": "2023-08-14T12:10:17.889Z"
   },
   {
    "duration": 22,
    "start_time": "2023-08-14T12:10:18.527Z"
   },
   {
    "duration": 69,
    "start_time": "2023-08-14T12:12:07.968Z"
   },
   {
    "duration": 114,
    "start_time": "2023-08-14T12:12:11.679Z"
   },
   {
    "duration": 4,
    "start_time": "2023-08-14T12:12:17.879Z"
   },
   {
    "duration": 28,
    "start_time": "2023-08-14T12:12:18.080Z"
   },
   {
    "duration": 11,
    "start_time": "2023-08-14T12:12:18.496Z"
   },
   {
    "duration": 3,
    "start_time": "2023-08-14T12:12:18.687Z"
   },
   {
    "duration": 13,
    "start_time": "2023-08-14T12:12:19.401Z"
   },
   {
    "duration": 145,
    "start_time": "2023-08-14T12:12:20.168Z"
   },
   {
    "duration": 6,
    "start_time": "2023-08-14T12:12:37.287Z"
   },
   {
    "duration": 1104,
    "start_time": "2023-08-14T12:12:48.010Z"
   },
   {
    "duration": 7,
    "start_time": "2023-08-14T12:12:52.137Z"
   },
   {
    "duration": 118,
    "start_time": "2023-08-14T12:12:59.465Z"
   },
   {
    "duration": 5,
    "start_time": "2023-08-14T12:12:59.667Z"
   },
   {
    "duration": 5,
    "start_time": "2023-08-14T12:13:07.076Z"
   },
   {
    "duration": 29,
    "start_time": "2023-08-14T12:13:07.306Z"
   },
   {
    "duration": 11,
    "start_time": "2023-08-14T12:13:07.652Z"
   },
   {
    "duration": 3,
    "start_time": "2023-08-14T12:13:07.868Z"
   },
   {
    "duration": 14,
    "start_time": "2023-08-14T12:13:08.364Z"
   },
   {
    "duration": 127,
    "start_time": "2023-08-14T12:13:08.524Z"
   },
   {
    "duration": 109,
    "start_time": "2023-08-14T12:13:25.668Z"
   },
   {
    "duration": 6,
    "start_time": "2023-08-14T12:13:39.671Z"
   },
   {
    "duration": 406,
    "start_time": "2023-08-14T12:13:40.875Z"
   },
   {
    "duration": 391,
    "start_time": "2023-08-14T12:13:42.086Z"
   },
   {
    "duration": 9,
    "start_time": "2023-08-14T12:13:42.996Z"
   },
   {
    "duration": 6,
    "start_time": "2023-08-14T12:13:43.414Z"
   },
   {
    "duration": 206,
    "start_time": "2023-08-14T12:13:44.490Z"
   },
   {
    "duration": 5,
    "start_time": "2023-08-14T12:13:45.725Z"
   },
   {
    "duration": 17,
    "start_time": "2023-08-14T12:13:46.215Z"
   },
   {
    "duration": 4,
    "start_time": "2023-08-14T12:13:46.926Z"
   },
   {
    "duration": 5,
    "start_time": "2023-08-14T12:13:47.880Z"
   },
   {
    "duration": 83,
    "start_time": "2023-08-14T12:13:48.372Z"
   },
   {
    "duration": 5,
    "start_time": "2023-08-14T12:14:02.765Z"
   },
   {
    "duration": 1361,
    "start_time": "2023-08-14T12:14:02.967Z"
   },
   {
    "duration": 109,
    "start_time": "2023-08-14T12:14:53.369Z"
   },
   {
    "duration": 3,
    "start_time": "2023-08-14T12:15:11.296Z"
   },
   {
    "duration": 22,
    "start_time": "2023-08-14T12:15:34.502Z"
   },
   {
    "duration": 2014,
    "start_time": "2023-08-14T12:15:40.471Z"
   },
   {
    "duration": 30,
    "start_time": "2023-08-14T12:15:42.487Z"
   },
   {
    "duration": 12,
    "start_time": "2023-08-14T12:15:42.519Z"
   },
   {
    "duration": 22,
    "start_time": "2023-08-14T12:15:42.533Z"
   },
   {
    "duration": 39,
    "start_time": "2023-08-14T12:15:42.558Z"
   },
   {
    "duration": 149,
    "start_time": "2023-08-14T12:15:42.599Z"
   },
   {
    "duration": 5,
    "start_time": "2023-08-14T12:15:42.750Z"
   },
   {
    "duration": 408,
    "start_time": "2023-08-14T12:15:42.757Z"
   },
   {
    "duration": 391,
    "start_time": "2023-08-14T12:15:43.166Z"
   },
   {
    "duration": 8,
    "start_time": "2023-08-14T12:15:43.559Z"
   },
   {
    "duration": 6,
    "start_time": "2023-08-14T12:15:43.575Z"
   },
   {
    "duration": 61,
    "start_time": "2023-08-14T12:15:43.583Z"
   },
   {
    "duration": 5,
    "start_time": "2023-08-14T12:15:43.645Z"
   },
   {
    "duration": 34,
    "start_time": "2023-08-14T12:15:43.652Z"
   },
   {
    "duration": 17,
    "start_time": "2023-08-14T12:15:43.687Z"
   },
   {
    "duration": 9,
    "start_time": "2023-08-14T12:15:43.706Z"
   },
   {
    "duration": 183,
    "start_time": "2023-08-14T12:15:43.717Z"
   },
   {
    "duration": 6,
    "start_time": "2023-08-14T12:16:00.533Z"
   },
   {
    "duration": 4,
    "start_time": "2023-08-14T12:16:06.740Z"
   },
   {
    "duration": 3,
    "start_time": "2023-08-14T12:16:18.571Z"
   },
   {
    "duration": 29,
    "start_time": "2023-08-14T12:16:18.819Z"
   },
   {
    "duration": 12,
    "start_time": "2023-08-14T12:16:19.212Z"
   },
   {
    "duration": 4,
    "start_time": "2023-08-14T12:16:19.469Z"
   },
   {
    "duration": 22,
    "start_time": "2023-08-14T12:16:20.335Z"
   },
   {
    "duration": 5,
    "start_time": "2023-08-14T12:16:21.134Z"
   },
   {
    "duration": 137,
    "start_time": "2023-08-14T12:16:22.006Z"
   },
   {
    "duration": 17,
    "start_time": "2023-08-14T12:17:21.070Z"
   },
   {
    "duration": 3,
    "start_time": "2023-08-14T12:17:29.674Z"
   },
   {
    "duration": 28,
    "start_time": "2023-08-14T12:17:29.873Z"
   },
   {
    "duration": 15,
    "start_time": "2023-08-14T12:17:30.289Z"
   },
   {
    "duration": 4,
    "start_time": "2023-08-14T12:17:30.411Z"
   },
   {
    "duration": 13,
    "start_time": "2023-08-14T12:17:30.928Z"
   },
   {
    "duration": 4,
    "start_time": "2023-08-14T12:17:31.334Z"
   },
   {
    "duration": 127,
    "start_time": "2023-08-14T12:17:31.918Z"
   },
   {
    "duration": 114,
    "start_time": "2023-08-14T12:17:58.043Z"
   },
   {
    "duration": 3,
    "start_time": "2023-08-14T12:18:01.574Z"
   },
   {
    "duration": 28,
    "start_time": "2023-08-14T12:18:01.770Z"
   },
   {
    "duration": 12,
    "start_time": "2023-08-14T12:18:02.112Z"
   },
   {
    "duration": 4,
    "start_time": "2023-08-14T12:18:02.310Z"
   },
   {
    "duration": 14,
    "start_time": "2023-08-14T12:18:02.744Z"
   },
   {
    "duration": 4,
    "start_time": "2023-08-14T12:18:02.969Z"
   },
   {
    "duration": 123,
    "start_time": "2023-08-14T12:18:03.508Z"
   },
   {
    "duration": 113,
    "start_time": "2023-08-14T12:18:07.844Z"
   },
   {
    "duration": 6,
    "start_time": "2023-08-14T12:18:12.433Z"
   },
   {
    "duration": 516,
    "start_time": "2023-08-14T12:18:13.469Z"
   },
   {
    "duration": 393,
    "start_time": "2023-08-14T12:18:13.987Z"
   },
   {
    "duration": 8,
    "start_time": "2023-08-14T12:18:14.394Z"
   },
   {
    "duration": 6,
    "start_time": "2023-08-14T12:18:14.599Z"
   },
   {
    "duration": 59,
    "start_time": "2023-08-14T12:18:15.803Z"
   },
   {
    "duration": 6,
    "start_time": "2023-08-14T12:18:18.469Z"
   },
   {
    "duration": 16,
    "start_time": "2023-08-14T12:18:19.245Z"
   },
   {
    "duration": 5,
    "start_time": "2023-08-14T12:18:21.100Z"
   },
   {
    "duration": 6,
    "start_time": "2023-08-14T12:18:22.440Z"
   },
   {
    "duration": 1314,
    "start_time": "2023-08-14T12:18:25.070Z"
   },
   {
    "duration": 12180,
    "start_time": "2023-08-14T12:20:58.590Z"
   },
   {
    "duration": 1269,
    "start_time": "2023-08-14T12:21:21.089Z"
   },
   {
    "duration": 1248,
    "start_time": "2023-08-14T12:21:25.009Z"
   },
   {
    "duration": 8,
    "start_time": "2023-08-14T12:21:36.095Z"
   },
   {
    "duration": 7,
    "start_time": "2023-08-14T12:22:26.605Z"
   },
   {
    "duration": 1361,
    "start_time": "2023-08-14T12:22:28.171Z"
   },
   {
    "duration": 5,
    "start_time": "2023-08-14T12:22:41.734Z"
   },
   {
    "duration": 20,
    "start_time": "2023-08-14T12:22:42.324Z"
   },
   {
    "duration": 5,
    "start_time": "2023-08-14T12:22:50.071Z"
   },
   {
    "duration": 1190,
    "start_time": "2023-08-14T12:22:50.366Z"
   },
   {
    "duration": 3,
    "start_time": "2023-08-14T14:49:16.704Z"
   },
   {
    "duration": 28,
    "start_time": "2023-08-14T14:49:16.893Z"
   },
   {
    "duration": 10,
    "start_time": "2023-08-14T14:49:17.326Z"
   },
   {
    "duration": 3,
    "start_time": "2023-08-14T14:49:17.765Z"
   },
   {
    "duration": 12,
    "start_time": "2023-08-14T14:49:18.556Z"
   },
   {
    "duration": 5,
    "start_time": "2023-08-14T14:49:18.990Z"
   },
   {
    "duration": 132,
    "start_time": "2023-08-14T14:49:19.599Z"
   },
   {
    "duration": 4,
    "start_time": "2023-08-14T14:49:41.213Z"
   },
   {
    "duration": 28,
    "start_time": "2023-08-14T14:49:41.422Z"
   },
   {
    "duration": 11,
    "start_time": "2023-08-14T14:49:41.816Z"
   },
   {
    "duration": 3,
    "start_time": "2023-08-14T14:49:42.017Z"
   },
   {
    "duration": 14,
    "start_time": "2023-08-14T14:49:42.462Z"
   },
   {
    "duration": 5,
    "start_time": "2023-08-14T14:49:42.687Z"
   },
   {
    "duration": 108,
    "start_time": "2023-08-14T14:49:42.956Z"
   },
   {
    "duration": 6,
    "start_time": "2023-08-14T14:49:47.962Z"
   },
   {
    "duration": 393,
    "start_time": "2023-08-14T14:49:48.655Z"
   },
   {
    "duration": 384,
    "start_time": "2023-08-14T14:49:49.070Z"
   },
   {
    "duration": 8,
    "start_time": "2023-08-14T14:49:49.756Z"
   },
   {
    "duration": 8,
    "start_time": "2023-08-14T14:49:50.224Z"
   },
   {
    "duration": 64,
    "start_time": "2023-08-14T14:49:51.557Z"
   },
   {
    "duration": 7,
    "start_time": "2023-08-14T14:49:52.252Z"
   },
   {
    "duration": 16,
    "start_time": "2023-08-14T14:49:52.656Z"
   },
   {
    "duration": 6,
    "start_time": "2023-08-14T14:49:53.070Z"
   },
   {
    "duration": 5,
    "start_time": "2023-08-14T14:49:53.998Z"
   },
   {
    "duration": 1131,
    "start_time": "2023-08-14T14:49:54.666Z"
   },
   {
    "duration": 5,
    "start_time": "2023-08-14T14:50:14.657Z"
   },
   {
    "duration": 3,
    "start_time": "2023-08-14T15:04:22.994Z"
   },
   {
    "duration": 29,
    "start_time": "2023-08-14T15:04:23.256Z"
   },
   {
    "duration": 21,
    "start_time": "2023-08-14T15:04:24.077Z"
   },
   {
    "duration": 3,
    "start_time": "2023-08-14T15:04:25.875Z"
   },
   {
    "duration": 12,
    "start_time": "2023-08-14T15:04:26.885Z"
   },
   {
    "duration": 5,
    "start_time": "2023-08-14T15:04:27.529Z"
   },
   {
    "duration": 117,
    "start_time": "2023-08-14T15:05:05.531Z"
   },
   {
    "duration": 5,
    "start_time": "2023-08-14T15:08:23.765Z"
   },
   {
    "duration": 5,
    "start_time": "2023-08-14T15:08:26.828Z"
   },
   {
    "duration": 5,
    "start_time": "2023-08-14T15:08:43.176Z"
   },
   {
    "duration": 17,
    "start_time": "2023-08-14T15:09:07.279Z"
   },
   {
    "duration": 5,
    "start_time": "2023-08-14T15:09:36.159Z"
   },
   {
    "duration": 18,
    "start_time": "2023-08-14T15:10:17.156Z"
   },
   {
    "duration": 13,
    "start_time": "2023-08-14T15:13:09.019Z"
   },
   {
    "duration": 149,
    "start_time": "2023-08-14T15:13:13.730Z"
   },
   {
    "duration": 5,
    "start_time": "2023-08-14T15:13:26.858Z"
   },
   {
    "duration": 14,
    "start_time": "2023-08-14T15:13:47.749Z"
   },
   {
    "duration": 19,
    "start_time": "2023-08-14T15:13:51.584Z"
   },
   {
    "duration": 14,
    "start_time": "2023-08-14T15:14:05.260Z"
   },
   {
    "duration": 16,
    "start_time": "2023-08-14T15:14:11.388Z"
   },
   {
    "duration": 14,
    "start_time": "2023-08-14T15:14:15.199Z"
   },
   {
    "duration": 11,
    "start_time": "2023-08-14T15:14:54.356Z"
   },
   {
    "duration": 5,
    "start_time": "2023-08-14T15:14:58.056Z"
   },
   {
    "duration": 16,
    "start_time": "2023-08-14T15:15:20.860Z"
   },
   {
    "duration": 22,
    "start_time": "2023-08-14T15:15:29.278Z"
   },
   {
    "duration": 25,
    "start_time": "2023-08-14T15:15:39.309Z"
   },
   {
    "duration": 4,
    "start_time": "2023-08-14T15:17:37.431Z"
   },
   {
    "duration": 63,
    "start_time": "2023-08-14T15:18:21.282Z"
   },
   {
    "duration": 33,
    "start_time": "2023-08-14T15:18:30.260Z"
   },
   {
    "duration": 30,
    "start_time": "2023-08-14T15:18:43.236Z"
   },
   {
    "duration": 42,
    "start_time": "2023-08-14T15:19:43.293Z"
   },
   {
    "duration": 44,
    "start_time": "2023-08-14T15:19:48.595Z"
   },
   {
    "duration": 9,
    "start_time": "2023-08-14T15:22:37.498Z"
   },
   {
    "duration": 9,
    "start_time": "2023-08-14T15:22:38.167Z"
   },
   {
    "duration": 16,
    "start_time": "2023-08-14T15:22:47.964Z"
   },
   {
    "duration": 13,
    "start_time": "2023-08-14T15:23:12.777Z"
   },
   {
    "duration": 12,
    "start_time": "2023-08-14T15:23:16.992Z"
   },
   {
    "duration": 9,
    "start_time": "2023-08-14T15:23:22.704Z"
   },
   {
    "duration": 5,
    "start_time": "2023-08-14T15:24:14.334Z"
   },
   {
    "duration": 15,
    "start_time": "2023-08-14T15:24:17.212Z"
   },
   {
    "duration": 11,
    "start_time": "2023-08-14T15:24:17.313Z"
   },
   {
    "duration": 16,
    "start_time": "2023-08-14T15:24:35.864Z"
   },
   {
    "duration": 11,
    "start_time": "2023-08-14T15:24:45.565Z"
   },
   {
    "duration": 13,
    "start_time": "2023-08-14T15:24:58.207Z"
   },
   {
    "duration": 6,
    "start_time": "2023-08-14T15:25:22.735Z"
   },
   {
    "duration": 11,
    "start_time": "2023-08-14T15:25:55.122Z"
   },
   {
    "duration": 4,
    "start_time": "2023-08-14T15:25:57.395Z"
   },
   {
    "duration": 4,
    "start_time": "2023-08-14T15:26:11.727Z"
   },
   {
    "duration": 30,
    "start_time": "2023-08-14T15:26:11.937Z"
   },
   {
    "duration": 11,
    "start_time": "2023-08-14T15:26:13.040Z"
   },
   {
    "duration": 3,
    "start_time": "2023-08-14T15:26:13.332Z"
   },
   {
    "duration": 16,
    "start_time": "2023-08-14T15:26:13.772Z"
   },
   {
    "duration": 121,
    "start_time": "2023-08-14T15:26:14.580Z"
   },
   {
    "duration": 7,
    "start_time": "2023-08-14T15:26:14.772Z"
   },
   {
    "duration": 440,
    "start_time": "2023-08-14T15:26:15.566Z"
   },
   {
    "duration": 18,
    "start_time": "2023-08-14T15:26:16.595Z"
   },
   {
    "duration": 46,
    "start_time": "2023-08-14T15:26:17.615Z"
   },
   {
    "duration": 407,
    "start_time": "2023-08-14T15:26:18.583Z"
   },
   {
    "duration": 22,
    "start_time": "2023-08-14T15:26:19.603Z"
   },
   {
    "duration": 7,
    "start_time": "2023-08-14T15:26:20.096Z"
   },
   {
    "duration": 4,
    "start_time": "2023-08-14T15:29:07.595Z"
   },
   {
    "duration": 30,
    "start_time": "2023-08-14T15:29:07.810Z"
   },
   {
    "duration": 12,
    "start_time": "2023-08-14T15:29:08.213Z"
   },
   {
    "duration": 4,
    "start_time": "2023-08-14T15:29:08.419Z"
   },
   {
    "duration": 19,
    "start_time": "2023-08-14T15:29:08.832Z"
   },
   {
    "duration": 120,
    "start_time": "2023-08-14T15:29:09.630Z"
   },
   {
    "duration": 7,
    "start_time": "2023-08-14T15:29:09.752Z"
   },
   {
    "duration": 447,
    "start_time": "2023-08-14T15:29:10.430Z"
   },
   {
    "duration": 19,
    "start_time": "2023-08-14T15:29:11.322Z"
   },
   {
    "duration": 49,
    "start_time": "2023-08-14T15:29:13.463Z"
   },
   {
    "duration": 439,
    "start_time": "2023-08-14T15:29:16.384Z"
   },
   {
    "duration": 11,
    "start_time": "2023-08-14T15:29:17.668Z"
   },
   {
    "duration": 7,
    "start_time": "2023-08-14T15:29:18.083Z"
   },
   {
    "duration": 8,
    "start_time": "2023-08-14T15:29:19.865Z"
   },
   {
    "duration": 92,
    "start_time": "2023-08-14T15:29:58.966Z"
   },
   {
    "duration": 6,
    "start_time": "2023-08-14T15:29:59.537Z"
   },
   {
    "duration": 138,
    "start_time": "2023-08-14T15:30:13.585Z"
   },
   {
    "duration": 2283,
    "start_time": "2023-08-14T15:30:17.905Z"
   },
   {
    "duration": 31,
    "start_time": "2023-08-14T15:30:20.190Z"
   },
   {
    "duration": 18,
    "start_time": "2023-08-14T15:30:20.223Z"
   },
   {
    "duration": 48,
    "start_time": "2023-08-14T15:30:20.243Z"
   },
   {
    "duration": 43,
    "start_time": "2023-08-14T15:30:20.295Z"
   },
   {
    "duration": 225,
    "start_time": "2023-08-14T15:30:20.340Z"
   },
   {
    "duration": 12,
    "start_time": "2023-08-14T15:30:20.568Z"
   },
   {
    "duration": 494,
    "start_time": "2023-08-14T15:30:20.583Z"
   },
   {
    "duration": 22,
    "start_time": "2023-08-14T15:30:21.079Z"
   },
   {
    "duration": 62,
    "start_time": "2023-08-14T15:30:21.103Z"
   },
   {
    "duration": 434,
    "start_time": "2023-08-14T15:30:21.175Z"
   },
   {
    "duration": 9,
    "start_time": "2023-08-14T15:30:21.611Z"
   },
   {
    "duration": 34,
    "start_time": "2023-08-14T15:30:21.621Z"
   },
   {
    "duration": 17,
    "start_time": "2023-08-14T15:30:21.658Z"
   },
   {
    "duration": 183,
    "start_time": "2023-08-14T15:30:21.677Z"
   },
   {
    "duration": 1,
    "start_time": "2023-08-14T15:30:21.861Z"
   },
   {
    "duration": 0,
    "start_time": "2023-08-14T15:30:21.863Z"
   },
   {
    "duration": 0,
    "start_time": "2023-08-14T15:30:21.864Z"
   },
   {
    "duration": 9,
    "start_time": "2023-08-14T15:30:43.910Z"
   },
   {
    "duration": 18,
    "start_time": "2023-08-14T15:30:44.410Z"
   },
   {
    "duration": 7,
    "start_time": "2023-08-14T15:30:57.364Z"
   },
   {
    "duration": 7,
    "start_time": "2023-08-14T15:31:01.969Z"
   },
   {
    "duration": 5,
    "start_time": "2023-08-14T15:34:27.163Z"
   },
   {
    "duration": 17,
    "start_time": "2023-08-14T15:36:21.101Z"
   },
   {
    "duration": 8,
    "start_time": "2023-08-14T15:36:32.660Z"
   },
   {
    "duration": 19,
    "start_time": "2023-08-14T15:36:33.443Z"
   },
   {
    "duration": 41,
    "start_time": "2023-08-14T15:39:26.667Z"
   },
   {
    "duration": 4,
    "start_time": "2023-08-14T15:39:53.022Z"
   },
   {
    "duration": 5,
    "start_time": "2023-08-14T15:39:58.435Z"
   },
   {
    "duration": 6,
    "start_time": "2023-08-14T15:41:02.035Z"
   },
   {
    "duration": 12,
    "start_time": "2023-08-14T15:43:12.825Z"
   },
   {
    "duration": 4,
    "start_time": "2023-08-14T15:43:18.984Z"
   },
   {
    "duration": 4,
    "start_time": "2023-08-14T15:43:21.561Z"
   },
   {
    "duration": 5,
    "start_time": "2023-08-14T15:43:24.838Z"
   },
   {
    "duration": 12,
    "start_time": "2023-08-14T15:43:29.294Z"
   },
   {
    "duration": 3,
    "start_time": "2023-08-14T15:43:33.558Z"
   },
   {
    "duration": 7,
    "start_time": "2023-08-14T15:43:44.058Z"
   },
   {
    "duration": 18,
    "start_time": "2023-08-14T15:43:44.262Z"
   },
   {
    "duration": 4,
    "start_time": "2023-08-14T15:43:44.488Z"
   },
   {
    "duration": 6,
    "start_time": "2023-08-14T15:46:51.677Z"
   },
   {
    "duration": 4,
    "start_time": "2023-08-14T15:46:55.433Z"
   },
   {
    "duration": 6,
    "start_time": "2023-08-14T15:48:50.490Z"
   },
   {
    "duration": 4,
    "start_time": "2023-08-14T15:48:51.061Z"
   },
   {
    "duration": 5,
    "start_time": "2023-08-14T15:51:08.479Z"
   },
   {
    "duration": 3,
    "start_time": "2023-08-14T15:51:08.737Z"
   },
   {
    "duration": 5,
    "start_time": "2023-08-14T15:51:12.888Z"
   },
   {
    "duration": 4,
    "start_time": "2023-08-14T15:51:13.400Z"
   },
   {
    "duration": 8,
    "start_time": "2023-08-14T15:53:26.700Z"
   },
   {
    "duration": 6,
    "start_time": "2023-08-14T15:53:48.726Z"
   },
   {
    "duration": 7,
    "start_time": "2023-08-14T15:53:51.927Z"
   },
   {
    "duration": 10,
    "start_time": "2023-08-14T15:54:37.172Z"
   },
   {
    "duration": 6,
    "start_time": "2023-08-14T15:56:33.767Z"
   },
   {
    "duration": 10,
    "start_time": "2023-08-14T17:01:27.087Z"
   },
   {
    "duration": 13,
    "start_time": "2023-08-14T17:02:44.558Z"
   },
   {
    "duration": 25,
    "start_time": "2023-08-14T17:02:45.430Z"
   },
   {
    "duration": 23,
    "start_time": "2023-08-14T17:02:57.838Z"
   },
   {
    "duration": 44,
    "start_time": "2023-08-14T17:03:04.278Z"
   },
   {
    "duration": 21,
    "start_time": "2023-08-14T17:03:24.465Z"
   },
   {
    "duration": 5,
    "start_time": "2023-08-14T17:03:37.273Z"
   },
   {
    "duration": 724,
    "start_time": "2023-08-14T17:03:43.272Z"
   },
   {
    "duration": 482,
    "start_time": "2023-08-14T17:03:55.914Z"
   },
   {
    "duration": 325,
    "start_time": "2023-08-14T17:05:02.367Z"
   },
   {
    "duration": 9,
    "start_time": "2023-08-14T17:05:22.213Z"
   },
   {
    "duration": 308,
    "start_time": "2023-08-14T17:05:23.087Z"
   },
   {
    "duration": 5,
    "start_time": "2023-08-14T17:05:38.119Z"
   },
   {
    "duration": 10,
    "start_time": "2023-08-14T17:06:30.711Z"
   },
   {
    "duration": 444,
    "start_time": "2023-08-14T17:06:31.141Z"
   },
   {
    "duration": 12,
    "start_time": "2023-08-14T17:08:17.418Z"
   },
   {
    "duration": 465,
    "start_time": "2023-08-14T17:08:19.123Z"
   },
   {
    "duration": 5434,
    "start_time": "2023-08-14T17:08:25.447Z"
   },
   {
    "duration": 432,
    "start_time": "2023-08-14T17:08:36.259Z"
   },
   {
    "duration": 92,
    "start_time": "2023-08-14T17:10:41.038Z"
   },
   {
    "duration": 37550,
    "start_time": "2023-08-14T17:10:44.838Z"
   },
   {
    "duration": 0,
    "start_time": "2023-08-14T17:11:22.389Z"
   },
   {
    "duration": 12360,
    "start_time": "2023-08-14T17:11:26.719Z"
   },
   {
    "duration": 4346,
    "start_time": "2023-08-14T17:12:46.452Z"
   },
   {
    "duration": 4268,
    "start_time": "2023-08-14T17:13:02.720Z"
   },
   {
    "duration": 11,
    "start_time": "2023-08-14T17:13:11.279Z"
   },
   {
    "duration": 4457,
    "start_time": "2023-08-14T17:13:16.327Z"
   },
   {
    "duration": 10,
    "start_time": "2023-08-14T17:13:54.161Z"
   },
   {
    "duration": 5862,
    "start_time": "2023-08-14T17:13:54.413Z"
   },
   {
    "duration": 16,
    "start_time": "2023-08-14T17:14:00.815Z"
   },
   {
    "duration": 6595,
    "start_time": "2023-08-14T17:14:00.999Z"
   },
   {
    "duration": 4449,
    "start_time": "2023-08-14T17:14:17.134Z"
   },
   {
    "duration": 3523,
    "start_time": "2023-08-14T17:15:08.676Z"
   },
   {
    "duration": 12,
    "start_time": "2023-08-14T17:15:18.432Z"
   },
   {
    "duration": 3531,
    "start_time": "2023-08-14T17:15:19.260Z"
   },
   {
    "duration": 4559,
    "start_time": "2023-08-14T17:15:32.329Z"
   },
   {
    "duration": 4705,
    "start_time": "2023-08-14T17:15:53.388Z"
   },
   {
    "duration": 13,
    "start_time": "2023-08-14T17:16:05.488Z"
   },
   {
    "duration": 4343,
    "start_time": "2023-08-14T17:16:06.852Z"
   },
   {
    "duration": 2760,
    "start_time": "2023-08-14T17:16:17.915Z"
   },
   {
    "duration": 4,
    "start_time": "2023-08-14T17:17:11.862Z"
   },
   {
    "duration": 11,
    "start_time": "2023-08-14T17:17:50.985Z"
   },
   {
    "duration": 1792,
    "start_time": "2023-08-14T17:17:51.194Z"
   },
   {
    "duration": 5,
    "start_time": "2023-08-14T17:17:54.871Z"
   },
   {
    "duration": 341,
    "start_time": "2023-08-14T17:19:12.727Z"
   },
   {
    "duration": 4,
    "start_time": "2023-08-14T17:19:15.797Z"
   },
   {
    "duration": 11,
    "start_time": "2023-08-14T17:19:53.481Z"
   },
   {
    "duration": 11,
    "start_time": "2023-08-14T17:20:02.939Z"
   },
   {
    "duration": 26,
    "start_time": "2023-08-14T17:20:05.685Z"
   },
   {
    "duration": 11,
    "start_time": "2023-08-14T17:20:22.945Z"
   },
   {
    "duration": 333,
    "start_time": "2023-08-14T17:20:24.659Z"
   },
   {
    "duration": 28637,
    "start_time": "2023-08-14T17:20:32.729Z"
   },
   {
    "duration": 9716,
    "start_time": "2023-08-14T17:21:08.154Z"
   },
   {
    "duration": 350,
    "start_time": "2023-08-14T17:21:22.549Z"
   },
   {
    "duration": 420,
    "start_time": "2023-08-14T17:21:27.780Z"
   },
   {
    "duration": 351,
    "start_time": "2023-08-14T17:21:31.763Z"
   },
   {
    "duration": 430,
    "start_time": "2023-08-14T17:22:13.249Z"
   },
   {
    "duration": 424,
    "start_time": "2023-08-14T17:22:24.933Z"
   },
   {
    "duration": 19,
    "start_time": "2023-08-14T17:22:41.330Z"
   },
   {
    "duration": 11,
    "start_time": "2023-08-14T17:24:47.117Z"
   },
   {
    "duration": 438,
    "start_time": "2023-08-14T17:24:48.028Z"
   },
   {
    "duration": 11,
    "start_time": "2023-08-14T17:25:24.320Z"
   },
   {
    "duration": 453,
    "start_time": "2023-08-14T17:25:24.596Z"
   },
   {
    "duration": 13,
    "start_time": "2023-08-14T17:25:53.118Z"
   },
   {
    "duration": 446,
    "start_time": "2023-08-14T17:25:53.865Z"
   },
   {
    "duration": 8,
    "start_time": "2023-08-14T17:26:11.883Z"
   },
   {
    "duration": 7,
    "start_time": "2023-08-14T17:26:17.471Z"
   },
   {
    "duration": 7,
    "start_time": "2023-08-14T17:26:26.487Z"
   },
   {
    "duration": 5,
    "start_time": "2023-08-14T17:26:36.274Z"
   },
   {
    "duration": 464,
    "start_time": "2023-08-14T17:26:42.116Z"
   },
   {
    "duration": 5,
    "start_time": "2023-08-14T17:26:50.199Z"
   },
   {
    "duration": 4,
    "start_time": "2023-08-14T17:27:01.139Z"
   },
   {
    "duration": 129,
    "start_time": "2023-08-14T17:27:11.935Z"
   },
   {
    "duration": 187,
    "start_time": "2023-08-14T17:27:22.173Z"
   },
   {
    "duration": 6,
    "start_time": "2023-08-14T17:27:27.733Z"
   },
   {
    "duration": 252,
    "start_time": "2023-08-14T17:28:18.595Z"
   },
   {
    "duration": 173,
    "start_time": "2023-08-14T17:28:27.110Z"
   },
   {
    "duration": 4,
    "start_time": "2023-08-14T17:30:40.804Z"
   },
   {
    "duration": 17,
    "start_time": "2023-08-14T17:30:41.320Z"
   },
   {
    "duration": 25,
    "start_time": "2023-08-14T17:30:44.778Z"
   },
   {
    "duration": 5,
    "start_time": "2023-08-14T17:31:01.004Z"
   },
   {
    "duration": 18,
    "start_time": "2023-08-14T17:31:01.181Z"
   },
   {
    "duration": 26,
    "start_time": "2023-08-14T17:31:02.469Z"
   },
   {
    "duration": 5,
    "start_time": "2023-08-14T17:31:49.554Z"
   },
   {
    "duration": 16,
    "start_time": "2023-08-14T17:31:49.748Z"
   },
   {
    "duration": 8,
    "start_time": "2023-08-14T17:31:50.249Z"
   },
   {
    "duration": 6,
    "start_time": "2023-08-14T17:31:58.319Z"
   },
   {
    "duration": 4,
    "start_time": "2023-08-14T17:32:02.990Z"
   },
   {
    "duration": 16,
    "start_time": "2023-08-14T17:32:03.182Z"
   },
   {
    "duration": 6,
    "start_time": "2023-08-14T17:32:03.375Z"
   },
   {
    "duration": 178,
    "start_time": "2023-08-14T17:32:04.456Z"
   },
   {
    "duration": 6,
    "start_time": "2023-08-14T17:33:21.428Z"
   },
   {
    "duration": 24,
    "start_time": "2023-08-14T17:33:21.990Z"
   },
   {
    "duration": 22,
    "start_time": "2023-08-14T17:33:32.082Z"
   },
   {
    "duration": 4,
    "start_time": "2023-08-14T17:35:22.169Z"
   },
   {
    "duration": 17,
    "start_time": "2023-08-14T17:40:11.284Z"
   },
   {
    "duration": 6,
    "start_time": "2023-08-14T17:40:11.631Z"
   },
   {
    "duration": 18,
    "start_time": "2023-08-14T17:40:12.448Z"
   },
   {
    "duration": 13,
    "start_time": "2023-08-14T17:40:20.388Z"
   },
   {
    "duration": 12,
    "start_time": "2023-08-14T17:42:02.071Z"
   },
   {
    "duration": 10,
    "start_time": "2023-08-14T17:42:14.551Z"
   },
   {
    "duration": 5,
    "start_time": "2023-08-14T17:42:20.099Z"
   },
   {
    "duration": 19,
    "start_time": "2023-08-14T17:46:01.739Z"
   },
   {
    "duration": 6,
    "start_time": "2023-08-14T17:46:20.296Z"
   },
   {
    "duration": 20,
    "start_time": "2023-08-14T17:46:20.663Z"
   },
   {
    "duration": 6,
    "start_time": "2023-08-14T17:46:21.092Z"
   },
   {
    "duration": 19,
    "start_time": "2023-08-14T17:46:22.161Z"
   },
   {
    "duration": 194,
    "start_time": "2023-08-14T17:46:44.491Z"
   },
   {
    "duration": 4,
    "start_time": "2023-08-14T17:48:05.826Z"
   },
   {
    "duration": 3,
    "start_time": "2023-08-14T17:48:26.441Z"
   },
   {
    "duration": 1985,
    "start_time": "2023-08-14T17:52:25.343Z"
   },
   {
    "duration": 32,
    "start_time": "2023-08-14T17:52:27.329Z"
   },
   {
    "duration": 20,
    "start_time": "2023-08-14T17:52:27.363Z"
   },
   {
    "duration": 17,
    "start_time": "2023-08-14T17:52:27.386Z"
   },
   {
    "duration": 45,
    "start_time": "2023-08-14T17:52:27.406Z"
   },
   {
    "duration": 123,
    "start_time": "2023-08-14T17:52:27.453Z"
   },
   {
    "duration": 15,
    "start_time": "2023-08-14T17:52:27.579Z"
   },
   {
    "duration": 417,
    "start_time": "2023-08-14T17:52:27.596Z"
   },
   {
    "duration": 19,
    "start_time": "2023-08-14T17:52:28.014Z"
   },
   {
    "duration": 73,
    "start_time": "2023-08-14T17:52:28.035Z"
   },
   {
    "duration": 411,
    "start_time": "2023-08-14T17:52:28.110Z"
   },
   {
    "duration": 9,
    "start_time": "2023-08-14T17:52:28.522Z"
   },
   {
    "duration": 22,
    "start_time": "2023-08-14T17:52:28.532Z"
   },
   {
    "duration": 7,
    "start_time": "2023-08-14T17:52:28.557Z"
   },
   {
    "duration": 30,
    "start_time": "2023-08-14T17:52:28.565Z"
   },
   {
    "duration": 15,
    "start_time": "2023-08-14T17:52:28.597Z"
   },
   {
    "duration": 180,
    "start_time": "2023-08-14T17:52:28.614Z"
   },
   {
    "duration": 0,
    "start_time": "2023-08-14T17:52:28.796Z"
   },
   {
    "duration": 0,
    "start_time": "2023-08-14T17:52:28.798Z"
   },
   {
    "duration": 307,
    "start_time": "2023-08-14T17:52:59.425Z"
   },
   {
    "duration": 4,
    "start_time": "2023-08-14T17:53:02.041Z"
   },
   {
    "duration": 292,
    "start_time": "2023-08-14T17:53:22.889Z"
   },
   {
    "duration": 349,
    "start_time": "2023-08-14T17:53:32.278Z"
   },
   {
    "duration": 3044,
    "start_time": "2023-08-15T15:34:11.626Z"
   },
   {
    "duration": 74,
    "start_time": "2023-08-15T15:34:16.109Z"
   },
   {
    "duration": 21,
    "start_time": "2023-08-15T15:34:20.534Z"
   },
   {
    "duration": 28,
    "start_time": "2023-08-15T15:34:33.796Z"
   },
   {
    "duration": 28,
    "start_time": "2023-08-15T15:34:35.406Z"
   },
   {
    "duration": 15,
    "start_time": "2023-08-15T15:34:37.925Z"
   },
   {
    "duration": 2653,
    "start_time": "2023-08-15T15:40:18.463Z"
   },
   {
    "duration": 30,
    "start_time": "2023-08-15T15:40:21.119Z"
   },
   {
    "duration": 80,
    "start_time": "2023-08-15T15:40:21.151Z"
   },
   {
    "duration": 34,
    "start_time": "2023-08-15T15:40:21.233Z"
   },
   {
    "duration": 61,
    "start_time": "2023-08-15T15:40:21.270Z"
   },
   {
    "duration": 160,
    "start_time": "2023-08-15T15:40:21.333Z"
   },
   {
    "duration": 15,
    "start_time": "2023-08-15T15:40:21.495Z"
   },
   {
    "duration": 437,
    "start_time": "2023-08-15T15:40:21.511Z"
   },
   {
    "duration": 21,
    "start_time": "2023-08-15T15:40:21.950Z"
   },
   {
    "duration": 69,
    "start_time": "2023-08-15T15:40:21.972Z"
   },
   {
    "duration": 390,
    "start_time": "2023-08-15T15:40:22.042Z"
   },
   {
    "duration": 8,
    "start_time": "2023-08-15T15:40:22.434Z"
   },
   {
    "duration": 26,
    "start_time": "2023-08-15T15:40:22.444Z"
   },
   {
    "duration": 24,
    "start_time": "2023-08-15T15:40:22.473Z"
   },
   {
    "duration": 113,
    "start_time": "2023-08-15T15:40:22.498Z"
   },
   {
    "duration": 25,
    "start_time": "2023-08-15T15:40:22.613Z"
   },
   {
    "duration": 7,
    "start_time": "2023-08-15T15:40:36.422Z"
   },
   {
    "duration": 5,
    "start_time": "2023-08-15T15:40:40.307Z"
   },
   {
    "duration": 6,
    "start_time": "2023-08-15T15:40:59.797Z"
   },
   {
    "duration": 5,
    "start_time": "2023-08-15T15:41:00.883Z"
   },
   {
    "duration": 361,
    "start_time": "2023-08-15T15:41:15.599Z"
   },
   {
    "duration": 5333,
    "start_time": "2023-08-15T15:41:44.885Z"
   },
   {
    "duration": 8,
    "start_time": "2023-08-15T15:45:43.007Z"
   },
   {
    "duration": 5,
    "start_time": "2023-08-15T15:55:42.108Z"
   },
   {
    "duration": 99,
    "start_time": "2023-08-15T15:55:45.670Z"
   },
   {
    "duration": 5,
    "start_time": "2023-08-15T15:55:54.746Z"
   },
   {
    "duration": 5,
    "start_time": "2023-08-15T15:56:03.550Z"
   },
   {
    "duration": 4,
    "start_time": "2023-08-15T15:57:13.931Z"
   },
   {
    "duration": 137,
    "start_time": "2023-08-15T15:57:16.895Z"
   },
   {
    "duration": 14,
    "start_time": "2023-08-15T15:57:34.332Z"
   },
   {
    "duration": 7,
    "start_time": "2023-08-15T15:58:08.365Z"
   },
   {
    "duration": 5,
    "start_time": "2023-08-15T16:00:24.624Z"
   },
   {
    "duration": 12,
    "start_time": "2023-08-15T16:00:33.414Z"
   },
   {
    "duration": 6,
    "start_time": "2023-08-15T16:01:27.079Z"
   },
   {
    "duration": 5,
    "start_time": "2023-08-15T16:01:33.854Z"
   },
   {
    "duration": 6,
    "start_time": "2023-08-15T16:01:39.203Z"
   },
   {
    "duration": 6,
    "start_time": "2023-08-15T16:01:52.371Z"
   },
   {
    "duration": 7,
    "start_time": "2023-08-15T16:02:48.304Z"
   },
   {
    "duration": 5548,
    "start_time": "2023-08-15T16:03:16.224Z"
   },
   {
    "duration": 2999,
    "start_time": "2023-08-15T16:03:53.956Z"
   },
   {
    "duration": 30,
    "start_time": "2023-08-15T16:03:56.957Z"
   },
   {
    "duration": 16,
    "start_time": "2023-08-15T16:03:56.989Z"
   },
   {
    "duration": 16,
    "start_time": "2023-08-15T16:03:57.006Z"
   },
   {
    "duration": 25,
    "start_time": "2023-08-15T16:03:57.025Z"
   },
   {
    "duration": 137,
    "start_time": "2023-08-15T16:03:57.052Z"
   },
   {
    "duration": 7,
    "start_time": "2023-08-15T16:03:57.190Z"
   },
   {
    "duration": 467,
    "start_time": "2023-08-15T16:03:57.210Z"
   },
   {
    "duration": 21,
    "start_time": "2023-08-15T16:03:57.679Z"
   },
   {
    "duration": 56,
    "start_time": "2023-08-15T16:03:57.710Z"
   },
   {
    "duration": 480,
    "start_time": "2023-08-15T16:03:57.768Z"
   },
   {
    "duration": 8,
    "start_time": "2023-08-15T16:03:58.250Z"
   },
   {
    "duration": 14,
    "start_time": "2023-08-15T16:03:58.259Z"
   },
   {
    "duration": 6,
    "start_time": "2023-08-15T16:03:58.276Z"
   },
   {
    "duration": 41,
    "start_time": "2023-08-15T16:03:58.283Z"
   },
   {
    "duration": 23,
    "start_time": "2023-08-15T16:03:58.326Z"
   },
   {
    "duration": 7,
    "start_time": "2023-08-15T16:04:11.288Z"
   },
   {
    "duration": 8,
    "start_time": "2023-08-15T16:04:19.171Z"
   },
   {
    "duration": 321,
    "start_time": "2023-08-15T16:04:20.744Z"
   },
   {
    "duration": 6,
    "start_time": "2023-08-15T16:04:29.854Z"
   },
   {
    "duration": 5725,
    "start_time": "2023-08-15T16:04:30.755Z"
   },
   {
    "duration": 6,
    "start_time": "2023-08-15T16:04:45.286Z"
   },
   {
    "duration": 5792,
    "start_time": "2023-08-15T16:04:46.253Z"
   },
   {
    "duration": 8,
    "start_time": "2023-08-15T16:05:28.005Z"
   },
   {
    "duration": 5101,
    "start_time": "2023-08-15T16:05:39.408Z"
   },
   {
    "duration": 5,
    "start_time": "2023-08-15T16:05:58.873Z"
   },
   {
    "duration": 6,
    "start_time": "2023-08-15T16:06:05.247Z"
   },
   {
    "duration": 6,
    "start_time": "2023-08-15T16:06:16.764Z"
   },
   {
    "duration": 2885,
    "start_time": "2023-08-15T16:06:40.233Z"
   },
   {
    "duration": 30,
    "start_time": "2023-08-15T16:06:43.120Z"
   },
   {
    "duration": 15,
    "start_time": "2023-08-15T16:06:43.152Z"
   },
   {
    "duration": 11,
    "start_time": "2023-08-15T16:06:43.169Z"
   },
   {
    "duration": 30,
    "start_time": "2023-08-15T16:06:43.183Z"
   },
   {
    "duration": 138,
    "start_time": "2023-08-15T16:06:43.215Z"
   },
   {
    "duration": 6,
    "start_time": "2023-08-15T16:06:43.355Z"
   },
   {
    "duration": 427,
    "start_time": "2023-08-15T16:06:43.363Z"
   },
   {
    "duration": 28,
    "start_time": "2023-08-15T16:06:43.791Z"
   },
   {
    "duration": 47,
    "start_time": "2023-08-15T16:06:43.821Z"
   },
   {
    "duration": 426,
    "start_time": "2023-08-15T16:06:43.870Z"
   },
   {
    "duration": 14,
    "start_time": "2023-08-15T16:06:44.298Z"
   },
   {
    "duration": 7,
    "start_time": "2023-08-15T16:06:44.314Z"
   },
   {
    "duration": 8,
    "start_time": "2023-08-15T16:06:44.323Z"
   },
   {
    "duration": 20,
    "start_time": "2023-08-15T16:06:44.333Z"
   },
   {
    "duration": 8,
    "start_time": "2023-08-15T16:06:44.355Z"
   },
   {
    "duration": 8,
    "start_time": "2023-08-15T16:07:23.774Z"
   },
   {
    "duration": 8,
    "start_time": "2023-08-15T16:07:37.848Z"
   },
   {
    "duration": 4,
    "start_time": "2023-08-15T16:07:42.547Z"
   },
   {
    "duration": 5,
    "start_time": "2023-08-15T16:07:57.901Z"
   },
   {
    "duration": 5000,
    "start_time": "2023-08-15T16:08:17.747Z"
   },
   {
    "duration": 5,
    "start_time": "2023-08-15T16:08:28.494Z"
   },
   {
    "duration": 12,
    "start_time": "2023-08-15T16:08:35.893Z"
   },
   {
    "duration": 7,
    "start_time": "2023-08-15T16:08:53.952Z"
   },
   {
    "duration": 10,
    "start_time": "2023-08-15T16:09:02.268Z"
   },
   {
    "duration": 4,
    "start_time": "2023-08-15T16:09:37.631Z"
   },
   {
    "duration": 6,
    "start_time": "2023-08-15T16:09:42.035Z"
   },
   {
    "duration": 6,
    "start_time": "2023-08-15T16:09:53.114Z"
   },
   {
    "duration": 4,
    "start_time": "2023-08-15T16:10:00.398Z"
   },
   {
    "duration": 7,
    "start_time": "2023-08-15T16:10:03.948Z"
   },
   {
    "duration": 6,
    "start_time": "2023-08-15T16:10:18.510Z"
   },
   {
    "duration": 6,
    "start_time": "2023-08-15T16:10:25.289Z"
   },
   {
    "duration": 3,
    "start_time": "2023-08-15T16:10:52.447Z"
   },
   {
    "duration": 6,
    "start_time": "2023-08-15T16:11:13.088Z"
   },
   {
    "duration": 5,
    "start_time": "2023-08-15T16:11:31.875Z"
   },
   {
    "duration": 7,
    "start_time": "2023-08-15T16:12:00.268Z"
   },
   {
    "duration": 8554,
    "start_time": "2023-08-15T16:12:10.627Z"
   },
   {
    "duration": 3264,
    "start_time": "2023-08-15T16:12:25.619Z"
   },
   {
    "duration": 31,
    "start_time": "2023-08-15T16:12:28.894Z"
   },
   {
    "duration": 21,
    "start_time": "2023-08-15T16:12:28.927Z"
   },
   {
    "duration": 29,
    "start_time": "2023-08-15T16:12:28.951Z"
   },
   {
    "duration": 30,
    "start_time": "2023-08-15T16:12:28.983Z"
   },
   {
    "duration": 203,
    "start_time": "2023-08-15T16:12:29.016Z"
   },
   {
    "duration": 9,
    "start_time": "2023-08-15T16:12:29.221Z"
   },
   {
    "duration": 564,
    "start_time": "2023-08-15T16:12:29.232Z"
   },
   {
    "duration": 28,
    "start_time": "2023-08-15T16:12:29.798Z"
   },
   {
    "duration": 83,
    "start_time": "2023-08-15T16:12:29.829Z"
   },
   {
    "duration": 427,
    "start_time": "2023-08-15T16:12:29.914Z"
   },
   {
    "duration": 14,
    "start_time": "2023-08-15T16:12:30.343Z"
   },
   {
    "duration": 372,
    "start_time": "2023-08-15T16:12:30.360Z"
   },
   {
    "duration": 54,
    "start_time": "2023-08-15T16:12:30.734Z"
   },
   {
    "duration": 103,
    "start_time": "2023-08-15T16:12:30.791Z"
   },
   {
    "duration": 54,
    "start_time": "2023-08-15T16:12:30.896Z"
   },
   {
    "duration": 8,
    "start_time": "2023-08-15T16:12:39.810Z"
   },
   {
    "duration": 316,
    "start_time": "2023-08-15T16:12:50.958Z"
   },
   {
    "duration": 10,
    "start_time": "2023-08-15T16:13:07.154Z"
   },
   {
    "duration": 8661,
    "start_time": "2023-08-15T16:13:07.627Z"
   },
   {
    "duration": 2252,
    "start_time": "2023-08-16T07:35:48.640Z"
   },
   {
    "duration": 75,
    "start_time": "2023-08-16T07:35:50.894Z"
   },
   {
    "duration": 13,
    "start_time": "2023-08-16T07:35:50.971Z"
   },
   {
    "duration": 23,
    "start_time": "2023-08-16T07:35:50.985Z"
   },
   {
    "duration": 44,
    "start_time": "2023-08-16T07:35:51.010Z"
   },
   {
    "duration": 144,
    "start_time": "2023-08-16T07:35:51.056Z"
   },
   {
    "duration": 6,
    "start_time": "2023-08-16T07:35:51.201Z"
   },
   {
    "duration": 413,
    "start_time": "2023-08-16T07:35:51.220Z"
   },
   {
    "duration": 23,
    "start_time": "2023-08-16T07:35:51.929Z"
   },
   {
    "duration": 42,
    "start_time": "2023-08-16T07:35:53.035Z"
   },
   {
    "duration": 453,
    "start_time": "2023-08-16T07:35:54.386Z"
   },
   {
    "duration": 10,
    "start_time": "2023-08-16T07:35:54.941Z"
   },
   {
    "duration": 6,
    "start_time": "2023-08-16T07:35:55.158Z"
   },
   {
    "duration": 5,
    "start_time": "2023-08-16T07:35:58.853Z"
   },
   {
    "duration": 17,
    "start_time": "2023-08-16T07:35:59.474Z"
   },
   {
    "duration": 151,
    "start_time": "2023-08-16T07:36:00.786Z"
   },
   {
    "duration": 130,
    "start_time": "2023-08-16T07:36:26.652Z"
   },
   {
    "duration": 11,
    "start_time": "2023-08-16T07:36:58.237Z"
   },
   {
    "duration": 33,
    "start_time": "2023-08-16T07:37:02.360Z"
   },
   {
    "duration": 29,
    "start_time": "2023-08-16T07:37:03.467Z"
   },
   {
    "duration": 9,
    "start_time": "2023-08-16T07:37:04.001Z"
   },
   {
    "duration": 3,
    "start_time": "2023-08-16T07:37:04.180Z"
   },
   {
    "duration": 13,
    "start_time": "2023-08-16T07:37:04.541Z"
   },
   {
    "duration": 119,
    "start_time": "2023-08-16T07:37:05.286Z"
   },
   {
    "duration": 6,
    "start_time": "2023-08-16T07:37:05.484Z"
   },
   {
    "duration": 377,
    "start_time": "2023-08-16T07:37:06.098Z"
   },
   {
    "duration": 16,
    "start_time": "2023-08-16T07:37:06.509Z"
   },
   {
    "duration": 41,
    "start_time": "2023-08-16T07:37:06.926Z"
   },
   {
    "duration": 444,
    "start_time": "2023-08-16T07:37:07.615Z"
   },
   {
    "duration": 7,
    "start_time": "2023-08-16T07:37:08.061Z"
   },
   {
    "duration": 5,
    "start_time": "2023-08-16T07:37:08.261Z"
   },
   {
    "duration": 5,
    "start_time": "2023-08-16T07:37:09.999Z"
   },
   {
    "duration": 15,
    "start_time": "2023-08-16T07:37:10.562Z"
   },
   {
    "duration": 7,
    "start_time": "2023-08-16T07:37:24.634Z"
   },
   {
    "duration": 15,
    "start_time": "2023-08-16T07:37:30.257Z"
   },
   {
    "duration": 5,
    "start_time": "2023-08-16T07:37:31.783Z"
   },
   {
    "duration": 7748,
    "start_time": "2023-08-16T07:37:37.489Z"
   },
   {
    "duration": 7369,
    "start_time": "2023-08-16T07:38:05.239Z"
   },
   {
    "duration": 118,
    "start_time": "2023-08-16T07:51:44.871Z"
   },
   {
    "duration": 15,
    "start_time": "2023-08-16T07:51:50.082Z"
   },
   {
    "duration": 15,
    "start_time": "2023-08-16T07:52:23.271Z"
   },
   {
    "duration": 19,
    "start_time": "2023-08-16T07:52:45.756Z"
   },
   {
    "duration": 2461,
    "start_time": "2023-08-16T12:16:17.744Z"
   },
   {
    "duration": 92,
    "start_time": "2023-08-16T12:16:20.207Z"
   },
   {
    "duration": 15,
    "start_time": "2023-08-16T12:16:20.302Z"
   },
   {
    "duration": 28,
    "start_time": "2023-08-16T12:16:20.320Z"
   },
   {
    "duration": 35,
    "start_time": "2023-08-16T12:16:20.350Z"
   },
   {
    "duration": 167,
    "start_time": "2023-08-16T12:16:20.386Z"
   },
   {
    "duration": 7,
    "start_time": "2023-08-16T12:16:20.555Z"
   },
   {
    "duration": 457,
    "start_time": "2023-08-16T12:16:20.843Z"
   },
   {
    "duration": 21,
    "start_time": "2023-08-16T12:16:21.359Z"
   },
   {
    "duration": 53,
    "start_time": "2023-08-16T12:16:21.910Z"
   },
   {
    "duration": 461,
    "start_time": "2023-08-16T12:16:22.833Z"
   },
   {
    "duration": 10,
    "start_time": "2023-08-16T12:16:23.344Z"
   },
   {
    "duration": 8,
    "start_time": "2023-08-16T12:16:23.679Z"
   },
   {
    "duration": 6,
    "start_time": "2023-08-16T12:16:25.133Z"
   },
   {
    "duration": 28,
    "start_time": "2023-08-16T12:16:26.795Z"
   },
   {
    "duration": 142,
    "start_time": "2023-08-16T12:16:27.086Z"
   },
   {
    "duration": 14,
    "start_time": "2023-08-16T12:16:38.697Z"
   },
   {
    "duration": 18,
    "start_time": "2023-08-16T12:16:42.775Z"
   },
   {
    "duration": 15,
    "start_time": "2023-08-16T12:16:43.043Z"
   },
   {
    "duration": 6,
    "start_time": "2023-08-16T12:16:46.929Z"
   },
   {
    "duration": 13,
    "start_time": "2023-08-16T12:17:05.815Z"
   },
   {
    "duration": 4,
    "start_time": "2023-08-16T12:17:14.629Z"
   },
   {
    "duration": 9,
    "start_time": "2023-08-16T12:17:17.661Z"
   },
   {
    "duration": 20,
    "start_time": "2023-08-16T12:17:35.727Z"
   },
   {
    "duration": 24,
    "start_time": "2023-08-16T12:17:35.920Z"
   },
   {
    "duration": 16,
    "start_time": "2023-08-16T12:18:05.866Z"
   },
   {
    "duration": 7,
    "start_time": "2023-08-16T12:18:11.053Z"
   },
   {
    "duration": 7,
    "start_time": "2023-08-16T12:18:27.974Z"
   },
   {
    "duration": 34,
    "start_time": "2023-08-16T12:18:31.997Z"
   },
   {
    "duration": 30,
    "start_time": "2023-08-16T12:18:34.841Z"
   },
   {
    "duration": 19,
    "start_time": "2023-08-16T12:18:39.085Z"
   },
   {
    "duration": 6,
    "start_time": "2023-08-16T12:18:39.346Z"
   },
   {
    "duration": 24,
    "start_time": "2023-08-16T12:18:40.959Z"
   },
   {
    "duration": 4,
    "start_time": "2023-08-16T12:18:47.234Z"
   },
   {
    "duration": 23,
    "start_time": "2023-08-16T12:18:58.911Z"
   },
   {
    "duration": 6,
    "start_time": "2023-08-16T12:19:00.898Z"
   },
   {
    "duration": 12,
    "start_time": "2023-08-16T12:19:11.719Z"
   },
   {
    "duration": 11,
    "start_time": "2023-08-16T12:19:23.952Z"
   },
   {
    "duration": 12,
    "start_time": "2023-08-16T12:19:36.632Z"
   },
   {
    "duration": 11,
    "start_time": "2023-08-16T12:19:39.577Z"
   },
   {
    "duration": 13,
    "start_time": "2023-08-16T12:20:04.231Z"
   },
   {
    "duration": 8,
    "start_time": "2023-08-16T12:20:07.767Z"
   },
   {
    "duration": 5,
    "start_time": "2023-08-16T12:20:12.950Z"
   },
   {
    "duration": 19,
    "start_time": "2023-08-16T12:20:19.970Z"
   },
   {
    "duration": 13,
    "start_time": "2023-08-16T12:20:25.627Z"
   },
   {
    "duration": 6,
    "start_time": "2023-08-16T12:20:28.361Z"
   },
   {
    "duration": 18,
    "start_time": "2023-08-16T12:20:34.762Z"
   },
   {
    "duration": 16,
    "start_time": "2023-08-16T12:20:59.002Z"
   },
   {
    "duration": 6,
    "start_time": "2023-08-16T12:21:09.107Z"
   },
   {
    "duration": 5,
    "start_time": "2023-08-16T12:21:11.505Z"
   },
   {
    "duration": 4,
    "start_time": "2023-08-16T12:21:21.869Z"
   },
   {
    "duration": 4,
    "start_time": "2023-08-16T12:21:24.845Z"
   },
   {
    "duration": 26,
    "start_time": "2023-08-16T12:21:39.304Z"
   },
   {
    "duration": 5,
    "start_time": "2023-08-16T12:21:52.689Z"
   },
   {
    "duration": 5,
    "start_time": "2023-08-16T12:21:58.841Z"
   },
   {
    "duration": 4594,
    "start_time": "2023-08-16T12:22:22.419Z"
   },
   {
    "duration": 4,
    "start_time": "2023-08-16T12:23:30.366Z"
   },
   {
    "duration": 30,
    "start_time": "2023-08-16T12:23:30.542Z"
   },
   {
    "duration": 13,
    "start_time": "2023-08-16T12:23:31.087Z"
   },
   {
    "duration": 4,
    "start_time": "2023-08-16T12:23:31.294Z"
   },
   {
    "duration": 16,
    "start_time": "2023-08-16T12:23:31.721Z"
   },
   {
    "duration": 121,
    "start_time": "2023-08-16T12:23:32.266Z"
   },
   {
    "duration": 6,
    "start_time": "2023-08-16T12:23:33.579Z"
   },
   {
    "duration": 529,
    "start_time": "2023-08-16T12:23:34.628Z"
   },
   {
    "duration": 18,
    "start_time": "2023-08-16T12:23:35.216Z"
   },
   {
    "duration": 46,
    "start_time": "2023-08-16T12:23:35.846Z"
   },
   {
    "duration": 399,
    "start_time": "2023-08-16T12:23:36.959Z"
   },
   {
    "duration": 4345,
    "start_time": "2023-08-16T12:25:48.079Z"
   },
   {
    "duration": 4143,
    "start_time": "2023-08-16T12:26:31.672Z"
   },
   {
    "duration": 2071,
    "start_time": "2023-08-16T12:26:39.160Z"
   },
   {
    "duration": 32,
    "start_time": "2023-08-16T12:26:41.233Z"
   },
   {
    "duration": 13,
    "start_time": "2023-08-16T12:26:41.267Z"
   },
   {
    "duration": 11,
    "start_time": "2023-08-16T12:26:41.282Z"
   },
   {
    "duration": 25,
    "start_time": "2023-08-16T12:26:41.296Z"
   },
   {
    "duration": 147,
    "start_time": "2023-08-16T12:26:41.323Z"
   },
   {
    "duration": 6,
    "start_time": "2023-08-16T12:26:41.472Z"
   },
   {
    "duration": 461,
    "start_time": "2023-08-16T12:26:41.479Z"
   },
   {
    "duration": 33,
    "start_time": "2023-08-16T12:26:41.942Z"
   },
   {
    "duration": 48,
    "start_time": "2023-08-16T12:26:41.977Z"
   },
   {
    "duration": 426,
    "start_time": "2023-08-16T12:26:42.027Z"
   },
   {
    "duration": 10,
    "start_time": "2023-08-16T12:26:42.455Z"
   },
   {
    "duration": 10,
    "start_time": "2023-08-16T12:26:42.467Z"
   },
   {
    "duration": 9,
    "start_time": "2023-08-16T12:26:42.480Z"
   },
   {
    "duration": 25,
    "start_time": "2023-08-16T12:26:42.491Z"
   },
   {
    "duration": 22,
    "start_time": "2023-08-16T12:26:42.518Z"
   },
   {
    "duration": 13,
    "start_time": "2023-08-16T12:26:42.542Z"
   },
   {
    "duration": 4219,
    "start_time": "2023-08-16T12:26:42.558Z"
   },
   {
    "duration": 2098,
    "start_time": "2023-08-16T12:26:54.261Z"
   },
   {
    "duration": 33,
    "start_time": "2023-08-16T12:26:56.361Z"
   },
   {
    "duration": 15,
    "start_time": "2023-08-16T12:26:56.396Z"
   },
   {
    "duration": 19,
    "start_time": "2023-08-16T12:26:56.413Z"
   },
   {
    "duration": 23,
    "start_time": "2023-08-16T12:26:56.434Z"
   },
   {
    "duration": 139,
    "start_time": "2023-08-16T12:26:56.460Z"
   },
   {
    "duration": 6,
    "start_time": "2023-08-16T12:26:56.601Z"
   },
   {
    "duration": 472,
    "start_time": "2023-08-16T12:26:56.609Z"
   },
   {
    "duration": 20,
    "start_time": "2023-08-16T12:26:57.082Z"
   },
   {
    "duration": 73,
    "start_time": "2023-08-16T12:26:57.104Z"
   },
   {
    "duration": 389,
    "start_time": "2023-08-16T12:26:57.180Z"
   },
   {
    "duration": 9,
    "start_time": "2023-08-16T12:26:57.571Z"
   },
   {
    "duration": 11,
    "start_time": "2023-08-16T12:26:57.582Z"
   },
   {
    "duration": 7,
    "start_time": "2023-08-16T12:26:57.597Z"
   },
   {
    "duration": 25,
    "start_time": "2023-08-16T12:26:57.606Z"
   },
   {
    "duration": 27,
    "start_time": "2023-08-16T12:26:57.633Z"
   },
   {
    "duration": 20,
    "start_time": "2023-08-16T12:26:57.662Z"
   },
   {
    "duration": 4356,
    "start_time": "2023-08-16T12:26:57.684Z"
   },
   {
    "duration": 2165,
    "start_time": "2023-08-16T12:27:04.501Z"
   },
   {
    "duration": 33,
    "start_time": "2023-08-16T12:27:06.669Z"
   },
   {
    "duration": 13,
    "start_time": "2023-08-16T12:27:06.704Z"
   },
   {
    "duration": 16,
    "start_time": "2023-08-16T12:27:06.718Z"
   },
   {
    "duration": 43,
    "start_time": "2023-08-16T12:27:06.736Z"
   },
   {
    "duration": 134,
    "start_time": "2023-08-16T12:27:06.781Z"
   },
   {
    "duration": 7,
    "start_time": "2023-08-16T12:27:06.917Z"
   },
   {
    "duration": 456,
    "start_time": "2023-08-16T12:27:06.925Z"
   },
   {
    "duration": 21,
    "start_time": "2023-08-16T12:27:07.383Z"
   },
   {
    "duration": 72,
    "start_time": "2023-08-16T12:27:07.406Z"
   },
   {
    "duration": 412,
    "start_time": "2023-08-16T12:27:07.480Z"
   },
   {
    "duration": 8,
    "start_time": "2023-08-16T12:27:07.894Z"
   },
   {
    "duration": 11,
    "start_time": "2023-08-16T12:27:07.904Z"
   },
   {
    "duration": 7,
    "start_time": "2023-08-16T12:27:07.918Z"
   },
   {
    "duration": 36,
    "start_time": "2023-08-16T12:27:07.927Z"
   },
   {
    "duration": 4,
    "start_time": "2023-08-16T12:27:07.965Z"
   },
   {
    "duration": 12,
    "start_time": "2023-08-16T12:27:07.971Z"
   },
   {
    "duration": 4381,
    "start_time": "2023-08-16T12:27:07.985Z"
   },
   {
    "duration": 2102,
    "start_time": "2023-08-16T12:29:59.559Z"
   },
   {
    "duration": 33,
    "start_time": "2023-08-16T12:30:01.664Z"
   },
   {
    "duration": 23,
    "start_time": "2023-08-16T12:30:01.699Z"
   },
   {
    "duration": 51,
    "start_time": "2023-08-16T12:30:01.723Z"
   },
   {
    "duration": 70,
    "start_time": "2023-08-16T12:30:01.777Z"
   },
   {
    "duration": 210,
    "start_time": "2023-08-16T12:30:01.849Z"
   },
   {
    "duration": 9,
    "start_time": "2023-08-16T12:30:02.061Z"
   },
   {
    "duration": 550,
    "start_time": "2023-08-16T12:30:02.072Z"
   },
   {
    "duration": 21,
    "start_time": "2023-08-16T12:30:02.624Z"
   },
   {
    "duration": 105,
    "start_time": "2023-08-16T12:30:02.647Z"
   },
   {
    "duration": 407,
    "start_time": "2023-08-16T12:30:02.754Z"
   },
   {
    "duration": 9,
    "start_time": "2023-08-16T12:30:03.162Z"
   },
   {
    "duration": 31,
    "start_time": "2023-08-16T12:30:03.172Z"
   },
   {
    "duration": 6,
    "start_time": "2023-08-16T12:30:03.207Z"
   },
   {
    "duration": 111,
    "start_time": "2023-08-16T12:30:03.215Z"
   },
   {
    "duration": 34,
    "start_time": "2023-08-16T12:30:03.329Z"
   },
   {
    "duration": 36,
    "start_time": "2023-08-16T12:30:03.366Z"
   },
   {
    "duration": 206,
    "start_time": "2023-08-16T12:30:03.404Z"
   },
   {
    "duration": 19,
    "start_time": "2023-08-16T12:30:17.407Z"
   },
   {
    "duration": 5204,
    "start_time": "2023-08-16T12:30:37.434Z"
   },
   {
    "duration": 2027,
    "start_time": "2023-08-16T12:30:46.027Z"
   },
   {
    "duration": 32,
    "start_time": "2023-08-16T12:30:48.057Z"
   },
   {
    "duration": 12,
    "start_time": "2023-08-16T12:30:48.091Z"
   },
   {
    "duration": 13,
    "start_time": "2023-08-16T12:30:48.104Z"
   },
   {
    "duration": 36,
    "start_time": "2023-08-16T12:30:48.119Z"
   },
   {
    "duration": 147,
    "start_time": "2023-08-16T12:30:48.157Z"
   },
   {
    "duration": 7,
    "start_time": "2023-08-16T12:30:48.307Z"
   },
   {
    "duration": 524,
    "start_time": "2023-08-16T12:30:48.316Z"
   },
   {
    "duration": 31,
    "start_time": "2023-08-16T12:30:48.842Z"
   },
   {
    "duration": 46,
    "start_time": "2023-08-16T12:30:48.875Z"
   },
   {
    "duration": 424,
    "start_time": "2023-08-16T12:30:48.922Z"
   },
   {
    "duration": 9,
    "start_time": "2023-08-16T12:30:49.359Z"
   },
   {
    "duration": 25,
    "start_time": "2023-08-16T12:30:49.370Z"
   },
   {
    "duration": 5,
    "start_time": "2023-08-16T12:30:49.398Z"
   },
   {
    "duration": 55,
    "start_time": "2023-08-16T12:30:49.405Z"
   },
   {
    "duration": 11,
    "start_time": "2023-08-16T12:30:49.462Z"
   },
   {
    "duration": 16,
    "start_time": "2023-08-16T12:30:49.475Z"
   },
   {
    "duration": 5113,
    "start_time": "2023-08-16T12:30:49.493Z"
   },
   {
    "duration": 6053,
    "start_time": "2023-08-16T12:31:56.026Z"
   },
   {
    "duration": 6168,
    "start_time": "2023-08-16T12:32:09.479Z"
   },
   {
    "duration": 16,
    "start_time": "2023-08-16T12:32:27.353Z"
   },
   {
    "duration": 6238,
    "start_time": "2023-08-16T12:33:10.997Z"
   },
   {
    "duration": 2092,
    "start_time": "2023-08-16T12:33:30.801Z"
   },
   {
    "duration": 33,
    "start_time": "2023-08-16T12:33:32.896Z"
   },
   {
    "duration": 14,
    "start_time": "2023-08-16T12:33:32.931Z"
   },
   {
    "duration": 16,
    "start_time": "2023-08-16T12:33:32.947Z"
   },
   {
    "duration": 27,
    "start_time": "2023-08-16T12:33:32.965Z"
   },
   {
    "duration": 139,
    "start_time": "2023-08-16T12:33:32.993Z"
   },
   {
    "duration": 6,
    "start_time": "2023-08-16T12:33:33.134Z"
   },
   {
    "duration": 446,
    "start_time": "2023-08-16T12:33:33.142Z"
   },
   {
    "duration": 21,
    "start_time": "2023-08-16T12:33:33.590Z"
   },
   {
    "duration": 66,
    "start_time": "2023-08-16T12:33:33.612Z"
   },
   {
    "duration": 386,
    "start_time": "2023-08-16T12:33:33.680Z"
   },
   {
    "duration": 9,
    "start_time": "2023-08-16T12:33:34.069Z"
   },
   {
    "duration": 13,
    "start_time": "2023-08-16T12:33:34.080Z"
   },
   {
    "duration": 8,
    "start_time": "2023-08-16T12:33:34.097Z"
   },
   {
    "duration": 30,
    "start_time": "2023-08-16T12:33:34.107Z"
   },
   {
    "duration": 4,
    "start_time": "2023-08-16T12:33:34.139Z"
   },
   {
    "duration": 8,
    "start_time": "2023-08-16T12:33:34.159Z"
   },
   {
    "duration": 5320,
    "start_time": "2023-08-16T12:33:34.169Z"
   },
   {
    "duration": 7,
    "start_time": "2023-08-16T12:34:12.152Z"
   },
   {
    "duration": 145,
    "start_time": "2023-08-16T12:34:16.615Z"
   },
   {
    "duration": 5,
    "start_time": "2023-08-16T12:34:19.975Z"
   },
   {
    "duration": 89,
    "start_time": "2023-08-16T12:34:25.103Z"
   },
   {
    "duration": 5,
    "start_time": "2023-08-16T12:34:28.069Z"
   },
   {
    "duration": 5,
    "start_time": "2023-08-16T12:34:32.244Z"
   },
   {
    "duration": 40,
    "start_time": "2023-08-16T12:34:36.243Z"
   },
   {
    "duration": 6,
    "start_time": "2023-08-16T12:34:40.392Z"
   },
   {
    "duration": 69,
    "start_time": "2023-08-16T12:34:52.325Z"
   },
   {
    "duration": 5718,
    "start_time": "2023-08-16T12:35:25.472Z"
   },
   {
    "duration": 729,
    "start_time": "2023-08-16T12:35:46.932Z"
   },
   {
    "duration": 11,
    "start_time": "2023-08-16T12:35:51.274Z"
   },
   {
    "duration": 23,
    "start_time": "2023-08-16T12:36:44.842Z"
   },
   {
    "duration": 5,
    "start_time": "2023-08-16T12:36:55.115Z"
   },
   {
    "duration": 6,
    "start_time": "2023-08-16T12:36:57.813Z"
   },
   {
    "duration": 5,
    "start_time": "2023-08-16T12:37:03.983Z"
   },
   {
    "duration": 12,
    "start_time": "2023-08-16T12:37:08.074Z"
   },
   {
    "duration": 5,
    "start_time": "2023-08-16T12:37:11.089Z"
   },
   {
    "duration": 6,
    "start_time": "2023-08-16T12:37:14.299Z"
   },
   {
    "duration": 5,
    "start_time": "2023-08-16T12:37:19.122Z"
   },
   {
    "duration": 5723,
    "start_time": "2023-08-16T12:37:25.691Z"
   },
   {
    "duration": 16,
    "start_time": "2023-08-16T12:37:39.525Z"
   },
   {
    "duration": 5751,
    "start_time": "2023-08-16T12:38:00.746Z"
   },
   {
    "duration": 2364,
    "start_time": "2023-08-16T12:38:14.876Z"
   },
   {
    "duration": 32,
    "start_time": "2023-08-16T12:38:17.242Z"
   },
   {
    "duration": 13,
    "start_time": "2023-08-16T12:38:17.276Z"
   },
   {
    "duration": 17,
    "start_time": "2023-08-16T12:38:17.291Z"
   },
   {
    "duration": 39,
    "start_time": "2023-08-16T12:38:17.311Z"
   },
   {
    "duration": 142,
    "start_time": "2023-08-16T12:38:17.352Z"
   },
   {
    "duration": 7,
    "start_time": "2023-08-16T12:38:17.496Z"
   },
   {
    "duration": 461,
    "start_time": "2023-08-16T12:38:17.505Z"
   },
   {
    "duration": 21,
    "start_time": "2023-08-16T12:38:17.969Z"
   },
   {
    "duration": 71,
    "start_time": "2023-08-16T12:38:17.992Z"
   },
   {
    "duration": 456,
    "start_time": "2023-08-16T12:38:18.065Z"
   },
   {
    "duration": 14,
    "start_time": "2023-08-16T12:38:18.523Z"
   },
   {
    "duration": 25,
    "start_time": "2023-08-16T12:38:18.540Z"
   },
   {
    "duration": 13,
    "start_time": "2023-08-16T12:38:18.569Z"
   },
   {
    "duration": 38,
    "start_time": "2023-08-16T12:38:18.585Z"
   },
   {
    "duration": 4,
    "start_time": "2023-08-16T12:38:18.625Z"
   },
   {
    "duration": 19,
    "start_time": "2023-08-16T12:38:18.630Z"
   },
   {
    "duration": 5314,
    "start_time": "2023-08-16T12:38:18.651Z"
   },
   {
    "duration": 4,
    "start_time": "2023-08-16T12:39:16.183Z"
   },
   {
    "duration": 5261,
    "start_time": "2023-08-16T12:39:34.547Z"
   },
   {
    "duration": 132,
    "start_time": "2023-08-16T12:40:42.527Z"
   },
   {
    "duration": 5503,
    "start_time": "2023-08-16T12:42:14.894Z"
   },
   {
    "duration": 143,
    "start_time": "2023-08-16T12:42:26.404Z"
   },
   {
    "duration": 5,
    "start_time": "2023-08-16T12:42:31.643Z"
   },
   {
    "duration": 19,
    "start_time": "2023-08-16T12:42:31.827Z"
   },
   {
    "duration": 4,
    "start_time": "2023-08-16T12:42:32.013Z"
   },
   {
    "duration": 7,
    "start_time": "2023-08-16T12:42:32.211Z"
   },
   {
    "duration": 5465,
    "start_time": "2023-08-16T12:42:33.234Z"
   },
   {
    "duration": 167,
    "start_time": "2023-08-16T12:42:38.702Z"
   },
   {
    "duration": 2049,
    "start_time": "2023-08-16T12:42:44.946Z"
   },
   {
    "duration": 33,
    "start_time": "2023-08-16T12:42:46.998Z"
   },
   {
    "duration": 13,
    "start_time": "2023-08-16T12:42:47.032Z"
   },
   {
    "duration": 167,
    "start_time": "2023-08-16T12:42:47.048Z"
   },
   {
    "duration": 33,
    "start_time": "2023-08-16T12:42:47.217Z"
   },
   {
    "duration": 153,
    "start_time": "2023-08-16T12:42:47.251Z"
   },
   {
    "duration": 7,
    "start_time": "2023-08-16T12:42:47.405Z"
   },
   {
    "duration": 434,
    "start_time": "2023-08-16T12:42:47.413Z"
   },
   {
    "duration": 26,
    "start_time": "2023-08-16T12:42:47.848Z"
   },
   {
    "duration": 56,
    "start_time": "2023-08-16T12:42:47.877Z"
   },
   {
    "duration": 418,
    "start_time": "2023-08-16T12:42:47.935Z"
   },
   {
    "duration": 10,
    "start_time": "2023-08-16T12:42:48.359Z"
   },
   {
    "duration": 22,
    "start_time": "2023-08-16T12:42:48.371Z"
   },
   {
    "duration": 19,
    "start_time": "2023-08-16T12:42:48.395Z"
   },
   {
    "duration": 28,
    "start_time": "2023-08-16T12:42:48.416Z"
   },
   {
    "duration": 6,
    "start_time": "2023-08-16T12:42:48.447Z"
   },
   {
    "duration": 52,
    "start_time": "2023-08-16T12:42:48.455Z"
   },
   {
    "duration": 5005,
    "start_time": "2023-08-16T12:42:48.510Z"
   },
   {
    "duration": 134,
    "start_time": "2023-08-16T12:42:53.517Z"
   },
   {
    "duration": 187,
    "start_time": "2023-08-16T12:43:11.854Z"
   },
   {
    "duration": 192,
    "start_time": "2023-08-16T12:43:17.210Z"
   },
   {
    "duration": 171,
    "start_time": "2023-08-16T12:43:37.427Z"
   },
   {
    "duration": 397,
    "start_time": "2023-08-16T12:44:01.371Z"
   },
   {
    "duration": 142,
    "start_time": "2023-08-16T12:44:05.173Z"
   },
   {
    "duration": 173,
    "start_time": "2023-08-16T12:44:09.691Z"
   },
   {
    "duration": 187,
    "start_time": "2023-08-16T12:44:14.462Z"
   },
   {
    "duration": 236,
    "start_time": "2023-08-16T12:44:18.202Z"
   },
   {
    "duration": 139,
    "start_time": "2023-08-16T12:44:35.725Z"
   },
   {
    "duration": 214,
    "start_time": "2023-08-16T12:44:39.435Z"
   },
   {
    "duration": 4,
    "start_time": "2023-08-16T12:44:58.116Z"
   },
   {
    "duration": 84,
    "start_time": "2023-08-16T12:45:07.787Z"
   },
   {
    "duration": 5,
    "start_time": "2023-08-16T12:45:11.691Z"
   },
   {
    "duration": 227,
    "start_time": "2023-08-16T12:45:18.803Z"
   },
   {
    "duration": 177,
    "start_time": "2023-08-16T12:47:42.015Z"
   },
   {
    "duration": 5325,
    "start_time": "2023-08-16T12:55:13.554Z"
   },
   {
    "duration": 2938,
    "start_time": "2023-08-16T12:56:50.693Z"
   },
   {
    "duration": 174,
    "start_time": "2023-08-16T12:56:56.504Z"
   },
   {
    "duration": 5151,
    "start_time": "2023-08-16T12:57:31.722Z"
   },
   {
    "duration": 206,
    "start_time": "2023-08-16T12:57:48.600Z"
   },
   {
    "duration": 2216,
    "start_time": "2023-08-16T12:58:03.236Z"
   },
   {
    "duration": 33,
    "start_time": "2023-08-16T12:58:05.455Z"
   },
   {
    "duration": 14,
    "start_time": "2023-08-16T12:58:05.490Z"
   },
   {
    "duration": 21,
    "start_time": "2023-08-16T12:58:05.506Z"
   },
   {
    "duration": 42,
    "start_time": "2023-08-16T12:58:05.530Z"
   },
   {
    "duration": 150,
    "start_time": "2023-08-16T12:58:05.574Z"
   },
   {
    "duration": 7,
    "start_time": "2023-08-16T12:58:05.726Z"
   },
   {
    "duration": 464,
    "start_time": "2023-08-16T12:58:05.734Z"
   },
   {
    "duration": 21,
    "start_time": "2023-08-16T12:58:06.200Z"
   },
   {
    "duration": 66,
    "start_time": "2023-08-16T12:58:06.223Z"
   },
   {
    "duration": 392,
    "start_time": "2023-08-16T12:58:06.291Z"
   },
   {
    "duration": 9,
    "start_time": "2023-08-16T12:58:06.685Z"
   },
   {
    "duration": 62,
    "start_time": "2023-08-16T12:58:06.695Z"
   },
   {
    "duration": 35,
    "start_time": "2023-08-16T12:58:06.759Z"
   },
   {
    "duration": 30,
    "start_time": "2023-08-16T12:58:06.795Z"
   },
   {
    "duration": 52,
    "start_time": "2023-08-16T12:58:06.827Z"
   },
   {
    "duration": 29,
    "start_time": "2023-08-16T12:58:06.881Z"
   },
   {
    "duration": 5321,
    "start_time": "2023-08-16T12:58:06.912Z"
   },
   {
    "duration": 213,
    "start_time": "2023-08-16T12:58:12.235Z"
   },
   {
    "duration": 2174,
    "start_time": "2023-08-16T12:58:22.420Z"
   },
   {
    "duration": 32,
    "start_time": "2023-08-16T12:58:24.596Z"
   },
   {
    "duration": 13,
    "start_time": "2023-08-16T12:58:24.630Z"
   },
   {
    "duration": 16,
    "start_time": "2023-08-16T12:58:24.645Z"
   },
   {
    "duration": 27,
    "start_time": "2023-08-16T12:58:24.664Z"
   },
   {
    "duration": 152,
    "start_time": "2023-08-16T12:58:24.693Z"
   },
   {
    "duration": 13,
    "start_time": "2023-08-16T12:58:24.848Z"
   },
   {
    "duration": 464,
    "start_time": "2023-08-16T12:58:24.862Z"
   },
   {
    "duration": 39,
    "start_time": "2023-08-16T12:58:25.329Z"
   },
   {
    "duration": 55,
    "start_time": "2023-08-16T12:58:25.372Z"
   },
   {
    "duration": 440,
    "start_time": "2023-08-16T12:58:25.429Z"
   },
   {
    "duration": 10,
    "start_time": "2023-08-16T12:58:25.870Z"
   },
   {
    "duration": 13,
    "start_time": "2023-08-16T12:58:25.881Z"
   },
   {
    "duration": 17,
    "start_time": "2023-08-16T12:58:25.897Z"
   },
   {
    "duration": 34,
    "start_time": "2023-08-16T12:58:25.916Z"
   },
   {
    "duration": 20,
    "start_time": "2023-08-16T12:58:25.952Z"
   },
   {
    "duration": 16,
    "start_time": "2023-08-16T12:58:25.974Z"
   },
   {
    "duration": 4986,
    "start_time": "2023-08-16T12:58:25.992Z"
   },
   {
    "duration": 208,
    "start_time": "2023-08-16T12:58:30.980Z"
   },
   {
    "duration": 2176,
    "start_time": "2023-08-16T12:58:41.968Z"
   },
   {
    "duration": 32,
    "start_time": "2023-08-16T12:58:44.146Z"
   },
   {
    "duration": 14,
    "start_time": "2023-08-16T12:58:44.180Z"
   },
   {
    "duration": 13,
    "start_time": "2023-08-16T12:58:44.196Z"
   },
   {
    "duration": 25,
    "start_time": "2023-08-16T12:58:44.211Z"
   },
   {
    "duration": 146,
    "start_time": "2023-08-16T12:58:44.239Z"
   },
   {
    "duration": 7,
    "start_time": "2023-08-16T12:58:44.388Z"
   },
   {
    "duration": 457,
    "start_time": "2023-08-16T12:58:44.397Z"
   },
   {
    "duration": 22,
    "start_time": "2023-08-16T12:58:44.856Z"
   },
   {
    "duration": 48,
    "start_time": "2023-08-16T12:58:44.879Z"
   },
   {
    "duration": 460,
    "start_time": "2023-08-16T12:58:44.929Z"
   },
   {
    "duration": 12,
    "start_time": "2023-08-16T12:58:45.391Z"
   },
   {
    "duration": 25,
    "start_time": "2023-08-16T12:58:45.405Z"
   },
   {
    "duration": 17,
    "start_time": "2023-08-16T12:58:45.433Z"
   },
   {
    "duration": 28,
    "start_time": "2023-08-16T12:58:45.452Z"
   },
   {
    "duration": 36,
    "start_time": "2023-08-16T12:58:45.482Z"
   },
   {
    "duration": 30,
    "start_time": "2023-08-16T12:58:45.520Z"
   },
   {
    "duration": 2885,
    "start_time": "2023-08-16T12:58:45.552Z"
   },
   {
    "duration": 190,
    "start_time": "2023-08-16T12:58:48.439Z"
   },
   {
    "duration": 184,
    "start_time": "2023-08-16T12:59:11.404Z"
   },
   {
    "duration": 2129,
    "start_time": "2023-08-16T12:59:47.747Z"
   },
   {
    "duration": 33,
    "start_time": "2023-08-16T12:59:49.879Z"
   },
   {
    "duration": 14,
    "start_time": "2023-08-16T12:59:49.915Z"
   },
   {
    "duration": 33,
    "start_time": "2023-08-16T12:59:49.930Z"
   },
   {
    "duration": 44,
    "start_time": "2023-08-16T12:59:49.965Z"
   },
   {
    "duration": 157,
    "start_time": "2023-08-16T12:59:50.012Z"
   },
   {
    "duration": 6,
    "start_time": "2023-08-16T12:59:50.171Z"
   },
   {
    "duration": 457,
    "start_time": "2023-08-16T12:59:50.179Z"
   },
   {
    "duration": 26,
    "start_time": "2023-08-16T12:59:50.638Z"
   },
   {
    "duration": 46,
    "start_time": "2023-08-16T12:59:50.666Z"
   },
   {
    "duration": 443,
    "start_time": "2023-08-16T12:59:50.713Z"
   },
   {
    "duration": 8,
    "start_time": "2023-08-16T12:59:51.159Z"
   },
   {
    "duration": 34,
    "start_time": "2023-08-16T12:59:51.169Z"
   },
   {
    "duration": 21,
    "start_time": "2023-08-16T12:59:51.206Z"
   },
   {
    "duration": 23,
    "start_time": "2023-08-16T12:59:51.229Z"
   },
   {
    "duration": 19,
    "start_time": "2023-08-16T12:59:51.253Z"
   },
   {
    "duration": 98,
    "start_time": "2023-08-16T12:59:51.275Z"
   },
   {
    "duration": 2038,
    "start_time": "2023-08-16T12:59:51.375Z"
   },
   {
    "duration": 195,
    "start_time": "2023-08-16T12:59:53.416Z"
   },
   {
    "duration": 4,
    "start_time": "2023-08-16T13:00:25.979Z"
   },
   {
    "duration": 2129,
    "start_time": "2023-08-16T13:01:26.452Z"
   },
   {
    "duration": 32,
    "start_time": "2023-08-16T13:01:28.583Z"
   },
   {
    "duration": 14,
    "start_time": "2023-08-16T13:01:28.617Z"
   },
   {
    "duration": 25,
    "start_time": "2023-08-16T13:01:28.632Z"
   },
   {
    "duration": 31,
    "start_time": "2023-08-16T13:01:28.660Z"
   },
   {
    "duration": 154,
    "start_time": "2023-08-16T13:01:28.693Z"
   },
   {
    "duration": 14,
    "start_time": "2023-08-16T13:01:28.849Z"
   },
   {
    "duration": 465,
    "start_time": "2023-08-16T13:01:28.866Z"
   },
   {
    "duration": 41,
    "start_time": "2023-08-16T13:01:29.333Z"
   },
   {
    "duration": 76,
    "start_time": "2023-08-16T13:01:29.376Z"
   },
   {
    "duration": 432,
    "start_time": "2023-08-16T13:01:29.453Z"
   },
   {
    "duration": 10,
    "start_time": "2023-08-16T13:01:29.887Z"
   },
   {
    "duration": 17,
    "start_time": "2023-08-16T13:01:29.899Z"
   },
   {
    "duration": 21,
    "start_time": "2023-08-16T13:01:29.919Z"
   },
   {
    "duration": 28,
    "start_time": "2023-08-16T13:01:29.942Z"
   },
   {
    "duration": 20,
    "start_time": "2023-08-16T13:01:29.972Z"
   },
   {
    "duration": 11,
    "start_time": "2023-08-16T13:01:29.994Z"
   },
   {
    "duration": 5113,
    "start_time": "2023-08-16T13:01:30.006Z"
   },
   {
    "duration": 213,
    "start_time": "2023-08-16T13:01:35.121Z"
   },
   {
    "duration": 87,
    "start_time": "2023-08-16T13:02:34.774Z"
   },
   {
    "duration": 222,
    "start_time": "2023-08-16T13:03:18.600Z"
   },
   {
    "duration": 5,
    "start_time": "2023-08-16T13:03:32.688Z"
   },
   {
    "duration": 2308,
    "start_time": "2023-08-16T13:06:14.279Z"
   },
   {
    "duration": 34,
    "start_time": "2023-08-16T13:06:16.590Z"
   },
   {
    "duration": 20,
    "start_time": "2023-08-16T13:06:16.626Z"
   },
   {
    "duration": 29,
    "start_time": "2023-08-16T13:06:16.648Z"
   },
   {
    "duration": 25,
    "start_time": "2023-08-16T13:06:16.679Z"
   },
   {
    "duration": 142,
    "start_time": "2023-08-16T13:06:16.706Z"
   },
   {
    "duration": 11,
    "start_time": "2023-08-16T13:06:16.850Z"
   },
   {
    "duration": 765,
    "start_time": "2023-08-16T13:06:16.864Z"
   },
   {
    "duration": 33,
    "start_time": "2023-08-16T13:06:17.631Z"
   },
   {
    "duration": 51,
    "start_time": "2023-08-16T13:06:17.666Z"
   },
   {
    "duration": 494,
    "start_time": "2023-08-16T13:06:17.719Z"
   },
   {
    "duration": 10,
    "start_time": "2023-08-16T13:06:18.215Z"
   },
   {
    "duration": 36,
    "start_time": "2023-08-16T13:06:18.227Z"
   },
   {
    "duration": 19,
    "start_time": "2023-08-16T13:06:18.267Z"
   },
   {
    "duration": 42,
    "start_time": "2023-08-16T13:06:18.289Z"
   },
   {
    "duration": 21,
    "start_time": "2023-08-16T13:06:18.334Z"
   },
   {
    "duration": 37,
    "start_time": "2023-08-16T13:06:18.357Z"
   },
   {
    "duration": 4480,
    "start_time": "2023-08-16T13:06:18.396Z"
   },
   {
    "duration": 221,
    "start_time": "2023-08-16T13:06:22.879Z"
   },
   {
    "duration": 4603,
    "start_time": "2023-08-16T13:06:23.102Z"
   },
   {
    "duration": 4302,
    "start_time": "2023-08-16T13:06:40.613Z"
   },
   {
    "duration": 2469,
    "start_time": "2023-08-16T13:08:58.262Z"
   },
   {
    "duration": 136,
    "start_time": "2023-08-16T13:12:08.891Z"
   },
   {
    "duration": 276,
    "start_time": "2023-08-16T13:12:23.147Z"
   },
   {
    "duration": 15,
    "start_time": "2023-08-16T13:12:30.963Z"
   },
   {
    "duration": 12,
    "start_time": "2023-08-16T13:12:39.252Z"
   },
   {
    "duration": 27,
    "start_time": "2023-08-16T13:13:08.955Z"
   },
   {
    "duration": 15,
    "start_time": "2023-08-16T13:13:15.703Z"
   },
   {
    "duration": 7,
    "start_time": "2023-08-16T13:13:23.170Z"
   },
   {
    "duration": 11,
    "start_time": "2023-08-16T13:13:30.438Z"
   },
   {
    "duration": 8,
    "start_time": "2023-08-16T13:13:36.186Z"
   },
   {
    "duration": 14,
    "start_time": "2023-08-16T13:13:43.150Z"
   },
   {
    "duration": 253,
    "start_time": "2023-08-16T13:14:02.458Z"
   },
   {
    "duration": 308,
    "start_time": "2023-08-16T13:14:05.807Z"
   },
   {
    "duration": 20,
    "start_time": "2023-08-16T13:14:26.484Z"
   },
   {
    "duration": 20,
    "start_time": "2023-08-16T13:14:59.146Z"
   },
   {
    "duration": 21,
    "start_time": "2023-08-16T13:15:01.314Z"
   },
   {
    "duration": 7,
    "start_time": "2023-08-16T13:15:04.841Z"
   },
   {
    "duration": 7,
    "start_time": "2023-08-16T13:15:10.164Z"
   },
   {
    "duration": 132,
    "start_time": "2023-08-16T13:15:14.668Z"
   },
   {
    "duration": 13,
    "start_time": "2023-08-16T13:15:27.498Z"
   },
   {
    "duration": 13,
    "start_time": "2023-08-16T13:15:33.637Z"
   },
   {
    "duration": 17,
    "start_time": "2023-08-16T13:15:39.542Z"
   },
   {
    "duration": 17,
    "start_time": "2023-08-16T13:15:41.243Z"
   },
   {
    "duration": 5,
    "start_time": "2023-08-16T13:15:43.136Z"
   },
   {
    "duration": 20,
    "start_time": "2023-08-16T13:16:11.997Z"
   },
   {
    "duration": 288,
    "start_time": "2023-08-16T13:16:17.356Z"
   },
   {
    "duration": 161,
    "start_time": "2023-08-16T13:16:29.736Z"
   },
   {
    "duration": 266,
    "start_time": "2023-08-16T13:16:32.592Z"
   },
   {
    "duration": 2459,
    "start_time": "2023-08-16T13:48:50.336Z"
   },
   {
    "duration": 33,
    "start_time": "2023-08-16T13:48:52.798Z"
   },
   {
    "duration": 15,
    "start_time": "2023-08-16T13:48:52.833Z"
   },
   {
    "duration": 99,
    "start_time": "2023-08-16T13:48:52.850Z"
   },
   {
    "duration": 27,
    "start_time": "2023-08-16T13:48:52.953Z"
   },
   {
    "duration": 155,
    "start_time": "2023-08-16T13:48:52.983Z"
   },
   {
    "duration": 6,
    "start_time": "2023-08-16T13:48:53.140Z"
   },
   {
    "duration": 486,
    "start_time": "2023-08-16T13:48:53.148Z"
   },
   {
    "duration": 31,
    "start_time": "2023-08-16T13:48:53.636Z"
   },
   {
    "duration": 47,
    "start_time": "2023-08-16T13:48:53.669Z"
   },
   {
    "duration": 440,
    "start_time": "2023-08-16T13:48:53.718Z"
   },
   {
    "duration": 10,
    "start_time": "2023-08-16T13:48:54.161Z"
   },
   {
    "duration": 22,
    "start_time": "2023-08-16T13:48:54.174Z"
   },
   {
    "duration": 25,
    "start_time": "2023-08-16T13:48:54.200Z"
   },
   {
    "duration": 30,
    "start_time": "2023-08-16T13:48:54.228Z"
   },
   {
    "duration": 5,
    "start_time": "2023-08-16T13:48:54.260Z"
   },
   {
    "duration": 17,
    "start_time": "2023-08-16T13:48:54.267Z"
   },
   {
    "duration": 2963,
    "start_time": "2023-08-16T13:48:54.287Z"
   },
   {
    "duration": 244,
    "start_time": "2023-08-16T13:48:57.252Z"
   },
   {
    "duration": 3385,
    "start_time": "2023-08-16T13:48:57.498Z"
   },
   {
    "duration": 164,
    "start_time": "2023-08-16T13:49:00.886Z"
   },
   {
    "duration": 3091,
    "start_time": "2023-08-16T13:49:40.227Z"
   },
   {
    "duration": 196,
    "start_time": "2023-08-16T13:50:14.953Z"
   },
   {
    "duration": 22,
    "start_time": "2023-08-16T13:50:22.414Z"
   },
   {
    "duration": 9,
    "start_time": "2023-08-16T13:50:26.368Z"
   },
   {
    "duration": 18,
    "start_time": "2023-08-16T13:50:30.693Z"
   },
   {
    "duration": 4,
    "start_time": "2023-08-16T13:50:32.769Z"
   },
   {
    "duration": 80,
    "start_time": "2023-08-16T13:50:34.891Z"
   },
   {
    "duration": 295,
    "start_time": "2023-08-16T13:50:36.941Z"
   },
   {
    "duration": 6,
    "start_time": "2023-08-16T13:50:51.859Z"
   },
   {
    "duration": 16,
    "start_time": "2023-08-16T13:51:00.128Z"
   },
   {
    "duration": 17,
    "start_time": "2023-08-16T13:51:04.206Z"
   },
   {
    "duration": 6,
    "start_time": "2023-08-16T13:51:14.512Z"
   },
   {
    "duration": 148,
    "start_time": "2023-08-16T13:51:21.352Z"
   },
   {
    "duration": 211,
    "start_time": "2023-08-16T13:51:56.805Z"
   },
   {
    "duration": 6,
    "start_time": "2023-08-16T13:52:02.886Z"
   },
   {
    "duration": 170,
    "start_time": "2023-08-16T13:52:09.826Z"
   },
   {
    "duration": 6,
    "start_time": "2023-08-16T13:52:18.564Z"
   },
   {
    "duration": 7,
    "start_time": "2023-08-16T13:52:24.373Z"
   },
   {
    "duration": 6,
    "start_time": "2023-08-16T13:52:31.801Z"
   },
   {
    "duration": 7,
    "start_time": "2023-08-16T13:52:38.500Z"
   },
   {
    "duration": 8,
    "start_time": "2023-08-16T13:52:55.215Z"
   },
   {
    "duration": 7,
    "start_time": "2023-08-16T13:53:00.145Z"
   },
   {
    "duration": 7,
    "start_time": "2023-08-16T13:53:14.102Z"
   },
   {
    "duration": 6,
    "start_time": "2023-08-16T13:53:16.113Z"
   },
   {
    "duration": 7,
    "start_time": "2023-08-16T13:53:32.723Z"
   },
   {
    "duration": 7,
    "start_time": "2023-08-16T13:53:38.810Z"
   },
   {
    "duration": 19,
    "start_time": "2023-08-16T13:54:02.146Z"
   },
   {
    "duration": 6,
    "start_time": "2023-08-16T13:54:09.659Z"
   },
   {
    "duration": 2345,
    "start_time": "2023-08-16T13:54:18.924Z"
   },
   {
    "duration": 35,
    "start_time": "2023-08-16T13:54:21.271Z"
   },
   {
    "duration": 15,
    "start_time": "2023-08-16T13:54:21.308Z"
   },
   {
    "duration": 13,
    "start_time": "2023-08-16T13:54:21.325Z"
   },
   {
    "duration": 48,
    "start_time": "2023-08-16T13:54:21.341Z"
   },
   {
    "duration": 148,
    "start_time": "2023-08-16T13:54:21.392Z"
   },
   {
    "duration": 16,
    "start_time": "2023-08-16T13:54:21.542Z"
   },
   {
    "duration": 469,
    "start_time": "2023-08-16T13:54:21.560Z"
   },
   {
    "duration": 44,
    "start_time": "2023-08-16T13:54:22.031Z"
   },
   {
    "duration": 84,
    "start_time": "2023-08-16T13:54:22.077Z"
   },
   {
    "duration": 436,
    "start_time": "2023-08-16T13:54:22.164Z"
   },
   {
    "duration": 9,
    "start_time": "2023-08-16T13:54:22.602Z"
   },
   {
    "duration": 35,
    "start_time": "2023-08-16T13:54:22.613Z"
   },
   {
    "duration": 18,
    "start_time": "2023-08-16T13:54:22.652Z"
   },
   {
    "duration": 44,
    "start_time": "2023-08-16T13:54:22.673Z"
   },
   {
    "duration": 37,
    "start_time": "2023-08-16T13:54:22.719Z"
   },
   {
    "duration": 25,
    "start_time": "2023-08-16T13:54:22.758Z"
   },
   {
    "duration": 1899,
    "start_time": "2023-08-16T13:54:22.785Z"
   },
   {
    "duration": 213,
    "start_time": "2023-08-16T13:54:24.686Z"
   },
   {
    "duration": 1958,
    "start_time": "2023-08-16T13:54:24.901Z"
   },
   {
    "duration": 7,
    "start_time": "2023-08-16T13:54:26.861Z"
   },
   {
    "duration": 2252,
    "start_time": "2023-08-16T13:54:47.915Z"
   },
   {
    "duration": 32,
    "start_time": "2023-08-16T13:54:50.170Z"
   },
   {
    "duration": 13,
    "start_time": "2023-08-16T13:54:50.204Z"
   },
   {
    "duration": 19,
    "start_time": "2023-08-16T13:54:50.220Z"
   },
   {
    "duration": 40,
    "start_time": "2023-08-16T13:54:50.242Z"
   },
   {
    "duration": 157,
    "start_time": "2023-08-16T13:54:50.285Z"
   },
   {
    "duration": 7,
    "start_time": "2023-08-16T13:54:50.444Z"
   },
   {
    "duration": 493,
    "start_time": "2023-08-16T13:54:50.453Z"
   },
   {
    "duration": 28,
    "start_time": "2023-08-16T13:54:50.948Z"
   },
   {
    "duration": 83,
    "start_time": "2023-08-16T13:54:50.979Z"
   },
   {
    "duration": 417,
    "start_time": "2023-08-16T13:54:51.064Z"
   },
   {
    "duration": 8,
    "start_time": "2023-08-16T13:54:51.483Z"
   },
   {
    "duration": 20,
    "start_time": "2023-08-16T13:54:51.494Z"
   },
   {
    "duration": 21,
    "start_time": "2023-08-16T13:54:51.516Z"
   },
   {
    "duration": 53,
    "start_time": "2023-08-16T13:54:51.539Z"
   },
   {
    "duration": 17,
    "start_time": "2023-08-16T13:54:51.594Z"
   },
   {
    "duration": 27,
    "start_time": "2023-08-16T13:54:51.613Z"
   },
   {
    "duration": 2910,
    "start_time": "2023-08-16T13:54:51.642Z"
   },
   {
    "duration": 217,
    "start_time": "2023-08-16T13:54:54.555Z"
   },
   {
    "duration": 3024,
    "start_time": "2023-08-16T13:54:54.775Z"
   },
   {
    "duration": 9,
    "start_time": "2023-08-16T13:54:57.801Z"
   },
   {
    "duration": 2209,
    "start_time": "2023-08-16T13:55:57.415Z"
   },
   {
    "duration": 33,
    "start_time": "2023-08-16T13:55:59.626Z"
   },
   {
    "duration": 15,
    "start_time": "2023-08-16T13:55:59.661Z"
   },
   {
    "duration": 17,
    "start_time": "2023-08-16T13:55:59.677Z"
   },
   {
    "duration": 64,
    "start_time": "2023-08-16T13:55:59.697Z"
   },
   {
    "duration": 162,
    "start_time": "2023-08-16T13:55:59.763Z"
   },
   {
    "duration": 8,
    "start_time": "2023-08-16T13:55:59.927Z"
   },
   {
    "duration": 461,
    "start_time": "2023-08-16T13:55:59.938Z"
   },
   {
    "duration": 28,
    "start_time": "2023-08-16T13:56:00.401Z"
   },
   {
    "duration": 97,
    "start_time": "2023-08-16T13:56:00.432Z"
   },
   {
    "duration": 438,
    "start_time": "2023-08-16T13:56:00.531Z"
   },
   {
    "duration": 11,
    "start_time": "2023-08-16T13:56:00.972Z"
   },
   {
    "duration": 38,
    "start_time": "2023-08-16T13:56:00.985Z"
   },
   {
    "duration": 40,
    "start_time": "2023-08-16T13:56:01.026Z"
   },
   {
    "duration": 60,
    "start_time": "2023-08-16T13:56:01.069Z"
   },
   {
    "duration": 31,
    "start_time": "2023-08-16T13:56:01.131Z"
   },
   {
    "duration": 36,
    "start_time": "2023-08-16T13:56:01.164Z"
   },
   {
    "duration": 1679,
    "start_time": "2023-08-16T13:56:01.202Z"
   },
   {
    "duration": 201,
    "start_time": "2023-08-16T13:56:02.883Z"
   },
   {
    "duration": 17,
    "start_time": "2023-08-16T13:56:03.086Z"
   },
   {
    "duration": 13,
    "start_time": "2023-08-16T13:56:03.106Z"
   },
   {
    "duration": 16,
    "start_time": "2023-08-16T13:56:15.203Z"
   },
   {
    "duration": 2151,
    "start_time": "2023-08-16T13:56:25.442Z"
   },
   {
    "duration": 33,
    "start_time": "2023-08-16T13:56:27.596Z"
   },
   {
    "duration": 58,
    "start_time": "2023-08-16T13:56:27.631Z"
   },
   {
    "duration": 21,
    "start_time": "2023-08-16T13:56:27.692Z"
   },
   {
    "duration": 24,
    "start_time": "2023-08-16T13:56:27.717Z"
   },
   {
    "duration": 139,
    "start_time": "2023-08-16T13:56:27.743Z"
   },
   {
    "duration": 9,
    "start_time": "2023-08-16T13:56:27.885Z"
   },
   {
    "duration": 571,
    "start_time": "2023-08-16T13:56:27.896Z"
   },
   {
    "duration": 30,
    "start_time": "2023-08-16T13:56:28.470Z"
   },
   {
    "duration": 82,
    "start_time": "2023-08-16T13:56:28.502Z"
   },
   {
    "duration": 478,
    "start_time": "2023-08-16T13:56:28.586Z"
   },
   {
    "duration": 9,
    "start_time": "2023-08-16T13:56:29.066Z"
   },
   {
    "duration": 16,
    "start_time": "2023-08-16T13:56:29.080Z"
   },
   {
    "duration": 13,
    "start_time": "2023-08-16T13:56:29.100Z"
   },
   {
    "duration": 44,
    "start_time": "2023-08-16T13:56:29.115Z"
   },
   {
    "duration": 5,
    "start_time": "2023-08-16T13:56:29.161Z"
   },
   {
    "duration": 21,
    "start_time": "2023-08-16T13:56:29.168Z"
   },
   {
    "duration": 1618,
    "start_time": "2023-08-16T13:56:29.192Z"
   },
   {
    "duration": 210,
    "start_time": "2023-08-16T13:56:30.812Z"
   },
   {
    "duration": 360,
    "start_time": "2023-08-16T13:56:31.024Z"
   },
   {
    "duration": 9,
    "start_time": "2023-08-16T13:56:31.386Z"
   },
   {
    "duration": 8,
    "start_time": "2023-08-16T13:57:28.039Z"
   },
   {
    "duration": 7,
    "start_time": "2023-08-16T13:57:38.962Z"
   },
   {
    "duration": 216,
    "start_time": "2023-08-16T13:57:41.651Z"
   },
   {
    "duration": 350,
    "start_time": "2023-08-16T13:57:53.308Z"
   },
   {
    "duration": 410,
    "start_time": "2023-08-16T13:58:21.383Z"
   },
   {
    "duration": 398,
    "start_time": "2023-08-16T13:59:07.169Z"
   },
   {
    "duration": 422,
    "start_time": "2023-08-16T13:59:46.537Z"
   }
  ],
  "kernelspec": {
   "display_name": "Python 3 (ipykernel)",
   "language": "python",
   "name": "python3"
  },
  "language_info": {
   "codemirror_mode": {
    "name": "ipython",
    "version": 3
   },
   "file_extension": ".py",
   "mimetype": "text/x-python",
   "name": "python",
   "nbconvert_exporter": "python",
   "pygments_lexer": "ipython3",
   "version": "3.9.5"
  },
  "toc": {
   "base_numbering": 1,
   "nav_menu": {},
   "number_sections": false,
   "sideBar": true,
   "skip_h1_title": false,
   "title_cell": "Table of Contents",
   "title_sidebar": "Contents",
   "toc_cell": false,
   "toc_position": {},
   "toc_section_display": true,
   "toc_window_display": false
  },
  "varInspector": {
   "cols": {
    "lenName": 16,
    "lenType": 16,
    "lenVar": 40
   },
   "kernels_config": {
    "python": {
     "delete_cmd_postfix": "",
     "delete_cmd_prefix": "del ",
     "library": "var_list.py",
     "varRefreshCmd": "print(var_dic_list())"
    },
    "r": {
     "delete_cmd_postfix": ") ",
     "delete_cmd_prefix": "rm(",
     "library": "var_list.r",
     "varRefreshCmd": "cat(var_dic_list()) "
    }
   },
   "types_to_exclude": [
    "module",
    "function",
    "builtin_function_or_method",
    "instance",
    "_Feature"
   ],
   "window_display": false
  }
 },
 "nbformat": 4,
 "nbformat_minor": 5
}
